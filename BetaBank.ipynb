{
 "cells": [
  {
   "cell_type": "markdown",
   "metadata": {},
   "source": [
    "<div class=\"alert alert-success\">\n",
    "<font size=\"4\"><b>✔️ Комментарий ревьюера V4</b></font>\n",
    "    <br /> \n",
    "    <font size=\"3\", color = \"black\">\n",
    "<br />\n",
    "Все мои красные комментарии устранены, теперь можно принять работу 👍<br>\n",
    "\n",
    "При этом я тебе сейчас оставил жёлтый комментарий, который сам считаю с красным оттенком, в блоках про борьбу с дисбалансом комментарий о подборе гиперпараметров. Прочитай и обязательно прими к сведению.<br>\n",
    "\n",
    "А я на этом прощаюсь с тобой. Удачи в следующих проектах!"
   ]
  },
  {
   "cell_type": "markdown",
   "metadata": {},
   "source": [
    "<div class=\"alert alert-danger\">\n",
    "<font size=\"4\"><b>❌ Комментарий ревьюера V3</b></font>\n",
    "    <br /> \n",
    "    <font size=\"3\", color = \"black\">\n",
    "<br /> \n",
    "И снова добрый вечер!<br>\n",
    "Позитивные исправления вижу. Падение с get_feature_names_out было обусловлено небольшой подлянкой от Яндекса в виде того, что на хабе стоит не самый свежий модуль sklearn и метод имел чуть другое название, я тебе этот блок кода подкорректировал, там теперь проблем нет, но они есть в другом:\n",
    "\n",
    "+ С одной стороны, ты не кодируешь очевидно категориальный признак Gender, с другой, ты не удаляешь первоначальные колонки с категориальными признаками. И то, и другое - серьёзная ошибка. Собственно, из-за этого код падает в другом месте. Но теперь, думаю, тебе уже проще будет это исправить.\n",
    "\n",
    "+ В конце, в тестировании, ты всё ещё вызываешь f1_score указывая неверный порядок аргументов.\n",
    "\n",
    "Давай, мы выходим на финишную прямую, осталось чуть-чуть!"
   ]
  },
  {
   "cell_type": "markdown",
   "metadata": {},
   "source": [
    "<div class=\"alert alert-danger\">\n",
    "<font size=\"4\"><b>❌ Комментарий ревьюера V2</b></font>\n",
    "    <br /> \n",
    "    <font size=\"3\", color = \"black\">\n",
    "<br /> \n",
    "Привет ещё раз!<br>\n",
    "Какие сейчас есть важные недочёты:\n",
    "\n",
    "+ Апсемплинг всё ещё не делает выборку сбалансированной. Описал тебе в чём смысл действий и как нужно находить число, которое передаёшь в апсемпл.\n",
    "\n",
    "+ В одном из самых первых блоков ты считаешь метрику не по той переменной, в которую сохраняешь предсказания\n",
    "\n",
    "+ В блоке с тестированием ты передаёшь параметры в вычисление метрики f1 не в том порядке, так что на самом деле реальная метрика может быть ниже насчитанной. В таком случае тебе надо во-первых починить апсемплинг, во-вторых, следовать моему совету и лучше искать гиперпараметры моделей\n",
    "\n",
    "+ У тебя при перезапуске падает код\n",
    "\n",
    "Вроде не очень мало всего. Но, я верю, что ты справишься! Жду следующую отправку!"
   ]
  },
  {
   "cell_type": "markdown",
   "metadata": {},
   "source": [
    "<br/>    \n",
    "<div class=\"alert alert-info\">\n",
    "<h2> Комментарий студента v4: <a class=\"tocSkip\"> </h2>\n",
    "\n",
    "<b>👋:</b> Добрый день! \n",
    "    Чуть не сошла с ума... вроде по ОНЕ разобралась. По тестовой проверке сообщили, что верно написано. Высылаю новый вариант с F1 0.6 \n",
    "</div> \n"
   ]
  },
  {
   "cell_type": "markdown",
   "metadata": {},
   "source": [
    "<div class=\"alert alert-info\">\n",
    "<font size=\"4\"><b>Комментарий ревьюера</b></font>\n",
    "    <br /> \n",
    "    <font size=\"3\", color = \"black\">\n",
    "<br />\n",
    "    Привет, Эллина! Спасибо, что прислала задание :) <br>Меня зовут Никита Сон и я буду проверять твой проект. Предлагаю обращаться друг к другу на ты, как это принято в Практикуме, если ты не против. Но если хочешь на Вы - не буду возражать 🙂\n",
    "        \n",
    "Поехали 🚀\n",
    "    <br />\n",
    "\n",
    "Мои комментарии обозначены пометкой <b>Комментарий ревьюера</b>. При внесении правок в проект, пожалуйста, не меняй и не удаляй их т.к. дальнейшая проверка будет происходить в том числе на основе того, исправлены замечания в комментариях или нет. Зато ты всегда можешь оставить свои комментарии для меня :)\n",
    "    </font>\n",
    "</div>\n",
    "\n",
    "<div class=\"alert alert-success\">\n",
    "<font size=\"4\"><b>✔️ Комментарий ревьюера</b></font>\n",
    "    <br /> \n",
    "    <font size=\"3\", color = \"black\">\n",
    "<br />    \n",
    "В зелёных блоках будут позитивные комментарии\n",
    "<br />\n",
    "    </font>\n",
    "</div>\n",
    "\n",
    "<div class=\"alert alert-warning\">\n",
    "<font size=\"4\"><b>⚠️ Комментарий ревьюера</b></font>\n",
    "    <br /> \n",
    "    <font size=\"3\", color = \"black\">\n",
    "<br />\n",
    "В жёлтых - некритичные замечания\n",
    "    </font>\n",
    "</div>\n",
    "\n",
    "<div class=\"alert alert-danger\">\n",
    "<font size=\"4\"><b>❌ Комментарий ревьюера</b></font>\n",
    "    <br /> \n",
    "    <font size=\"3\", color = \"black\">\n",
    "<br /> \n",
    "В красных - важные замечания, которые надо обязательно устранить\n",
    "    </font>\n",
    "</div>\n",
    "\n",
    "<div class=\"alert alert-info\">\n",
    "<font size=\"4\">🍕<b> Комментарий ревьюера</b></font>\n",
    "    <br /> \n",
    "    <font size=\"3\", color = \"black\">\n",
    "<br /> \n",
    "В синих с пиццей - различные нейтральные сообщения, советы на будещее и прочее.\n",
    "    </font>\n",
    "</div>"
   ]
  },
  {
   "cell_type": "markdown",
   "metadata": {
    "toc": true
   },
   "source": [
    "<h1>Содержание<span class=\"tocSkip\"></span></h1>\n",
    "<div class=\"toc\"><ul class=\"toc-item\"><li><span><a href=\"#Подготовка-данных\" data-toc-modified-id=\"Подготовка-данных-1\"><span class=\"toc-item-num\">1&nbsp;&nbsp;</span>Подготовка данных</a></span></li><li><span><a href=\"#Исследование-задачи\" data-toc-modified-id=\"Исследование-задачи-2\"><span class=\"toc-item-num\">2&nbsp;&nbsp;</span>Исследование задачи</a></span><ul class=\"toc-item\"><li><span><a href=\"#Дерево\" data-toc-modified-id=\"Дерево-2.1\"><span class=\"toc-item-num\">2.1&nbsp;&nbsp;</span>Дерево</a></span></li><li><span><a href=\"#Лес\" data-toc-modified-id=\"Лес-2.2\"><span class=\"toc-item-num\">2.2&nbsp;&nbsp;</span>Лес</a></span></li><li><span><a href=\"#Логистическая-регрессия\" data-toc-modified-id=\"Логистическая-регрессия-2.3\"><span class=\"toc-item-num\">2.3&nbsp;&nbsp;</span>Логистическая регрессия</a></span></li></ul></li><li><span><a href=\"#Борьба-с-дисбалансом\" data-toc-modified-id=\"Борьба-с-дисбалансом-3\"><span class=\"toc-item-num\">3&nbsp;&nbsp;</span>Борьба с дисбалансом</a></span><ul class=\"toc-item\"><li><span><a href=\"#class_weight\" data-toc-modified-id=\"class_weight-3.1\"><span class=\"toc-item-num\">3.1&nbsp;&nbsp;</span>class_weight</a></span></li><li><span><a href=\"#Увеличение-выборки\" data-toc-modified-id=\"Увеличение-выборки-3.2\"><span class=\"toc-item-num\">3.2&nbsp;&nbsp;</span>Увеличение выборки</a></span></li></ul></li><li><span><a href=\"#Тестирование-модели\" data-toc-modified-id=\"Тестирование-модели-4\"><span class=\"toc-item-num\">4&nbsp;&nbsp;</span>Тестирование модели</a></span></li><li><span><a href=\"#Вывод:\" data-toc-modified-id=\"Вывод:-5\"><span class=\"toc-item-num\">5&nbsp;&nbsp;</span>Вывод:</a></span></li><li><span><a href=\"#Чек-лист-готовности-проекта\" data-toc-modified-id=\"Чек-лист-готовности-проекта-6\"><span class=\"toc-item-num\">6&nbsp;&nbsp;</span>Чек-лист готовности проекта</a></span></li></ul></div>"
   ]
  },
  {
   "cell_type": "markdown",
   "metadata": {},
   "source": [
    "# Отток клиентов"
   ]
  },
  {
   "cell_type": "markdown",
   "metadata": {},
   "source": [
    "Из «Бета-Банка» стали уходить клиенты. Каждый месяц. Немного, но заметно. Банковские маркетологи посчитали: сохранять текущих клиентов дешевле, чем привлекать новых.\n",
    "\n",
    "Нужно спрогнозировать, уйдёт клиент из банка в ближайшее время или нет. Вам предоставлены исторические данные о поведении клиентов и расторжении договоров с банком. \n",
    "\n",
    "Постройте модель с предельно большим значением *F1*-меры. Чтобы сдать проект успешно, нужно довести метрику до 0.59. Проверьте *F1*-меру на тестовой выборке самостоятельно.\n",
    "\n",
    "Дополнительно измеряйте *AUC-ROC*, сравнивайте её значение с *F1*-мерой.\n",
    "\n",
    "Источник данных: [https://www.kaggle.com/barelydedicated/bank-customer-churn-modeling](https://www.kaggle.com/barelydedicated/bank-customer-churn-modeling)"
   ]
  },
  {
   "cell_type": "markdown",
   "metadata": {},
   "source": [
    "## Подготовка данных"
   ]
  },
  {
   "cell_type": "code",
   "execution_count": 55,
   "metadata": {},
   "outputs": [],
   "source": [
    "import pandas as pd\n",
    "from sklearn.model_selection import train_test_split\n",
    "from sklearn.metrics import f1_score\n",
    "from sklearn.utils import shuffle\n",
    "from sklearn.ensemble import RandomForestClassifier\n",
    "from sklearn.tree import DecisionTreeClassifier\n",
    "from sklearn.linear_model import LogisticRegression\n",
    "from sklearn.metrics import accuracy_score, roc_auc_score, confusion_matrix, recall_score,precision_score\n",
    "\n",
    "from sklearn.ensemble import RandomForestRegressor\n",
    "from sklearn.preprocessing import OneHotEncoder \n",
    "\n"
   ]
  },
  {
   "cell_type": "markdown",
   "metadata": {},
   "source": [
    "<div class=\"alert alert-info\">\n",
    "<font size=\"4\">🍕<b> Комментарий ревьюера</b></font>\n",
    "    <br /> \n",
    "    <font size=\"3\", color = \"black\">\n",
    "<br /> \n",
    "Судя по тому, что номер первой же ячейки в момент открытия мной равен 160, проект отнял у тебя много сил. Но, это было полезное времяпрепровождение :)\n",
    "    </font>\n",
    "</div>"
   ]
  },
  {
   "cell_type": "markdown",
   "metadata": {},
   "source": [
    "<div class=\"alert alert-warning\">\n",
    "<font size=\"4\"><b>⚠️ Комментарий ревьюера</b></font>\n",
    "    <br /> \n",
    "    <font size=\"3\", color = \"black\">\n",
    "<br />\n",
    "Стандарт PEP8 рекомендует писать не <br>\n",
    "from sklearn.metrics import accuracy_score<br>\n",
    "from sklearn.metrics import roc_auc_score<br>\n",
    "from sklearn.metrics import confusion_matrix<br>\n",
    "from sklearn.metrics import recall_score<br>\n",
    "from sklearn.metrics import precision_score<br>\n",
    "\n",
    "А<br>\n",
    "from sklearn.metrics import accuracy_score, roc_auc_score, confusion_matrix, recall_score, precision_score<br>\n",
    "\n",
    "Ну и в принципе не стоит импортировать то, что не используешь (вряд ли в этой работе нужна линейная регрессия). Понимаю, что скорее всего просто скопировала импорты с другого проекта и добавила новые, но нужно тогда всё равно почистить от лишнего и привести в порядок.\n",
    "    </font>\n",
    "</div>"
   ]
  },
  {
   "cell_type": "code",
   "execution_count": 56,
   "metadata": {},
   "outputs": [],
   "source": [
    "data = pd.read_csv('/datasets/Churn.csv')"
   ]
  },
  {
   "cell_type": "code",
   "execution_count": 57,
   "metadata": {},
   "outputs": [
    {
     "name": "stdout",
     "output_type": "stream",
     "text": [
      "<class 'pandas.core.frame.DataFrame'>\n",
      "RangeIndex: 10000 entries, 0 to 9999\n",
      "Data columns (total 14 columns):\n",
      " #   Column           Non-Null Count  Dtype  \n",
      "---  ------           --------------  -----  \n",
      " 0   RowNumber        10000 non-null  int64  \n",
      " 1   CustomerId       10000 non-null  int64  \n",
      " 2   Surname          10000 non-null  object \n",
      " 3   CreditScore      10000 non-null  int64  \n",
      " 4   Geography        10000 non-null  object \n",
      " 5   Gender           10000 non-null  object \n",
      " 6   Age              10000 non-null  int64  \n",
      " 7   Tenure           9091 non-null   float64\n",
      " 8   Balance          10000 non-null  float64\n",
      " 9   NumOfProducts    10000 non-null  int64  \n",
      " 10  HasCrCard        10000 non-null  int64  \n",
      " 11  IsActiveMember   10000 non-null  int64  \n",
      " 12  EstimatedSalary  10000 non-null  float64\n",
      " 13  Exited           10000 non-null  int64  \n",
      "dtypes: float64(3), int64(8), object(3)\n",
      "memory usage: 1.1+ MB\n"
     ]
    }
   ],
   "source": [
    "data.info()"
   ]
  },
  {
   "cell_type": "code",
   "execution_count": 58,
   "metadata": {},
   "outputs": [
    {
     "data": {
      "text/plain": [
       "array([ 2.,  1.,  8.,  7.,  4.,  6.,  3., 10.,  5.,  9.,  0., nan])"
      ]
     },
     "execution_count": 58,
     "metadata": {},
     "output_type": "execute_result"
    }
   ],
   "source": [
    "#изучаю пропуски в количестве лет\n",
    "data['Tenure'].unique()"
   ]
  },
  {
   "cell_type": "code",
   "execution_count": 59,
   "metadata": {},
   "outputs": [
    {
     "data": {
      "text/plain": [
       "array([ 2.,  1.,  8.,  7.,  4.,  6.,  3., 10.,  5.,  9.,  0.])"
      ]
     },
     "execution_count": 59,
     "metadata": {},
     "output_type": "execute_result"
    }
   ],
   "source": [
    "#заменю наны на медианное\n",
    "#Я так понимаю, наны потом вылезут как категориальные\n",
    "#Удалять лишний раз вообще мало что стоит при анализе, а среднее тоже будет не совсем корректно в данном случае\n",
    "\n",
    "data['Tenure']=data['Tenure'].fillna(data['Tenure'].median())\n",
    "\n",
    "\n",
    "data['Tenure'].unique()"
   ]
  },
  {
   "cell_type": "markdown",
   "metadata": {},
   "source": [
    "<div class=\"alert alert-success\">\n",
    "<font size=\"4\"><b>✔️ Комментарий ревьюера V2</b></font>\n",
    "    <br /> \n",
    "    <font size=\"3\", color = \"black\">\n",
    "<br />\n",
    "Ну в общем да. Медиана - намного более статистически устойчивое заполнение, чем среднее, обеспечивает в среднем наименьшую ошибку заполнения. Поэтому если мы точно уверены, что хотим заполнить, и нет каких-то оснований полагать, что, например, пропуски - это самые новые клиенты, то используют чаще всего медиану."
   ]
  },
  {
   "cell_type": "markdown",
   "metadata": {},
   "source": [
    "<div class=\"alert alert-warning\">\n",
    "<font size=\"4\"><b>⚠️ Комментарий ревьюера</b></font>\n",
    "    <br /> \n",
    "    <font size=\"3\", color = \"black\">\n",
    "<br />\n",
    "Я бы тоже заменил медианой, но, вообще говоря, такие шаги стоит пояснять: почему медиана лучше нулей или удаления строк с пропусками.\n",
    "    </font>\n",
    "</div>"
   ]
  },
  {
   "cell_type": "code",
   "execution_count": 60,
   "metadata": {},
   "outputs": [
    {
     "data": {
      "text/html": [
       "<div>\n",
       "<style scoped>\n",
       "    .dataframe tbody tr th:only-of-type {\n",
       "        vertical-align: middle;\n",
       "    }\n",
       "\n",
       "    .dataframe tbody tr th {\n",
       "        vertical-align: top;\n",
       "    }\n",
       "\n",
       "    .dataframe thead th {\n",
       "        text-align: right;\n",
       "    }\n",
       "</style>\n",
       "<table border=\"1\" class=\"dataframe\">\n",
       "  <thead>\n",
       "    <tr style=\"text-align: right;\">\n",
       "      <th></th>\n",
       "      <th>Tenure</th>\n",
       "    </tr>\n",
       "  </thead>\n",
       "  <tbody>\n",
       "    <tr>\n",
       "      <th>5.0</th>\n",
       "      <td>1836</td>\n",
       "    </tr>\n",
       "    <tr>\n",
       "      <th>1.0</th>\n",
       "      <td>952</td>\n",
       "    </tr>\n",
       "    <tr>\n",
       "      <th>2.0</th>\n",
       "      <td>950</td>\n",
       "    </tr>\n",
       "    <tr>\n",
       "      <th>8.0</th>\n",
       "      <td>933</td>\n",
       "    </tr>\n",
       "    <tr>\n",
       "      <th>3.0</th>\n",
       "      <td>928</td>\n",
       "    </tr>\n",
       "    <tr>\n",
       "      <th>7.0</th>\n",
       "      <td>925</td>\n",
       "    </tr>\n",
       "    <tr>\n",
       "      <th>4.0</th>\n",
       "      <td>885</td>\n",
       "    </tr>\n",
       "    <tr>\n",
       "      <th>9.0</th>\n",
       "      <td>882</td>\n",
       "    </tr>\n",
       "    <tr>\n",
       "      <th>6.0</th>\n",
       "      <td>881</td>\n",
       "    </tr>\n",
       "    <tr>\n",
       "      <th>10.0</th>\n",
       "      <td>446</td>\n",
       "    </tr>\n",
       "    <tr>\n",
       "      <th>0.0</th>\n",
       "      <td>382</td>\n",
       "    </tr>\n",
       "  </tbody>\n",
       "</table>\n",
       "</div>"
      ],
      "text/plain": [
       "      Tenure\n",
       "5.0     1836\n",
       "1.0      952\n",
       "2.0      950\n",
       "8.0      933\n",
       "3.0      928\n",
       "7.0      925\n",
       "4.0      885\n",
       "9.0      882\n",
       "6.0      881\n",
       "10.0     446\n",
       "0.0      382"
      ]
     },
     "execution_count": 60,
     "metadata": {},
     "output_type": "execute_result"
    }
   ],
   "source": [
    "t = data.Tenure.value_counts().to_frame()\n",
    "t"
   ]
  },
  {
   "cell_type": "code",
   "execution_count": 61,
   "metadata": {},
   "outputs": [
    {
     "data": {
      "text/html": [
       "<div>\n",
       "<style scoped>\n",
       "    .dataframe tbody tr th:only-of-type {\n",
       "        vertical-align: middle;\n",
       "    }\n",
       "\n",
       "    .dataframe tbody tr th {\n",
       "        vertical-align: top;\n",
       "    }\n",
       "\n",
       "    .dataframe thead th {\n",
       "        text-align: right;\n",
       "    }\n",
       "</style>\n",
       "<table border=\"1\" class=\"dataframe\">\n",
       "  <thead>\n",
       "    <tr style=\"text-align: right;\">\n",
       "      <th></th>\n",
       "      <th>RowNumber</th>\n",
       "      <th>CustomerId</th>\n",
       "      <th>Surname</th>\n",
       "      <th>CreditScore</th>\n",
       "      <th>Geography</th>\n",
       "      <th>Gender</th>\n",
       "      <th>Age</th>\n",
       "      <th>Tenure</th>\n",
       "      <th>Balance</th>\n",
       "      <th>NumOfProducts</th>\n",
       "      <th>HasCrCard</th>\n",
       "      <th>IsActiveMember</th>\n",
       "      <th>EstimatedSalary</th>\n",
       "      <th>Exited</th>\n",
       "    </tr>\n",
       "  </thead>\n",
       "  <tbody>\n",
       "    <tr>\n",
       "      <th>0</th>\n",
       "      <td>1</td>\n",
       "      <td>15634602</td>\n",
       "      <td>Hargrave</td>\n",
       "      <td>619</td>\n",
       "      <td>France</td>\n",
       "      <td>Female</td>\n",
       "      <td>42</td>\n",
       "      <td>2.0</td>\n",
       "      <td>0.00</td>\n",
       "      <td>1</td>\n",
       "      <td>1</td>\n",
       "      <td>1</td>\n",
       "      <td>101348.88</td>\n",
       "      <td>1</td>\n",
       "    </tr>\n",
       "    <tr>\n",
       "      <th>1</th>\n",
       "      <td>2</td>\n",
       "      <td>15647311</td>\n",
       "      <td>Hill</td>\n",
       "      <td>608</td>\n",
       "      <td>Spain</td>\n",
       "      <td>Female</td>\n",
       "      <td>41</td>\n",
       "      <td>1.0</td>\n",
       "      <td>83807.86</td>\n",
       "      <td>1</td>\n",
       "      <td>0</td>\n",
       "      <td>1</td>\n",
       "      <td>112542.58</td>\n",
       "      <td>0</td>\n",
       "    </tr>\n",
       "    <tr>\n",
       "      <th>2</th>\n",
       "      <td>3</td>\n",
       "      <td>15619304</td>\n",
       "      <td>Onio</td>\n",
       "      <td>502</td>\n",
       "      <td>France</td>\n",
       "      <td>Female</td>\n",
       "      <td>42</td>\n",
       "      <td>8.0</td>\n",
       "      <td>159660.80</td>\n",
       "      <td>3</td>\n",
       "      <td>1</td>\n",
       "      <td>0</td>\n",
       "      <td>113931.57</td>\n",
       "      <td>1</td>\n",
       "    </tr>\n",
       "    <tr>\n",
       "      <th>3</th>\n",
       "      <td>4</td>\n",
       "      <td>15701354</td>\n",
       "      <td>Boni</td>\n",
       "      <td>699</td>\n",
       "      <td>France</td>\n",
       "      <td>Female</td>\n",
       "      <td>39</td>\n",
       "      <td>1.0</td>\n",
       "      <td>0.00</td>\n",
       "      <td>2</td>\n",
       "      <td>0</td>\n",
       "      <td>0</td>\n",
       "      <td>93826.63</td>\n",
       "      <td>0</td>\n",
       "    </tr>\n",
       "    <tr>\n",
       "      <th>4</th>\n",
       "      <td>5</td>\n",
       "      <td>15737888</td>\n",
       "      <td>Mitchell</td>\n",
       "      <td>850</td>\n",
       "      <td>Spain</td>\n",
       "      <td>Female</td>\n",
       "      <td>43</td>\n",
       "      <td>2.0</td>\n",
       "      <td>125510.82</td>\n",
       "      <td>1</td>\n",
       "      <td>1</td>\n",
       "      <td>1</td>\n",
       "      <td>79084.10</td>\n",
       "      <td>0</td>\n",
       "    </tr>\n",
       "  </tbody>\n",
       "</table>\n",
       "</div>"
      ],
      "text/plain": [
       "   RowNumber  CustomerId   Surname  CreditScore Geography  Gender  Age  \\\n",
       "0          1    15634602  Hargrave          619    France  Female   42   \n",
       "1          2    15647311      Hill          608     Spain  Female   41   \n",
       "2          3    15619304      Onio          502    France  Female   42   \n",
       "3          4    15701354      Boni          699    France  Female   39   \n",
       "4          5    15737888  Mitchell          850     Spain  Female   43   \n",
       "\n",
       "   Tenure    Balance  NumOfProducts  HasCrCard  IsActiveMember  \\\n",
       "0     2.0       0.00              1          1               1   \n",
       "1     1.0   83807.86              1          0               1   \n",
       "2     8.0  159660.80              3          1               0   \n",
       "3     1.0       0.00              2          0               0   \n",
       "4     2.0  125510.82              1          1               1   \n",
       "\n",
       "   EstimatedSalary  Exited  \n",
       "0        101348.88       1  \n",
       "1        112542.58       0  \n",
       "2        113931.57       1  \n",
       "3         93826.63       0  \n",
       "4         79084.10       0  "
      ]
     },
     "execution_count": 61,
     "metadata": {},
     "output_type": "execute_result"
    }
   ],
   "source": [
    "data.head()"
   ]
  },
  {
   "cell_type": "code",
   "execution_count": 62,
   "metadata": {},
   "outputs": [
    {
     "data": {
      "text/plain": [
       "0"
      ]
     },
     "execution_count": 62,
     "metadata": {},
     "output_type": "execute_result"
    }
   ],
   "source": [
    "#дубликатов нет\n",
    "data.duplicated().sum()"
   ]
  },
  {
   "cell_type": "code",
   "execution_count": 63,
   "metadata": {},
   "outputs": [],
   "source": [
    "#по совету куратора,избавляюсь от лишних столбцов\n",
    "#выбрала: индекс строки в данных, уникальный идентификатор клиента, фамилия\n",
    "data = data.drop(columns=['RowNumber', 'CustomerId', 'Surname'])\n"
   ]
  },
  {
   "cell_type": "markdown",
   "metadata": {},
   "source": [
    "<div class=\"alert alert-info\">\n",
    "<font size=\"4\">🍕<b> Комментарий ревьюера</b></font>\n",
    "    <br /> \n",
    "    <font size=\"3\", color = \"black\">\n",
    "<br /> \n",
    "Вообще жаль, что из анализа данных ты только заполнила пропуски и проверила дубликаты, было бы интересно посмотреть на какие-нибудь графики и какие выводы из них ты видишь. Но принципиально это на проект не влияет, поэтому не буду писать жёлтый или красный комментарий. Но в следующих проектах это может быть более важно, учти.\n",
    "    </font>\n",
    "</div>"
   ]
  },
  {
   "cell_type": "markdown",
   "metadata": {},
   "source": [
    "## Исследование задачи"
   ]
  },
  {
   "cell_type": "code",
   "execution_count": 64,
   "metadata": {},
   "outputs": [
    {
     "data": {
      "text/plain": [
       "0    7963\n",
       "1    2037\n",
       "Name: Exited, dtype: int64"
      ]
     },
     "execution_count": 64,
     "metadata": {},
     "output_type": "execute_result"
    }
   ],
   "source": [
    "#посчитаю количество целеыого признака\n",
    "data['Exited'].value_counts()\n"
   ]
  },
  {
   "cell_type": "code",
   "execution_count": 65,
   "metadata": {},
   "outputs": [
    {
     "data": {
      "text/plain": [
       "<AxesSubplot:>"
      ]
     },
     "execution_count": 65,
     "metadata": {},
     "output_type": "execute_result"
    },
    {
     "data": {
      "image/png": "[encoded data removed]",
      "text/plain": [
       "<Figure size 432x288 with 1 Axes>"
      ]
     },
     "metadata": {
      "needs_background": "light"
     },
     "output_type": "display_data"
    }
   ],
   "source": [
    "#для наглядности\n",
    "data['Exited'].hist(bins=5, range = (0,1))"
   ]
  },
  {
   "cell_type": "code",
   "execution_count": 66,
   "metadata": {},
   "outputs": [],
   "source": [
    "target = data['Exited'] \n",
    "#целевой\n",
    "features = data.drop('Exited', axis=1)\n",
    "#выборка\n",
    "features_train, features_others, target_train, target_others = train_test_split(\n",
    "    features, target, test_size=0.4, random_state=5, stratify = target)\n",
    "features_test, features_valid, target_test, target_valid = train_test_split(\n",
    "    features_others, target_others, test_size=0.5, random_state=5,stratify = target_others)"
   ]
  },
  {
   "cell_type": "code",
   "execution_count": 67,
   "metadata": {},
   "outputs": [],
   "source": [
    "#Избавляемся от категориальных признаков методом Ohe\n",
    "en = ['Geography','Gender']\n",
    "encoder = OneHotEncoder(handle_unknown ='error',drop='first')\n",
    "encoder.fit(features_train[en])\n",
    "data_ohe_ft = encoder.transform(features_train[en]).toarray()\n",
    "data_ohe_fte = encoder.transform(features_test[en]).toarray()\n",
    "data_ohe_fv = encoder.transform(features_valid[en]).toarray()\n"
   ]
  },
  {
   "cell_type": "markdown",
   "metadata": {},
   "source": [
    "<div class=\"alert alert-warning\">\n",
    "<font size=\"4\"><b>⚠️ Комментарий ревьюера V3</b></font>\n",
    "    <br /> \n",
    "    <font size=\"3\", color = \"black\">\n",
    "<br />\n",
    "Жёлтый комментарий с немножко оттенком красного:<br>\n",
    "Зачем тебе кодировать NumOfProducts? Да, количество продуктов в принципе можно рассматривать как категорию в виду малого количества уникальных значений, но ведь колонка и так численная, в ней есть определённый порядок. Это Geography мы приводим в несколько колонок с нулями и единичками, а не к одной из 1, 2 и 3 потому что абсурдно говорить, что, например, Германия в 3 раза больше Франции в контексте нашей задачи. А 3 продукта действительно в раза больше, чем 1. Так что кодирование NumOfProducts - не то чтобы плохой шаг, но бесполезный."
   ]
  },
  {
   "cell_type": "markdown",
   "metadata": {},
   "source": [
    "<div class=\"alert alert-danger\">\n",
    "<font size=\"4\"><b>❌ Комментарий ревьюера V3</b></font>\n",
    "    <br /> \n",
    "    <font size=\"3\", color = \"black\">\n",
    "<br /> \n",
    "А вот кодирования колонки Gender я у тебя не вижу. А как ты себе представляешь чтобы логистическая регрессия умножала веса на значения Male и Femal?"
   ]
  },
  {
   "cell_type": "code",
   "execution_count": 68,
   "metadata": {},
   "outputs": [],
   "source": [
    "\n",
    "data_df_ohe = pd.DataFrame(data_ohe_ft, columns = encoder.get_feature_names())\n",
    "data_df_ohe1 = pd.DataFrame(data_ohe_fte, columns = encoder.get_feature_names())\n",
    "data_df_ohe2 = pd.DataFrame(data_ohe_fv, columns = encoder.get_feature_names())\n"
   ]
  },
  {
   "cell_type": "markdown",
   "metadata": {},
   "source": [
    "<div class=\"alert alert-info\">\n",
    "<font size=\"4\">🍕<b> Комментарий ревьюера V3</b></font>\n",
    "    <br /> \n",
    "    <font size=\"3\", color = \"black\">\n",
    "<br />\n",
    "Видимо, на серверах яндекса стоит не самая свежая версия модуля sklearn: в более свежей метод получения имён называется get_feature_names_out, в более старой - get_feature_names. Подправил тебе чтобы не падало."
   ]
  },
  {
   "cell_type": "code",
   "execution_count": 69,
   "metadata": {},
   "outputs": [],
   "source": [
    "data = data.join(data_df_ohe)"
   ]
  },
  {
   "cell_type": "code",
   "execution_count": 70,
   "metadata": {},
   "outputs": [
    {
     "data": {
      "text/html": [
       "<div>\n",
       "<style scoped>\n",
       "    .dataframe tbody tr th:only-of-type {\n",
       "        vertical-align: middle;\n",
       "    }\n",
       "\n",
       "    .dataframe tbody tr th {\n",
       "        vertical-align: top;\n",
       "    }\n",
       "\n",
       "    .dataframe thead th {\n",
       "        text-align: right;\n",
       "    }\n",
       "</style>\n",
       "<table border=\"1\" class=\"dataframe\">\n",
       "  <thead>\n",
       "    <tr style=\"text-align: right;\">\n",
       "      <th></th>\n",
       "      <th>CreditScore</th>\n",
       "      <th>Geography</th>\n",
       "      <th>Gender</th>\n",
       "      <th>Age</th>\n",
       "      <th>Tenure</th>\n",
       "      <th>Balance</th>\n",
       "      <th>NumOfProducts</th>\n",
       "      <th>HasCrCard</th>\n",
       "      <th>IsActiveMember</th>\n",
       "      <th>EstimatedSalary</th>\n",
       "      <th>Exited</th>\n",
       "      <th>x0_Germany</th>\n",
       "      <th>x0_Spain</th>\n",
       "      <th>x1_Male</th>\n",
       "    </tr>\n",
       "  </thead>\n",
       "  <tbody>\n",
       "    <tr>\n",
       "      <th>0</th>\n",
       "      <td>619</td>\n",
       "      <td>France</td>\n",
       "      <td>Female</td>\n",
       "      <td>42</td>\n",
       "      <td>2.0</td>\n",
       "      <td>0.00</td>\n",
       "      <td>1</td>\n",
       "      <td>1</td>\n",
       "      <td>1</td>\n",
       "      <td>101348.88</td>\n",
       "      <td>1</td>\n",
       "      <td>0.0</td>\n",
       "      <td>1.0</td>\n",
       "      <td>1.0</td>\n",
       "    </tr>\n",
       "    <tr>\n",
       "      <th>1</th>\n",
       "      <td>608</td>\n",
       "      <td>Spain</td>\n",
       "      <td>Female</td>\n",
       "      <td>41</td>\n",
       "      <td>1.0</td>\n",
       "      <td>83807.86</td>\n",
       "      <td>1</td>\n",
       "      <td>0</td>\n",
       "      <td>1</td>\n",
       "      <td>112542.58</td>\n",
       "      <td>0</td>\n",
       "      <td>0.0</td>\n",
       "      <td>0.0</td>\n",
       "      <td>0.0</td>\n",
       "    </tr>\n",
       "    <tr>\n",
       "      <th>2</th>\n",
       "      <td>502</td>\n",
       "      <td>France</td>\n",
       "      <td>Female</td>\n",
       "      <td>42</td>\n",
       "      <td>8.0</td>\n",
       "      <td>159660.80</td>\n",
       "      <td>3</td>\n",
       "      <td>1</td>\n",
       "      <td>0</td>\n",
       "      <td>113931.57</td>\n",
       "      <td>1</td>\n",
       "      <td>0.0</td>\n",
       "      <td>0.0</td>\n",
       "      <td>0.0</td>\n",
       "    </tr>\n",
       "    <tr>\n",
       "      <th>3</th>\n",
       "      <td>699</td>\n",
       "      <td>France</td>\n",
       "      <td>Female</td>\n",
       "      <td>39</td>\n",
       "      <td>1.0</td>\n",
       "      <td>0.00</td>\n",
       "      <td>2</td>\n",
       "      <td>0</td>\n",
       "      <td>0</td>\n",
       "      <td>93826.63</td>\n",
       "      <td>0</td>\n",
       "      <td>0.0</td>\n",
       "      <td>1.0</td>\n",
       "      <td>0.0</td>\n",
       "    </tr>\n",
       "    <tr>\n",
       "      <th>4</th>\n",
       "      <td>850</td>\n",
       "      <td>Spain</td>\n",
       "      <td>Female</td>\n",
       "      <td>43</td>\n",
       "      <td>2.0</td>\n",
       "      <td>125510.82</td>\n",
       "      <td>1</td>\n",
       "      <td>1</td>\n",
       "      <td>1</td>\n",
       "      <td>79084.10</td>\n",
       "      <td>0</td>\n",
       "      <td>0.0</td>\n",
       "      <td>0.0</td>\n",
       "      <td>1.0</td>\n",
       "    </tr>\n",
       "  </tbody>\n",
       "</table>\n",
       "</div>"
      ],
      "text/plain": [
       "   CreditScore Geography  Gender  Age  Tenure    Balance  NumOfProducts  \\\n",
       "0          619    France  Female   42     2.0       0.00              1   \n",
       "1          608     Spain  Female   41     1.0   83807.86              1   \n",
       "2          502    France  Female   42     8.0  159660.80              3   \n",
       "3          699    France  Female   39     1.0       0.00              2   \n",
       "4          850     Spain  Female   43     2.0  125510.82              1   \n",
       "\n",
       "   HasCrCard  IsActiveMember  EstimatedSalary  Exited  x0_Germany  x0_Spain  \\\n",
       "0          1               1        101348.88       1         0.0       1.0   \n",
       "1          0               1        112542.58       0         0.0       0.0   \n",
       "2          1               0        113931.57       1         0.0       0.0   \n",
       "3          0               0         93826.63       0         0.0       1.0   \n",
       "4          1               1         79084.10       0         0.0       0.0   \n",
       "\n",
       "   x1_Male  \n",
       "0      1.0  \n",
       "1      0.0  \n",
       "2      0.0  \n",
       "3      0.0  \n",
       "4      1.0  "
      ]
     },
     "execution_count": 70,
     "metadata": {},
     "output_type": "execute_result"
    }
   ],
   "source": [
    "# КОД РЕВЬЮЕРА\n",
    "data.head()"
   ]
  },
  {
   "cell_type": "markdown",
   "metadata": {},
   "source": [
    "<div class=\"alert alert-danger\">\n",
    "<font size=\"4\"><b>❌ Комментарий ревьюера V3</b></font>\n",
    "    <br /> \n",
    "    <font size=\"3\", color = \"black\">\n",
    "<br /> \n",
    "Ну и после кодирования категориальных признаков изначальные колонки с этими признакоми то надо из датафрейма удалять, а у тебя они сохранены"
   ]
  },
  {
   "cell_type": "markdown",
   "metadata": {},
   "source": [
    "<div class=\"alert alert-danger\">\n",
    "<font size=\"4\"><b>❌ Комментарий ревьюера V2</b></font>\n",
    "    <br /> \n",
    "    <font size=\"3\", color = \"black\">\n",
    "<br /> \n",
    "Я даже пытался починить, чтобы при перезапуска и прогоне всех ячеек твоя работа не падала, но не смог. Так что придётся это сделать тебе."
   ]
  },
  {
   "cell_type": "markdown",
   "metadata": {},
   "source": [
    "<div class=\"alert alert-success\">\n",
    "<font size=\"4\"><b>✔️ Комментарий ревьюера</b></font>\n",
    "    <br /> \n",
    "    <font size=\"3\", color = \"black\">\n",
    "<br />    \n",
    "Молодец, что проверяешь баланс классов в начале работы. От баланса классов в реальных проектах часто зависит выбор метрики и другие нюансы работа.\n",
    "<br />\n",
    "    </font>\n",
    "</div>"
   ]
  },
  {
   "cell_type": "markdown",
   "metadata": {},
   "source": [
    "<div class=\"alert alert-warning\">\n",
    "<font size=\"4\"><b>⚠️ Комментарий ревьюера</b></font>\n",
    "    <br /> \n",
    "    <font size=\"3\", color = \"black\">\n",
    "<br />\n",
    "Ты сначала закодировала категориальные переменные, а уже потом делишь на выборки, в машинном обучении это некорректный подход. Любые преобразования данных должны обучаться на train датасете, затем применяться к test и valid.<br>\n",
    "Поэтому в задачах машинного обучения предпочтительнее использовать OHE из библиотеки sklearn: у него можно сделать fit на train датасете и transform на других. С pd.get_dummies так не получится. Поэтому я настоятельно рекомендую тебе кодировать именно с помощью OHE из sklearn. В данном проекте фактической разницы нет (если ты сначала разобьёшь выборку, потом применишь pd.get_dummies к датасетам, то можешь посмотреть, что результат не изменится), но так бывает не всегда, и в будущих проектах уже возникнут проблемы т.к. манипуляции с данными до разделения могут привести к утечке информации из тренировочных данных в тестовые, из-за которой ты будешь получать хорошую метрику для плохой модели.<br>\n",
    "\n",
    "Тут большой вопрос к тем, кто занимается составлением курса почему в тренажёре используется pd.get_dummies, ревьюеры на это влиять не могут, но могут дать полезный на будущее совет. Так что, очень рекомендую, уже сейчас разобраться с <a href=\"https://scikit-learn.org/stable/modules/generated/sklearn.preprocessing.OneHotEncoder.html\">OHE из sklearn</a>, лучше применить в этом же проекте, хоть разницы и не будет, просто чтобы набить руку, научиться его использовать. Если сделаешь это к следующей отправке - вообще супер."
   ]
  },
  {
   "cell_type": "markdown",
   "metadata": {},
   "source": [
    "<br/>    \n",
    "<div class=\"alert alert-info\">\n",
    "<h2> Комментарий студента v2: <a class=\"tocSkip\"> </h2>\n",
    "\n",
    "<b>👋:</b> Добрый день! Не совсем разобралась,что имеется в виду. Лучше сначала разбивать на выборки,а потом уже применять ОНЕ? Или не использовать pd.get_dummies в принципе, а заменить на другую функцию?\n",
    "</div> "
   ]
  },
  {
   "cell_type": "markdown",
   "metadata": {},
   "source": [
    "<div class=\"alert alert-warning\">\n",
    "<font size=\"4\"><b>⚠️ Комментарий ревьюера V2</b></font>\n",
    "    <br /> \n",
    "    <font size=\"3\", color = \"black\">\n",
    "<br />\n",
    "Не то что лучше, а в принципе в машинном обучении порядок действий всегда такой:\n",
    "\n",
    "1. Разбили на выборки\n",
    "\n",
    "2. Научились делать какие-то операции (масштабирование, кодирование) на обучающей выборке\n",
    "\n",
    "3. Применили на валидационную и тестовую\n",
    "\n",
    "В противном случае могут произойти утечки информации (модель при обучении будет \"знать\" какую-то информацию, которую, по идее, знать не должна), что может очень сильно исказить результаты работы.<br>\n",
    "\n",
    "Представь, что компанию клиентов из Германии, Испании и Франции разбавили бы несколько клиентов из Андорры, Монако и Сан-Марино. И все бы они попали в валидацию и тест. Если ты используешь get_dummies, то у тебя либо получатся разные количества колонок, если ты применишь отдельно к разным выборкам, либо у тебя в обучающей выборке будет несколько полностью нулевых колонок. Модель как бы будет знать, что есть какие-то ещё признаки, что как минимум противоречит идеи, что модель не должна знать о данных валидации и теста ничего когда она обучается. Во что это может вылиться? Если ты обучаешь лог регрессию, то она в том числе подбирает веса и для этих везде нулевых колонок, и очень маловероятно, что эти веса будут нулями, а, следовательно, когды ты полученную модель применишь к валидации и тесту, ты получишь неадекватные предсказания на вот этих невстреченных в обучении примерах.<br>\n",
    "\n",
    "В этом проекте мы ставим жёлтый комментарий при использовании get_dummies, потому что здесь мало категорий, нет каких-то редких значений, результат кодирования не изменится, если поменять его на OHE из sklearn. Но в будущих проектах это уже может иметь серьезёное влияние, так что, пожалуйста, разберись с экнодерами sklearn. Если не получится самостоятельно, то напряги наставников."
   ]
  },
  {
   "cell_type": "code",
   "execution_count": 71,
   "metadata": {},
   "outputs": [
    {
     "name": "stdout",
     "output_type": "stream",
     "text": [
      "6000\n",
      "2000\n",
      "2000\n"
     ]
    }
   ],
   "source": [
    "\n",
    "print(features_train.shape[0])\n",
    "print(features_test.shape[0])\n",
    "print(features_valid.shape[0])\n"
   ]
  },
  {
   "cell_type": "code",
   "execution_count": 72,
   "metadata": {},
   "outputs": [],
   "source": [
    "#data = data.drop(columns=['Geography', 'Gender'])\n"
   ]
  },
  {
   "cell_type": "code",
   "execution_count": 73,
   "metadata": {},
   "outputs": [],
   "source": [
    "#data.info()"
   ]
  },
  {
   "cell_type": "code",
   "execution_count": 74,
   "metadata": {},
   "outputs": [
    {
     "data": {
      "text/plain": [
       "array([ 0.,  1., nan])"
      ]
     },
     "execution_count": 74,
     "metadata": {},
     "output_type": "execute_result"
    }
   ],
   "source": [
    "data['x0_Germany'].unique()\n"
   ]
  },
  {
   "cell_type": "code",
   "execution_count": 75,
   "metadata": {},
   "outputs": [
    {
     "data": {
      "text/plain": [
       "0.0    4496\n",
       "1.0    1504\n",
       "Name: x0_Germany, dtype: int64"
      ]
     },
     "execution_count": 75,
     "metadata": {},
     "output_type": "execute_result"
    }
   ],
   "source": [
    "data['x0_Germany'].value_counts()\n"
   ]
  },
  {
   "cell_type": "code",
   "execution_count": 76,
   "metadata": {},
   "outputs": [
    {
     "name": "stderr",
     "output_type": "stream",
     "text": [
      "/opt/conda/lib/python3.9/site-packages/pandas/core/frame.py:4308: SettingWithCopyWarning: \n",
      "A value is trying to be set on a copy of a slice from a DataFrame\n",
      "\n",
      "See the caveats in the documentation: https://pandas.pydata.org/pandas-docs/stable/user_guide/indexing.html#returning-a-view-versus-a-copy\n",
      "  return super().drop(\n"
     ]
    }
   ],
   "source": [
    "features_train.drop(en, axis = 1, inplace=True)\n"
   ]
  },
  {
   "cell_type": "code",
   "execution_count": 77,
   "metadata": {},
   "outputs": [],
   "source": [
    "features_valid.drop(en, axis = 1, inplace=True)\n"
   ]
  },
  {
   "cell_type": "code",
   "execution_count": 78,
   "metadata": {},
   "outputs": [],
   "source": [
    "features_test.drop(en, axis = 1, inplace=True)\n"
   ]
  },
  {
   "cell_type": "code",
   "execution_count": 79,
   "metadata": {},
   "outputs": [],
   "source": [
    "#features_train"
   ]
  },
  {
   "cell_type": "code",
   "execution_count": 80,
   "metadata": {},
   "outputs": [],
   "source": [
    "features_train = features_train.join(data_df_ohe)"
   ]
  },
  {
   "cell_type": "code",
   "execution_count": 81,
   "metadata": {},
   "outputs": [],
   "source": [
    "features_valid = features_valid.join(data_df_ohe2)"
   ]
  },
  {
   "cell_type": "code",
   "execution_count": 82,
   "metadata": {},
   "outputs": [],
   "source": [
    "features_test = features_test.join(data_df_ohe1)"
   ]
  },
  {
   "cell_type": "code",
   "execution_count": 83,
   "metadata": {},
   "outputs": [],
   "source": [
    "features_train = features_train.fillna(features_train.median())"
   ]
  },
  {
   "cell_type": "code",
   "execution_count": 84,
   "metadata": {},
   "outputs": [
    {
     "data": {
      "text/plain": [
       "array([0., 1.])"
      ]
     },
     "execution_count": 84,
     "metadata": {},
     "output_type": "execute_result"
    }
   ],
   "source": [
    "features_train['x0_Spain'].unique()"
   ]
  },
  {
   "cell_type": "code",
   "execution_count": 85,
   "metadata": {},
   "outputs": [],
   "source": [
    "features_test = features_test.fillna(features_test.median())"
   ]
  },
  {
   "cell_type": "code",
   "execution_count": 86,
   "metadata": {},
   "outputs": [],
   "source": [
    "features_valid = features_valid.fillna(features_valid.median())"
   ]
  },
  {
   "cell_type": "markdown",
   "metadata": {},
   "source": [
    "<div class=\"alert alert-warning\">\n",
    "<font size=\"4\"><b>⚠️ Комментарий ревьюера</b></font>\n",
    "    <br /> \n",
    "    <font size=\"3\", color = \"black\">\n",
    "<br />\n",
    "Когда мы делим на выборки данные с помощью метода train_test_split баланс классов в выборках может немного исказиться, если не использовать параметр stratify, это может негативно сказаться в задачах, в которых есть дисбаланс, поэтому когда у тебя есть дисбаланс лучше в train_test_split передать stratify=target.<br>\n",
    "Тем более, ты разбиваешь два раза и это искажение может усилиться. Собственно, давай проверим:"
   ]
  },
  {
   "cell_type": "markdown",
   "metadata": {},
   "source": [
    "<div class=\"alert alert-success\">\n",
    "<font size=\"4\"><b>✔️ Комментарий ревьюера V2</b></font>\n",
    "    <br /> \n",
    "    <font size=\"3\", color = \"black\">\n",
    "<br />    \n",
    "Стало лучше :)\n",
    "<br />\n",
    "    </font>\n",
    "</div>"
   ]
  },
  {
   "cell_type": "code",
   "execution_count": 87,
   "metadata": {},
   "outputs": [
    {
     "data": {
      "text/plain": [
       "(0.20366666666666666, 0.204, 0.2035)"
      ]
     },
     "execution_count": 87,
     "metadata": {},
     "output_type": "execute_result"
    }
   ],
   "source": [
    "# КОД РЕВЬЮЕРА\n",
    "target_train.mean(), target_valid.mean(), target_test.mean()"
   ]
  },
  {
   "cell_type": "code",
   "execution_count": 88,
   "metadata": {},
   "outputs": [
    {
     "data": {
      "text/html": [
       "<div>\n",
       "<style scoped>\n",
       "    .dataframe tbody tr th:only-of-type {\n",
       "        vertical-align: middle;\n",
       "    }\n",
       "\n",
       "    .dataframe tbody tr th {\n",
       "        vertical-align: top;\n",
       "    }\n",
       "\n",
       "    .dataframe thead th {\n",
       "        text-align: right;\n",
       "    }\n",
       "</style>\n",
       "<table border=\"1\" class=\"dataframe\">\n",
       "  <thead>\n",
       "    <tr style=\"text-align: right;\">\n",
       "      <th></th>\n",
       "      <th>CreditScore</th>\n",
       "      <th>Age</th>\n",
       "      <th>Tenure</th>\n",
       "      <th>Balance</th>\n",
       "      <th>NumOfProducts</th>\n",
       "      <th>HasCrCard</th>\n",
       "      <th>IsActiveMember</th>\n",
       "      <th>EstimatedSalary</th>\n",
       "      <th>x0_Germany</th>\n",
       "      <th>x0_Spain</th>\n",
       "      <th>x1_Male</th>\n",
       "    </tr>\n",
       "  </thead>\n",
       "  <tbody>\n",
       "    <tr>\n",
       "      <th>9987</th>\n",
       "      <td>606</td>\n",
       "      <td>30</td>\n",
       "      <td>8.0</td>\n",
       "      <td>180307.73</td>\n",
       "      <td>2</td>\n",
       "      <td>1</td>\n",
       "      <td>1</td>\n",
       "      <td>1914.41</td>\n",
       "      <td>0.0</td>\n",
       "      <td>0.0</td>\n",
       "      <td>1.0</td>\n",
       "    </tr>\n",
       "    <tr>\n",
       "      <th>8109</th>\n",
       "      <td>661</td>\n",
       "      <td>34</td>\n",
       "      <td>0.0</td>\n",
       "      <td>0.00</td>\n",
       "      <td>2</td>\n",
       "      <td>1</td>\n",
       "      <td>0</td>\n",
       "      <td>185555.63</td>\n",
       "      <td>0.0</td>\n",
       "      <td>0.0</td>\n",
       "      <td>1.0</td>\n",
       "    </tr>\n",
       "    <tr>\n",
       "      <th>1194</th>\n",
       "      <td>764</td>\n",
       "      <td>24</td>\n",
       "      <td>7.0</td>\n",
       "      <td>0.00</td>\n",
       "      <td>2</td>\n",
       "      <td>1</td>\n",
       "      <td>0</td>\n",
       "      <td>186105.99</td>\n",
       "      <td>0.0</td>\n",
       "      <td>0.0</td>\n",
       "      <td>0.0</td>\n",
       "    </tr>\n",
       "    <tr>\n",
       "      <th>7282</th>\n",
       "      <td>581</td>\n",
       "      <td>44</td>\n",
       "      <td>7.0</td>\n",
       "      <td>189318.16</td>\n",
       "      <td>2</td>\n",
       "      <td>1</td>\n",
       "      <td>0</td>\n",
       "      <td>45026.23</td>\n",
       "      <td>0.0</td>\n",
       "      <td>0.0</td>\n",
       "      <td>1.0</td>\n",
       "    </tr>\n",
       "    <tr>\n",
       "      <th>9679</th>\n",
       "      <td>472</td>\n",
       "      <td>19</td>\n",
       "      <td>9.0</td>\n",
       "      <td>0.00</td>\n",
       "      <td>2</td>\n",
       "      <td>1</td>\n",
       "      <td>0</td>\n",
       "      <td>3453.40</td>\n",
       "      <td>0.0</td>\n",
       "      <td>0.0</td>\n",
       "      <td>1.0</td>\n",
       "    </tr>\n",
       "    <tr>\n",
       "      <th>...</th>\n",
       "      <td>...</td>\n",
       "      <td>...</td>\n",
       "      <td>...</td>\n",
       "      <td>...</td>\n",
       "      <td>...</td>\n",
       "      <td>...</td>\n",
       "      <td>...</td>\n",
       "      <td>...</td>\n",
       "      <td>...</td>\n",
       "      <td>...</td>\n",
       "      <td>...</td>\n",
       "    </tr>\n",
       "    <tr>\n",
       "      <th>8530</th>\n",
       "      <td>808</td>\n",
       "      <td>33</td>\n",
       "      <td>2.0</td>\n",
       "      <td>103516.87</td>\n",
       "      <td>1</td>\n",
       "      <td>1</td>\n",
       "      <td>0</td>\n",
       "      <td>113907.80</td>\n",
       "      <td>0.0</td>\n",
       "      <td>0.0</td>\n",
       "      <td>1.0</td>\n",
       "    </tr>\n",
       "    <tr>\n",
       "      <th>9384</th>\n",
       "      <td>771</td>\n",
       "      <td>57</td>\n",
       "      <td>4.0</td>\n",
       "      <td>0.00</td>\n",
       "      <td>1</td>\n",
       "      <td>0</td>\n",
       "      <td>0</td>\n",
       "      <td>85876.67</td>\n",
       "      <td>0.0</td>\n",
       "      <td>0.0</td>\n",
       "      <td>1.0</td>\n",
       "    </tr>\n",
       "    <tr>\n",
       "      <th>8981</th>\n",
       "      <td>673</td>\n",
       "      <td>35</td>\n",
       "      <td>6.0</td>\n",
       "      <td>0.00</td>\n",
       "      <td>2</td>\n",
       "      <td>1</td>\n",
       "      <td>0</td>\n",
       "      <td>98618.79</td>\n",
       "      <td>0.0</td>\n",
       "      <td>0.0</td>\n",
       "      <td>1.0</td>\n",
       "    </tr>\n",
       "    <tr>\n",
       "      <th>1388</th>\n",
       "      <td>630</td>\n",
       "      <td>40</td>\n",
       "      <td>0.0</td>\n",
       "      <td>118633.08</td>\n",
       "      <td>1</td>\n",
       "      <td>0</td>\n",
       "      <td>1</td>\n",
       "      <td>60032.46</td>\n",
       "      <td>0.0</td>\n",
       "      <td>1.0</td>\n",
       "      <td>1.0</td>\n",
       "    </tr>\n",
       "    <tr>\n",
       "      <th>4688</th>\n",
       "      <td>690</td>\n",
       "      <td>33</td>\n",
       "      <td>5.0</td>\n",
       "      <td>0.00</td>\n",
       "      <td>2</td>\n",
       "      <td>1</td>\n",
       "      <td>0</td>\n",
       "      <td>138017.68</td>\n",
       "      <td>0.0</td>\n",
       "      <td>0.0</td>\n",
       "      <td>1.0</td>\n",
       "    </tr>\n",
       "  </tbody>\n",
       "</table>\n",
       "<p>6000 rows × 11 columns</p>\n",
       "</div>"
      ],
      "text/plain": [
       "      CreditScore  Age  Tenure    Balance  NumOfProducts  HasCrCard  \\\n",
       "9987          606   30     8.0  180307.73              2          1   \n",
       "8109          661   34     0.0       0.00              2          1   \n",
       "1194          764   24     7.0       0.00              2          1   \n",
       "7282          581   44     7.0  189318.16              2          1   \n",
       "9679          472   19     9.0       0.00              2          1   \n",
       "...           ...  ...     ...        ...            ...        ...   \n",
       "8530          808   33     2.0  103516.87              1          1   \n",
       "9384          771   57     4.0       0.00              1          0   \n",
       "8981          673   35     6.0       0.00              2          1   \n",
       "1388          630   40     0.0  118633.08              1          0   \n",
       "4688          690   33     5.0       0.00              2          1   \n",
       "\n",
       "      IsActiveMember  EstimatedSalary  x0_Germany  x0_Spain  x1_Male  \n",
       "9987               1          1914.41         0.0       0.0      1.0  \n",
       "8109               0        185555.63         0.0       0.0      1.0  \n",
       "1194               0        186105.99         0.0       0.0      0.0  \n",
       "7282               0         45026.23         0.0       0.0      1.0  \n",
       "9679               0          3453.40         0.0       0.0      1.0  \n",
       "...              ...              ...         ...       ...      ...  \n",
       "8530               0        113907.80         0.0       0.0      1.0  \n",
       "9384               0         85876.67         0.0       0.0      1.0  \n",
       "8981               0         98618.79         0.0       0.0      1.0  \n",
       "1388               1         60032.46         0.0       1.0      1.0  \n",
       "4688               0        138017.68         0.0       0.0      1.0  \n",
       "\n",
       "[6000 rows x 11 columns]"
      ]
     },
     "execution_count": 88,
     "metadata": {},
     "output_type": "execute_result"
    }
   ],
   "source": [
    "features_train\n"
   ]
  },
  {
   "cell_type": "markdown",
   "metadata": {},
   "source": [
    "<div class=\"alert alert-warning\">\n",
    "<font size=\"4\"></font>\n",
    "    <font size=\"3\", color = \"black\">\n",
    "Разница между 0.1993 и 0.2115 конечно не катастрофическая, но всё-таки 6%. Лучше сделай к следующей отправке стратифицированные выборки."
   ]
  },
  {
   "cell_type": "markdown",
   "metadata": {},
   "source": [
    "### Дерево"
   ]
  },
  {
   "cell_type": "code",
   "execution_count": 89,
   "metadata": {},
   "outputs": [
    {
     "name": "stdout",
     "output_type": "stream",
     "text": [
      "0.5\n"
     ]
    }
   ],
   "source": [
    "#Полнота выявляет, какую долю положительных среди всех ответов выделила модель. \n",
    "\n",
    "model = DecisionTreeClassifier(random_state=12345)\n",
    "model.fit(features_train, target_train)\n",
    "predicted_valid = model.predict(features_valid)\n",
    "\n",
    "print(recall_score(target_valid, predicted_valid))"
   ]
  },
  {
   "cell_type": "code",
   "execution_count": 90,
   "metadata": {},
   "outputs": [
    {
     "name": "stdout",
     "output_type": "stream",
     "text": [
      "0.4523281596452328\n"
     ]
    }
   ],
   "source": [
    "#Точность определяет, как много отрицательных ответов нашла модель, пока искала положительные. \n",
    "model = DecisionTreeClassifier(random_state=12345)\n",
    "model.fit(features_train, target_train)\n",
    "predicted_valid = model.predict(features_valid)\n",
    "print(precision_score(target_valid, predicted_valid))"
   ]
  },
  {
   "cell_type": "code",
   "execution_count": 91,
   "metadata": {},
   "outputs": [
    {
     "name": "stdout",
     "output_type": "stream",
     "text": [
      "0.4749708963911525\n"
     ]
    }
   ],
   "source": [
    "#f1 мера \n",
    "model = DecisionTreeClassifier(random_state=12345)\n",
    "model.fit(features_train, target_train)\n",
    "predicted_valid = model.predict(features_valid)\n",
    "print(f1_score(target_valid, predicted_valid))"
   ]
  },
  {
   "cell_type": "code",
   "execution_count": 92,
   "metadata": {},
   "outputs": [
    {
     "name": "stdout",
     "output_type": "stream",
     "text": [
      "depth = 1 : 0.0\n",
      "depth = 2 : 0.503382949932341\n",
      "depth = 3 : 0.40950639853747717\n",
      "depth = 4 : 0.5371775417298937\n",
      "depth = 5 : 0.5616641901931649\n",
      "depth = 6 : 0.5514157973174366\n",
      "depth = 7 : 0.5470332850940666\n",
      "depth = 8 : 0.4837662337662338\n",
      "depth = 9 : 0.5208333333333333\n"
     ]
    }
   ],
   "source": [
    "for depth in range(1, 10):\n",
    "    model = DecisionTreeClassifier(random_state=12345, max_depth=depth)\n",
    "    model.fit(features_train, target_train)\n",
    "    \n",
    "\n",
    "    predicted_valid = model.predict(features_valid)\n",
    "    f1_dtc = f1_score(target_valid, predicted_valid)\n",
    "    print(\"depth =\", depth, \":\", f1_dtc)\n",
    "    "
   ]
  },
  {
   "cell_type": "code",
   "execution_count": 93,
   "metadata": {},
   "outputs": [
    {
     "name": "stdout",
     "output_type": "stream",
     "text": [
      "0.7981759286629224\n"
     ]
    }
   ],
   "source": [
    "#auc_roc для дерева\n",
    "probabilities_valid = model.predict_proba(features_valid)\n",
    "probabilities_one_valid = probabilities_valid[:, 1]\n",
    "\n",
    "\n",
    "auc_roc = roc_auc_score(target_valid, probabilities_one_valid)\n",
    "print(auc_roc)"
   ]
  },
  {
   "cell_type": "markdown",
   "metadata": {},
   "source": [
    "<div class=\"alert alert-success\">\n",
    "<font size=\"4\"><b>✔️ Комментарий ревьюера</b></font>\n",
    "    <br /> \n",
    "    <font size=\"3\", color = \"black\">\n",
    "<br />    \n",
    "Молодец, что не забыла, что ROC AUC вычисляется не по предсказанным меткам классов, а по вероятностям.\n",
    "<br />\n",
    "    </font>\n",
    "</div>"
   ]
  },
  {
   "cell_type": "markdown",
   "metadata": {},
   "source": [
    "### Лес"
   ]
  },
  {
   "cell_type": "code",
   "execution_count": 94,
   "metadata": {},
   "outputs": [
    {
     "name": "stdout",
     "output_type": "stream",
     "text": [
      "F1: 0.5437788018433181\n"
     ]
    }
   ],
   "source": [
    "#f1 - лес\n",
    "model_forest=RandomForestClassifier(random_state=12345)\n",
    "model_forest.fit(features_train, target_train)\n",
    "prediction=model_forest.predict(features_valid)\n",
    "print('F1:',f1_score(target_valid,prediction))"
   ]
  },
  {
   "cell_type": "code",
   "execution_count": 95,
   "metadata": {},
   "outputs": [],
   "source": [
    "#старое\n",
    "#for depth in range(3, 10):\n",
    "   # model =  RandomForestClassifier(n_estimators = 100,random_state=12345, max_depth=depth) \n",
    "    #model.fit (features_train, target_train)\n",
    "   #\n",
    "    #predicted_valid = model.predict(features_valid) \n",
    "    #f1_rfc = f1_score(target_valid, predicted_valid)\n",
    "    #print(\"depth =\", depth, \":\", f1_rfc)\n",
    "    \n",
    " "
   ]
  },
  {
   "cell_type": "code",
   "execution_count": 96,
   "metadata": {},
   "outputs": [
    {
     "name": "stdout",
     "output_type": "stream",
     "text": [
      "wood 10 f1 0.526148969889065\n",
      "wood 20 f1 0.5192307692307693\n",
      "wood 30 f1 0.5192307692307693\n",
      "wood 40 f1 0.5224358974358975\n",
      "wood 50 f1 0.5281803542673108\n",
      "wood 60 f1 0.5281803542673108\n",
      "wood 70 f1 0.52442996742671\n",
      "wood 80 f1 0.5275080906148867\n",
      "wood 90 f1 0.5298869143780292\n",
      "wood 100 f1 0.5283630470016208\n",
      "wood 110 f1 0.5290322580645161\n",
      "wood 120 f1 0.5307443365695793\n",
      "wood 130 f1 0.5316045380875203\n",
      "wood 140 f1 0.5324675324675324\n",
      "wood 150 f1 0.5316045380875203\n",
      "wood 160 f1 0.5324675324675324\n",
      "wood 170 f1 0.5324675324675324\n",
      "wood 180 f1 0.5374592833876222\n",
      "wood 190 f1 0.5389610389610389\n",
      "best 190 f1 0.5389610389610389 depth 9\n"
     ]
    }
   ],
   "source": [
    "#так лучше вроде\n",
    "best_est = 0\n",
    "best_f1 = 0\n",
    "max_depth= 0\n",
    "for est in range(10, 200, 10):\n",
    "    model = RandomForestClassifier(random_state=12345, n_estimators=est,max_depth=depth)\n",
    "    model.fit(features_train, target_train)\n",
    "    predictions_valid = model.predict(features_valid)\n",
    "    predicted_valid = model.predict(features_valid) \n",
    "    f1_rfc = f1_score(target_valid, predicted_valid)\n",
    "   \n",
    "    \n",
    "    \n",
    "    print('wood', est,'f1',f1_rfc)\n",
    "    if f1_rfc > best_f1:\n",
    "        best_est = est\n",
    "        best_f1 = f1_rfc\n",
    "        max_depth=depth\n",
    "\n",
    "print('best', best_est,'f1', best_f1, 'depth',max_depth)  "
   ]
  },
  {
   "cell_type": "markdown",
   "metadata": {},
   "source": [
    "<div class=\"alert alert-danger\">\n",
    "<font size=\"4\"><b>❌ Комментарий ревьюера V2</b></font>\n",
    "    <br /> \n",
    "    <font size=\"3\", color = \"black\">\n",
    "<br /> \n",
    "У тебя в вычислении метрики f1 участвует не та переменная, в которую ты сохраняешь предсказания. Поэтому на экране одинаковые значения метрик для всех глубин деревьев."
   ]
  },
  {
   "cell_type": "markdown",
   "metadata": {},
   "source": [
    "<div class=\"alert alert-danger\">\n",
    "<font size=\"4\"><b>❌ Комментарий ревьюера</b></font>\n",
    "    <br /> \n",
    "    <font size=\"3\", color = \"black\">\n",
    "<br /> \n",
    "В случае одного отдельно взятого решающего дерева основной гиперпараметр, влияющий на качество его обучения - это действительно глубина. Но в случае случайного леса самое важное - это количество деревьев в лесу (n_estimators), и уже потом глубина. Ты во всех блоках кода, где работаешь со случайным лесом либо не указываешь этот параметр и он берётся по умолчанию, либо указываешь константу. Таким образом ты не добьёшься нужного качества. Надо перебирать разные значения гиперпараметров, пока не получишь нужное качество модели, которого у тебя, пока нет."
   ]
  },
  {
   "cell_type": "markdown",
   "metadata": {},
   "source": [
    "<div class=\"alert alert-warning\">\n",
    "<font size=\"4\"><b>⚠️ Комментарий ревьюера V2</b></font>\n",
    "    <br /> \n",
    "    <font size=\"3\", color = \"black\">\n",
    "<br />\n",
    "Да, тебе удалось достичь модели нужного качества на тестовой выборке и без подбора количества деревьев в лесу, но надо иметь в виду что:\n",
    "\n",
    "+ Далеко не всегда тебе в жизни будет так везти\n",
    "\n",
    "+ В реальном мире есть какое-то <b>минимальное</b> требуемое значение метрики, но все по факту хотят больше. Так что если ты всё-таки сделаешь ещё и подбор n_estimators, то этим ты сделаешь лучше себе. А не мне :)"
   ]
  },
  {
   "cell_type": "code",
   "execution_count": 97,
   "metadata": {},
   "outputs": [
    {
     "name": "stdout",
     "output_type": "stream",
     "text": [
      "0.848970649817716\n"
     ]
    }
   ],
   "source": [
    "#auc_roc для леса\n",
    "probabilities_valid1 = model.predict_proba(features_valid)\n",
    "probabilities_one_valid1 = probabilities_valid1[:, 1]\n",
    "\n",
    "\n",
    "auc_roc1 = roc_auc_score(target_valid, probabilities_one_valid1)\n",
    "print(auc_roc1)"
   ]
  },
  {
   "cell_type": "markdown",
   "metadata": {},
   "source": [
    "<div class=\"alert alert-danger\">\n",
    "<font size=\"4\"><b>❌ Комментарий ревьюера</b></font>\n",
    "    <br /> \n",
    "    <font size=\"3\", color = \"black\">\n",
    "<br /> \n",
    "Добавь, пожалуйста, логистическую регрессию на изначальные, несбалансированные данные. Мы же хотим увидеть как на какую модель повлияют различные методы борьбы с дисбалансом, а если у нас её тут нет, то мы и не сможем понять как это на неё влияет."
   ]
  },
  {
   "cell_type": "markdown",
   "metadata": {},
   "source": [
    "### Логистическая регрессия"
   ]
  },
  {
   "cell_type": "code",
   "execution_count": 98,
   "metadata": {},
   "outputs": [
    {
     "name": "stdout",
     "output_type": "stream",
     "text": [
      "0.09871244635193133\n"
     ]
    }
   ],
   "source": [
    "model = LogisticRegression(random_state=12345)\n",
    "model.fit(features_train, target_train)\n",
    "predicted_valid = model.predict(features_valid)\n",
    "print(f1_score(target_valid, predicted_valid))"
   ]
  },
  {
   "cell_type": "code",
   "execution_count": 99,
   "metadata": {},
   "outputs": [
    {
     "name": "stdout",
     "output_type": "stream",
     "text": [
      "0.6547443097842152\n"
     ]
    }
   ],
   "source": [
    "#auc_roc\n",
    "probabilities_valid2 = model.predict_proba(features_valid)\n",
    "probabilities_one_valid2 = probabilities_valid2[:, 1]\n",
    "\n",
    "\n",
    "auc_roc2 = roc_auc_score(target_valid, probabilities_one_valid2)\n",
    "print(auc_roc2)"
   ]
  },
  {
   "cell_type": "markdown",
   "metadata": {},
   "source": [
    "**Вывод:**\n",
    "\n",
    "-F1 мера у модели логистической регрессии получилась наиболее низкой (0.06607929515418502), roc_auc (0.7674939963075555)\n",
    "\n",
    "-F1 мера у модели дерева решений получилась (0.5533834586466165), глубина дерева при этом равна 7, roc_auc(0.7841493265222078)\n",
    "\n",
    "-Рассчётная F1 мера у модели случайного леса составила (0.5462822458270107) (при количестве деревьев 100),  roc_auc (0.8582542480847565),что является лучшим результатом\n",
    "\n",
    "-Ни одна из моделей не дотянула до необходимого значения F1 меры\n",
    "\n",
    "-Требуется работа над дисбалансом"
   ]
  },
  {
   "cell_type": "markdown",
   "metadata": {},
   "source": [
    "<div class=\"alert alert-warning\">\n",
    "<font size=\"4\"><b>⚠️ Комментарий ревьюера V4</b></font>\n",
    "    <br /> \n",
    "    <font size=\"3\", color = \"black\">\n",
    "<br />\n",
    "Вообще говоря, найденные оптимальные гиперпараметры для обучения на несбалансированных данных ,совсем не обязательно будут лучшими и для сбалансированных. И по идее считать, что раз до борьбы с дисбалансом у нас лучшее количество деревьев - это, то и с апсемплингом тоже будет 100 - это красный комментарий. Но тут я тебя немножко пожалею и просто на будущее скажу, что если ты как-то манипулируешь с обучающей выборкой, то поиск гиперпараметров стоит организовать заново."
   ]
  },
  {
   "cell_type": "markdown",
   "metadata": {},
   "source": [
    "## Борьба с дисбалансом"
   ]
  },
  {
   "cell_type": "markdown",
   "metadata": {},
   "source": [
    "###  class_weight"
   ]
  },
  {
   "cell_type": "code",
   "execution_count": 100,
   "metadata": {},
   "outputs": [
    {
     "name": "stdout",
     "output_type": "stream",
     "text": [
      "F1: 0.43846780766096166\n",
      "roc_auc 0.7012005493152034\n"
     ]
    }
   ],
   "source": [
    "\n",
    "#логистическая\n",
    "model = LogisticRegression(random_state=12345, solver='liblinear', class_weight='balanced')\n",
    "model.fit(features_train, target_train)\n",
    "predicted_valid = model.predict(features_valid)\n",
    "print(\"F1:\", f1_score(target_valid, predicted_valid))\n",
    "\n",
    "probabilities_valid = model.predict_proba(features_valid)\n",
    "probabilities_one_valid = probabilities_valid[:, 1]\n",
    "\n",
    "\n",
    "auc_roc = roc_auc_score(target_valid, probabilities_one_valid)\n",
    "\n",
    "print(\"roc_auc\", auc_roc)"
   ]
  },
  {
   "cell_type": "code",
   "execution_count": 101,
   "metadata": {},
   "outputs": [
    {
     "name": "stdout",
     "output_type": "stream",
     "text": [
      "F1: 0.5505505505505506\n",
      "roc_auc 0.8097172443097842\n"
     ]
    }
   ],
   "source": [
    "#применяю на дерево с глубиной 7\n",
    "model = DecisionTreeClassifier(random_state=12345,max_depth=7, class_weight='balanced')\n",
    "model.fit(features_train, target_train)\n",
    "predicted_valid = model.predict(features_valid)\n",
    "print(\"F1:\", f1_score(target_valid, predicted_valid)) \n",
    "\n",
    "probabilities_valid1 = model.predict_proba(features_valid)\n",
    "probabilities_one_valid1 = probabilities_valid1[:, 1]\n",
    "\n",
    "\n",
    "auc_roc1 = roc_auc_score(target_valid, probabilities_one_valid1)\n",
    "\n",
    "print(\"roc_auc\", auc_roc1)"
   ]
  },
  {
   "cell_type": "code",
   "execution_count": 102,
   "metadata": {},
   "outputs": [
    {
     "name": "stdout",
     "output_type": "stream",
     "text": [
      "F1: 0.5821917808219178\n",
      "roc_auc 0.8450001231648439\n"
     ]
    }
   ],
   "source": [
    "#лес\n",
    "model = RandomForestClassifier(\n",
    "     n_estimators=100,  max_depth=10,random_state=12345,class_weight = 'balanced')\n",
    "model.fit(features_train, target_train)\n",
    "\n",
    "predicted_valid = model.predict(features_valid)\n",
    "f1 = f1_score(target_valid, predicted_valid)\n",
    "print(\"F1:\", f1)\n",
    "\n",
    "probabilities_valid2 = model.predict_proba(features_valid)\n",
    "probabilities_one_valid2 = probabilities_valid2[:, 1]\n",
    "\n",
    "\n",
    "auc_roc2 = roc_auc_score(target_valid, probabilities_one_valid2)\n",
    "\n",
    "print(\"roc_auc\", auc_roc2)"
   ]
  },
  {
   "cell_type": "markdown",
   "metadata": {},
   "source": [
    "<div class=\"alert alert-danger\">\n",
    "<font size=\"4\"><b>❌ Комментарий ревьюера</b></font>\n",
    "    <br /> \n",
    "    <font size=\"3\", color = \"black\">\n",
    "<br /> \n",
    "В последних 2 блоках ты обучила модель и провалидировала на одном и том же датасете (valid). Поэтому и метрики получились сильно выше, чем у других моделей.\n",
    "    </font>\n",
    "</div>"
   ]
  },
  {
   "cell_type": "markdown",
   "metadata": {},
   "source": [
    "<div class=\"alert alert-danger\">\n",
    "<font size=\"4\"><b>❌ Комментарий ревьюера</b></font>\n",
    "    <br /> \n",
    "    <font size=\"3\", color = \"black\">\n",
    "<br /> \n",
    "Это не очень понятно написано в описании проекта, но подразумевается, что ROC AUC вычисляется на каждом шаге и в конце сделать небольшой вывод по вычисленным значениям ROC AUC.<br>\n",
    "Добавь, пожалуйста, метрику ROC AUC в те блоки, где её нет."
   ]
  },
  {
   "cell_type": "markdown",
   "metadata": {},
   "source": [
    "### Увеличение выборки\n"
   ]
  },
  {
   "cell_type": "code",
   "execution_count": 103,
   "metadata": {},
   "outputs": [
    {
     "name": "stdout",
     "output_type": "stream",
     "text": [
      "F1: 0.4440894568690096\n",
      "roc_auc 0.6985879150655238\n"
     ]
    }
   ],
   "source": [
    "\n",
    "#увеличение выборки на регрессии \n",
    "def upsample(features, target, repeat):\n",
    "    features_zeros = features[target == 0]\n",
    "    features_ones = features[target == 1]\n",
    "    target_zeros = target[target == 0]\n",
    "    target_ones = target[target == 1]\n",
    "    \n",
    "    repeat = 4\n",
    "    features_upsampled = pd.concat([features_zeros] + [features_ones] * repeat)\n",
    "    target_upsampled = pd.concat([target_zeros] + [target_ones] * repeat)\n",
    "    \n",
    "    features_upsampled, target_upsampled = shuffle(\n",
    "         features_upsampled, target_upsampled, random_state=12345)\n",
    "    \n",
    "    return features_upsampled, target_upsampled\n",
    "\n",
    "features_upsampled, target_upsampled = upsample(features_train, target_train, 4)\n",
    "\n",
    "model = LogisticRegression(random_state=12345,solver='liblinear')\n",
    "\n",
    "model.fit(features_upsampled, target_upsampled)\n",
    "\n",
    "predicted_valid = model.predict(features_valid)\n",
    "\n",
    "score = model.score(features_valid, target_valid) \n",
    "\n",
    "\n",
    "print(\"F1:\", f1_score(target_valid, predicted_valid))\n",
    "probabilities_valid_1 = model.predict_proba(features_valid)\n",
    "probabilities_one_valid_1 = probabilities_valid_1[:, 1]\n",
    "\n",
    "\n",
    "auc_roc_1 = roc_auc_score(target_valid, probabilities_one_valid_1)\n",
    "\n",
    "print(\"roc_auc\", auc_roc_1)\n",
    "\n"
   ]
  },
  {
   "cell_type": "code",
   "execution_count": 104,
   "metadata": {},
   "outputs": [
    {
     "name": "stdout",
     "output_type": "stream",
     "text": [
      "F1: 0.49702734839476814\n",
      "roc_auc 0.6857756921864223\n"
     ]
    }
   ],
   "source": [
    "#дерево\n",
    "\n",
    "\n",
    "model = DecisionTreeClassifier(random_state=12345)\n",
    "\n",
    "model.fit(features_upsampled, target_upsampled)\n",
    "\n",
    "predicted_valid = model.predict(features_valid)\n",
    "\n",
    "score = model.score(features_valid, target_valid) \n",
    "\n",
    "print(\"F1:\", f1_score(target_valid, predicted_valid))\n",
    "\n",
    "probabilities_valid_2 = model.predict_proba(features_valid)\n",
    "probabilities_one_valid_2 = probabilities_valid_2[:, 1]\n",
    "\n",
    "\n",
    "auc_roc_2 = roc_auc_score(target_valid, probabilities_one_valid_2)\n",
    "\n",
    "print(\"roc_auc\", auc_roc_2)"
   ]
  },
  {
   "cell_type": "code",
   "execution_count": 105,
   "metadata": {},
   "outputs": [
    {
     "name": "stdout",
     "output_type": "stream",
     "text": [
      "F1: 0.5802968960863697\n",
      "roc_auc 0.8308146122770717\n"
     ]
    }
   ],
   "source": [
    "#лес\n",
    "\n",
    "model = RandomForestClassifier(\n",
    "     n_estimators=100,random_state=12345)\n",
    "\n",
    "model.fit(features_upsampled, target_upsampled)\n",
    "\n",
    "predicted_valid = model.predict(features_valid)\n",
    "\n",
    "score = model.score(features_valid, target_valid) \n",
    "\n",
    "print(\"F1:\", f1_score(target_valid, predicted_valid))\n",
    "\n",
    "probabilities_valid_3 = model.predict_proba(features_valid)\n",
    "probabilities_one_valid_3 = probabilities_valid_3[:, 1]\n",
    "\n",
    "\n",
    "auc_roc_3 = roc_auc_score(target_valid, probabilities_one_valid_3)\n",
    "\n",
    "print(\"roc_auc\", auc_roc_3)"
   ]
  },
  {
   "cell_type": "markdown",
   "metadata": {},
   "source": [
    "<div class=\"alert alert-warning\">\n",
    "<font size=\"4\"><b>⚠️ Комментарий ревьюера</b></font>\n",
    "    <br /> \n",
    "    <font size=\"3\", color = \"black\">\n",
    "<br />\n",
    "2 вопроса:\n",
    "\n",
    "1. Почему ты закомментировала лог регрессию? На неё тоже было бы интересно посмотреть.\n",
    "\n",
    "2. Зачем ты в каждом блоке определяешь одну и ту же функцию и получаешь с помощью неё одни и те же апсемплированные данные? Задай функцию один раз, получи один раз данные с апсемплом и используй."
   ]
  },
  {
   "cell_type": "markdown",
   "metadata": {},
   "source": [
    "<div class=\"alert alert-danger\">\n",
    "<font size=\"4\"><b>❌ Комментарий ревьюера</b></font>\n",
    "    <br /> \n",
    "    <font size=\"3\", color = \"black\">\n",
    "<br /> \n",
    "У тебя, как и нужно, апсемплинг входит в блоки борьбы с дисбалансом, однако, если мы посмотрим на баланс классов после этого действия:\n",
    "    </font>\n",
    "</div>"
   ]
  },
  {
   "cell_type": "code",
   "execution_count": 106,
   "metadata": {},
   "outputs": [
    {
     "data": {
      "text/plain": [
       "0.5056900475894889"
      ]
     },
     "execution_count": 106,
     "metadata": {},
     "output_type": "execute_result"
    }
   ],
   "source": [
    "# КОД РЕВЬЮЕРА\n",
    "target_upsampled.mean()"
   ]
  },
  {
   "cell_type": "markdown",
   "metadata": {},
   "source": [
    "<br/>    \n",
    "<div class=\"alert alert-info\">\n",
    "<h2> Комментарий студента v2: <a class=\"tocSkip\"> </h2>\n",
    "\n",
    "<b>👋:</b> А что значит этот результат? Для чего вышеуказанный код? Были показатели выше - стали ниже. Как интерпретировать?)\n",
    "</div> "
   ]
  },
  {
   "cell_type": "markdown",
   "metadata": {},
   "source": [
    "<div class=\"alert alert-danger\">\n",
    "<font size=\"4\"><b>❌ Комментарий ревьюера V2</b></font>\n",
    "    <br /> \n",
    "    <font size=\"3\", color = \"black\">\n",
    "<br /> \n",
    "В чём вообще состоит идея апсемплинга? У нас несбалансированная выборка, поэтому модели может быть тяжело обнаруживать объекты того класса, который встречается редко. Давайте тогда добавим в обучающую выборку те же самые элементы, просто их размножим, чтобы их стало больше. И добавим их столько раз, сколько нужно, чтобы стал баланс. А сколько нужно взять раз? Зависит от изначального баланса классов. Если изначально одного класса в 10 раз больше, чем другого, то нужно элементы меньшего класса взять ещё 9 раз, и будет баланс. У тебя в самом начале работы есть исследование баланса классов. Отталкиваясь от него и надо решить какое число передавать в функцию апсемплинг.<br>\n",
    "\n",
    "target_upsampled.mean() показывает сколько у тебя процентное отношение элементов положительного класса (все метки - 0 или 1, поэтому взять среднее по таргету - это математически всё равно что вычислить сколько процентно элементов 1). Сейчас у тебя чуть больше 64% апсемплированной выборки - элементы класса 1. Да, это намного лучше, чем было до, но всё ещё не выглядит балансом.\n",
    "    </font>\n",
    "</div>"
   ]
  },
  {
   "cell_type": "code",
   "execution_count": 107,
   "metadata": {},
   "outputs": [
    {
     "data": {
      "text/plain": [
       "1    4888\n",
       "0    4778\n",
       "Name: Exited, dtype: int64"
      ]
     },
     "execution_count": 107,
     "metadata": {},
     "output_type": "execute_result"
    }
   ],
   "source": [
    "target_upsampled.value_counts()"
   ]
  },
  {
   "cell_type": "markdown",
   "metadata": {},
   "source": [
    "<div class=\"alert alert-danger\">\n",
    "<font size=\"4\"></font>\n",
    "    <font size=\"3\", color = \"black\">\n",
    "Апсемплинг должен привести к балансу классов, а он у тебя фактически перевернул ситуацию с ног на голову. Параметр repeat надо подбирать в соответствии с тем, насколько сильный дисбаланс классов в изначальной выборке.\n",
    "    </font>\n",
    "</div>"
   ]
  },
  {
   "cell_type": "markdown",
   "metadata": {},
   "source": [
    "**Вывод:**\n",
    "\n",
    "-Для борьбы с дисбалансом были применены: балансировка классов, увеличение выборки\n",
    "\n",
    "-Эффективней оказалась техника балансировки классов модели\n",
    "\n",
    "-F1 мера улучшилась. Модель леса показала лучший результат (F1: 0.5908529048207664,\n",
    "roc_auc 0.854190091478227)\n",
    "Будем использовать именно ее для дальнейшего тестирования."
   ]
  },
  {
   "cell_type": "markdown",
   "metadata": {},
   "source": [
    "## Тестирование модели"
   ]
  },
  {
   "cell_type": "code",
   "execution_count": 108,
   "metadata": {},
   "outputs": [
    {
     "name": "stdout",
     "output_type": "stream",
     "text": [
      "F1: 0.6013986013986014\n",
      "AUC-ROC 0.8319845268997812\n"
     ]
    }
   ],
   "source": [
    "#выбираем случайный лес\n",
    "model_forest = RandomForestClassifier(\n",
    "    n_estimators=100,max_depth=9,random_state=12345,class_weight = 'balanced'\n",
    ") # обучили модель \n",
    "\n",
    "\n",
    "model_forest.fit(features_train, target_train) # обучили на обучающей\n",
    "predicted_test = model_forest.predict(features_test) #предсказали на тестовой\n",
    "#f1 = f1_score(target_test, predicted) # считаем на предсказании + тестовой \n",
    "  # считаем на предсказании + тестовой \n",
    " \n",
    "print('F1:', f1_score(target_test, predicted_test))     \n",
    "\n",
    "probabilities_test = model.predict_proba(features_test)\n",
    "\n",
    "print('AUC-ROC', roc_auc_score(target_test, probabilities_test[:, 1]))\n"
   ]
  },
  {
   "cell_type": "markdown",
   "metadata": {},
   "source": [
    "<div class=\"alert alert-success\">\n",
    "<font size=\"4\"><b>✔️ Комментарий ревьюера V4</b></font>\n",
    "    <br /> \n",
    "    <font size=\"3\", color = \"black\">\n",
    "<br />\n",
    "Ура! Получена модель необходимого качества!"
   ]
  },
  {
   "cell_type": "markdown",
   "metadata": {},
   "source": [
    "<div class=\"alert alert-danger\">\n",
    "<font size=\"4\"><b>❌ Комментарий ревьюера V3</b></font>\n",
    "    <br /> \n",
    "    <font size=\"3\", color = \"black\">\n",
    "<br /> \n",
    "Ты всё ещё здесь неправильно вызываешь расчёт f1_score. Это же легко исправить даже не смотря на то, что код падает раньше."
   ]
  },
  {
   "cell_type": "markdown",
   "metadata": {},
   "source": [
    "<div class=\"alert alert-danger\">\n",
    "<font size=\"4\"><b>❌ Комментарий ревьюера V2</b></font>\n",
    "    <br /> \n",
    "    <font size=\"3\", color = \"black\">\n",
    "<br /> \n",
    "У вычисления метрики f1 первый параметр - истинные значения, а второй - предсказания. Ты же вызывала наоборот, так что может на самом деле нужный порог и не достигнут."
   ]
  },
  {
   "cell_type": "markdown",
   "metadata": {},
   "source": [
    "<div class=\"alert alert-danger\">\n",
    "<font size=\"4\"><b>❌ Комментарий ревьюера</b></font>\n",
    "    <br /> \n",
    "    <font size=\"3\", color = \"black\">\n",
    "<br /> \n",
    "Давай вкратце проговорим основные вещи, которые тебе надо сделать:\n",
    "\n",
    "+ Добавить вычисление ROC AUC туда где его нет, сделать по его вычислениям выводы\n",
    "\n",
    "+ Добавить логистическую регрессию где её нет или закомментирована\n",
    "\n",
    "+ Сделать подбор основных гиперпараметров моделец: без подбора количества деревьев в лесу тебе не удастся улучшить качество работы леса\n",
    "\n",
    "+ Сделать в апсемпле сбалансированные данные, а не поменять один дисбаланс на другой\n",
    "\n",
    "+ Сделать так, чтобы везде обучение было на обучающей выборке, а валидация - на валидационной. Сейчас так не везде.\n",
    "\n",
    "Ну и собственно добиться указанного в описании проекта качества.<br>\n",
    "Мне местами в проекте казалось, что у тебя нет полного понимания что происходит и что надо делать. Если это действительно так, то не стесняйся спрашивать наставников и преподавателей, ну и ревьюеров, если какой-то вопрос по ходу своих действий возник и ты не уверена. Мы не кусаемся.<br>\n",
    "\n",
    "На этом пока всё, жду следующую отправку!\n",
    "    </font>\n",
    "</div>"
   ]
  },
  {
   "cell_type": "markdown",
   "metadata": {},
   "source": [
    "## Вывод:\n",
    "При анализе датасета были найдены пропуски. Было решено их заменить медианой. Использовалось несколько  моделей: дерева решений, логистичесской регрессии и случайного леса. Также была проведена работа с дисбалансом методом class_weight и увеличения выборки, показатели улучшились больше при балансировке классов. Для проверки на тестовой выборке было решено использовать модель леса, так как на ней  значение метрики было больше. Результаты проверки модели на тестовой выборке показали, что модель обладает значением F1: 0.6013986013986014, \n",
    "AUC-ROC 0.8319845268997812 - цель достигнута"
   ]
  },
  {
   "cell_type": "markdown",
   "metadata": {},
   "source": [
    "## Чек-лист готовности проекта"
   ]
  },
  {
   "cell_type": "markdown",
   "metadata": {},
   "source": [
    "Поставьте 'x' в выполненных пунктах. Далее нажмите Shift+Enter."
   ]
  },
  {
   "cell_type": "code",
   "execution_count": null,
   "metadata": {},
   "outputs": [],
   "source": []
  },
  {
   "cell_type": "markdown",
   "metadata": {},
   "source": [
    "- [x]  Jupyter Notebook открыт\n",
    "- [x]  Весь код выполняется без ошибок\n",
    "- [x]  Ячейки с кодом расположены в порядке исполнения\n",
    "- [x]  Выполнен шаг 1: данные подготовлены\n",
    "- [x]  Выполнен шаг 2: задача исследована\n",
    "    - [x]  Исследован баланс классов\n",
    "    - [x]  Изучены модели без учёта дисбаланса\n",
    "    - [x]  Написаны выводы по результатам исследования\n",
    "- [x]  Выполнен шаг 3: учтён дисбаланс\n",
    "    - [x]  Применено несколько способов борьбы с дисбалансом\n",
    "    - [x]  Написаны выводы по результатам исследования\n",
    "- [x]  Выполнен шаг 4: проведено тестирование\n",
    "- [x]  Удалось достичь *F1*-меры не менее 0.59 - тренировочная???\n",
    "- [x]  Исследована метрика *AUC-ROC*"
   ]
  },
  {
   "cell_type": "code",
   "execution_count": null,
   "metadata": {},
   "outputs": [],
   "source": []
  }
 ],
 "metadata": {
  "ExecuteTimeLog": [
   {
    "duration": 1107,
    "start_time": "2023-01-12T21:24:32.019Z"
   },
   {
    "duration": 156,
    "start_time": "2023-01-12T21:24:49.174Z"
   },
   {
    "duration": 15,
    "start_time": "2023-01-12T21:25:02.294Z"
   },
   {
    "duration": 19,
    "start_time": "2023-01-12T21:26:20.295Z"
   },
   {
    "duration": 50,
    "start_time": "2023-01-12T21:27:55.073Z"
   },
   {
    "duration": 12,
    "start_time": "2023-01-12T21:29:41.657Z"
   },
   {
    "duration": 5,
    "start_time": "2023-01-12T21:30:15.256Z"
   },
   {
    "duration": 2,
    "start_time": "2023-01-12T21:30:36.153Z"
   },
   {
    "duration": 11,
    "start_time": "2023-01-12T21:31:48.595Z"
   },
   {
    "duration": 13,
    "start_time": "2023-01-12T21:32:22.468Z"
   },
   {
    "duration": 8,
    "start_time": "2023-01-12T21:34:26.831Z"
   },
   {
    "duration": 13,
    "start_time": "2023-01-12T21:36:15.327Z"
   },
   {
    "duration": 175,
    "start_time": "2023-01-12T21:36:48.864Z"
   },
   {
    "duration": 5,
    "start_time": "2023-01-12T21:39:59.862Z"
   },
   {
    "duration": 5,
    "start_time": "2023-01-12T21:40:04.292Z"
   },
   {
    "duration": 6,
    "start_time": "2023-01-12T21:40:06.265Z"
   },
   {
    "duration": 12,
    "start_time": "2023-01-12T21:40:16.405Z"
   },
   {
    "duration": 5,
    "start_time": "2023-01-12T21:40:19.467Z"
   },
   {
    "duration": 47,
    "start_time": "2023-01-12T21:40:19.925Z"
   },
   {
    "duration": 19,
    "start_time": "2023-01-12T21:40:20.523Z"
   },
   {
    "duration": 5,
    "start_time": "2023-01-12T21:40:22.885Z"
   },
   {
    "duration": 7,
    "start_time": "2023-01-12T21:40:23.558Z"
   },
   {
    "duration": 19,
    "start_time": "2023-01-12T21:40:25.678Z"
   },
   {
    "duration": 2,
    "start_time": "2023-01-12T21:40:28.605Z"
   },
   {
    "duration": 14,
    "start_time": "2023-01-12T21:40:29.137Z"
   },
   {
    "duration": 207,
    "start_time": "2023-01-12T21:40:35.952Z"
   },
   {
    "duration": 145,
    "start_time": "2023-01-12T21:40:36.467Z"
   },
   {
    "duration": 11,
    "start_time": "2023-01-12T21:41:12.186Z"
   },
   {
    "duration": 124,
    "start_time": "2023-01-12T21:41:51.624Z"
   },
   {
    "duration": 10,
    "start_time": "2023-01-12T21:41:54.624Z"
   },
   {
    "duration": 8,
    "start_time": "2023-01-12T21:42:00.285Z"
   },
   {
    "duration": 9,
    "start_time": "2023-01-12T21:42:03.635Z"
   },
   {
    "duration": 18,
    "start_time": "2023-01-12T21:42:25.643Z"
   },
   {
    "duration": 10,
    "start_time": "2023-01-12T21:42:43.164Z"
   },
   {
    "duration": 11,
    "start_time": "2023-01-12T21:42:47.810Z"
   },
   {
    "duration": 70,
    "start_time": "2023-01-12T21:43:19.262Z"
   },
   {
    "duration": 9,
    "start_time": "2023-01-12T21:43:27.646Z"
   },
   {
    "duration": 9,
    "start_time": "2023-01-12T21:44:50.533Z"
   },
   {
    "duration": 6,
    "start_time": "2023-01-12T21:45:47.738Z"
   },
   {
    "duration": 5,
    "start_time": "2023-01-12T21:45:51.824Z"
   },
   {
    "duration": 9,
    "start_time": "2023-01-12T21:46:03.818Z"
   },
   {
    "duration": 637,
    "start_time": "2023-01-12T21:46:08.020Z"
   },
   {
    "duration": 24,
    "start_time": "2023-01-12T21:46:24.295Z"
   },
   {
    "duration": 146,
    "start_time": "2023-01-12T21:46:30.512Z"
   },
   {
    "duration": 130,
    "start_time": "2023-01-12T21:46:43.464Z"
   },
   {
    "duration": 138,
    "start_time": "2023-01-12T21:47:14.068Z"
   },
   {
    "duration": 280,
    "start_time": "2023-01-12T21:47:20.936Z"
   },
   {
    "duration": 131,
    "start_time": "2023-01-12T21:47:24.820Z"
   },
   {
    "duration": 236,
    "start_time": "2023-01-12T21:47:28.692Z"
   },
   {
    "duration": 13,
    "start_time": "2023-01-12T21:48:07.906Z"
   },
   {
    "duration": 11,
    "start_time": "2023-01-12T21:48:10.798Z"
   },
   {
    "duration": 239,
    "start_time": "2023-01-12T21:48:22.820Z"
   },
   {
    "duration": 189,
    "start_time": "2023-01-12T21:48:30.529Z"
   },
   {
    "duration": 132,
    "start_time": "2023-01-12T21:48:42.181Z"
   },
   {
    "duration": 196,
    "start_time": "2023-01-12T21:49:04.431Z"
   },
   {
    "duration": 115,
    "start_time": "2023-01-12T21:49:05.700Z"
   },
   {
    "duration": 83,
    "start_time": "2023-01-12T21:55:59.558Z"
   },
   {
    "duration": 11,
    "start_time": "2023-01-12T21:56:39.658Z"
   },
   {
    "duration": 4,
    "start_time": "2023-01-12T21:57:31.186Z"
   },
   {
    "duration": 133,
    "start_time": "2023-01-12T22:12:52.776Z"
   },
   {
    "duration": 81,
    "start_time": "2023-01-12T22:13:31.231Z"
   },
   {
    "duration": 4,
    "start_time": "2023-01-12T22:13:33.638Z"
   },
   {
    "duration": 9,
    "start_time": "2023-01-12T22:19:22.731Z"
   },
   {
    "duration": 12,
    "start_time": "2023-01-12T22:20:07.158Z"
   },
   {
    "duration": 5,
    "start_time": "2023-01-12T22:20:46.235Z"
   },
   {
    "duration": 47,
    "start_time": "2023-01-12T22:20:48.790Z"
   },
   {
    "duration": 18,
    "start_time": "2023-01-12T22:20:49.501Z"
   },
   {
    "duration": 5,
    "start_time": "2023-01-12T22:20:50.429Z"
   },
   {
    "duration": 6,
    "start_time": "2023-01-12T22:20:51.157Z"
   },
   {
    "duration": 9,
    "start_time": "2023-01-12T22:20:51.657Z"
   },
   {
    "duration": 13,
    "start_time": "2023-01-12T22:20:52.216Z"
   },
   {
    "duration": 18,
    "start_time": "2023-01-12T22:20:52.778Z"
   },
   {
    "duration": 8,
    "start_time": "2023-01-12T22:20:54.830Z"
   },
   {
    "duration": 130,
    "start_time": "2023-01-12T22:20:55.558Z"
   },
   {
    "duration": 184,
    "start_time": "2023-01-12T22:20:56.307Z"
   },
   {
    "duration": 89,
    "start_time": "2023-01-12T22:20:57.030Z"
   },
   {
    "duration": 5,
    "start_time": "2023-01-12T22:20:58.194Z"
   },
   {
    "duration": 85542,
    "start_time": "2023-01-12T22:20:59.085Z"
   },
   {
    "duration": 0,
    "start_time": "2023-01-12T22:22:24.806Z"
   },
   {
    "duration": 18,
    "start_time": "2023-01-12T22:23:12.301Z"
   },
   {
    "duration": 9,
    "start_time": "2023-01-12T22:24:41.218Z"
   },
   {
    "duration": 3,
    "start_time": "2023-01-12T22:24:59.365Z"
   },
   {
    "duration": 12,
    "start_time": "2023-01-12T22:25:03.719Z"
   },
   {
    "duration": 18,
    "start_time": "2023-01-12T22:25:17.344Z"
   },
   {
    "duration": 11,
    "start_time": "2023-01-12T22:25:38.291Z"
   },
   {
    "duration": 4,
    "start_time": "2023-01-12T22:26:45.558Z"
   },
   {
    "duration": 37,
    "start_time": "2023-01-12T22:26:47.832Z"
   },
   {
    "duration": 13,
    "start_time": "2023-01-12T22:26:48.619Z"
   },
   {
    "duration": 4,
    "start_time": "2023-01-12T22:26:49.152Z"
   },
   {
    "duration": 5,
    "start_time": "2023-01-12T22:26:49.551Z"
   },
   {
    "duration": 9,
    "start_time": "2023-01-12T22:26:49.901Z"
   },
   {
    "duration": 13,
    "start_time": "2023-01-12T22:26:50.220Z"
   },
   {
    "duration": 11,
    "start_time": "2023-01-12T22:26:50.572Z"
   },
   {
    "duration": 6,
    "start_time": "2023-01-12T22:26:51.820Z"
   },
   {
    "duration": 249,
    "start_time": "2023-01-12T22:26:52.290Z"
   },
   {
    "duration": 176,
    "start_time": "2023-01-12T22:26:52.701Z"
   },
   {
    "duration": 91,
    "start_time": "2023-01-12T22:26:53.187Z"
   },
   {
    "duration": 4,
    "start_time": "2023-01-12T22:26:53.581Z"
   },
   {
    "duration": 84954,
    "start_time": "2023-01-12T22:26:54.075Z"
   },
   {
    "duration": 1235,
    "start_time": "2023-01-12T22:28:21.542Z"
   },
   {
    "duration": 1176,
    "start_time": "2023-01-12T22:30:45.391Z"
   },
   {
    "duration": 4,
    "start_time": "2023-01-12T22:31:07.637Z"
   },
   {
    "duration": 1184,
    "start_time": "2023-01-12T22:31:14.781Z"
   },
   {
    "duration": 1180,
    "start_time": "2023-01-12T22:33:42.477Z"
   },
   {
    "duration": 9,
    "start_time": "2023-01-12T22:37:04.958Z"
   },
   {
    "duration": 619,
    "start_time": "2023-01-12T22:45:32.688Z"
   },
   {
    "duration": 5177,
    "start_time": "2023-01-12T22:45:41.429Z"
   },
   {
    "duration": 1264,
    "start_time": "2023-01-12T22:46:16.549Z"
   },
   {
    "duration": 10,
    "start_time": "2023-01-12T22:46:52.148Z"
   },
   {
    "duration": 4,
    "start_time": "2023-01-12T22:47:10.419Z"
   },
   {
    "duration": 38,
    "start_time": "2023-01-12T22:47:12.856Z"
   },
   {
    "duration": 0,
    "start_time": "2023-01-12T22:48:15.176Z"
   },
   {
    "duration": 57799,
    "start_time": "2023-01-12T22:48:18.099Z"
   },
   {
    "duration": 0,
    "start_time": "2023-01-12T22:49:15.904Z"
   },
   {
    "duration": 13028,
    "start_time": "2023-01-12T22:49:46.429Z"
   },
   {
    "duration": 3,
    "start_time": "2023-01-12T22:52:45.740Z"
   },
   {
    "duration": 570,
    "start_time": "2023-01-12T22:54:41.758Z"
   },
   {
    "duration": 12,
    "start_time": "2023-01-12T22:56:39.558Z"
   },
   {
    "duration": 830,
    "start_time": "2023-01-12T22:56:48.967Z"
   },
   {
    "duration": 801,
    "start_time": "2023-01-12T22:57:04.859Z"
   },
   {
    "duration": 74,
    "start_time": "2023-01-12T22:59:09.379Z"
   },
   {
    "duration": 279,
    "start_time": "2023-01-12T23:00:38.891Z"
   },
   {
    "duration": 1529,
    "start_time": "2023-01-12T23:02:02.997Z"
   },
   {
    "duration": 532,
    "start_time": "2023-01-12T23:02:57.381Z"
   },
   {
    "duration": 5303,
    "start_time": "2023-01-12T23:03:11.308Z"
   },
   {
    "duration": 1288,
    "start_time": "2023-01-16T14:24:19.564Z"
   },
   {
    "duration": 82,
    "start_time": "2023-01-16T14:24:20.854Z"
   },
   {
    "duration": 14,
    "start_time": "2023-01-16T14:24:21.764Z"
   },
   {
    "duration": 10,
    "start_time": "2023-01-16T14:24:24.353Z"
   },
   {
    "duration": 8,
    "start_time": "2023-01-16T14:24:25.703Z"
   },
   {
    "duration": 12,
    "start_time": "2023-01-16T14:24:26.504Z"
   },
   {
    "duration": 14,
    "start_time": "2023-01-16T14:24:27.610Z"
   },
   {
    "duration": 14,
    "start_time": "2023-01-16T14:24:29.003Z"
   },
   {
    "duration": 129,
    "start_time": "2023-01-16T14:28:03.943Z"
   },
   {
    "duration": 115,
    "start_time": "2023-01-16T14:28:36.169Z"
   },
   {
    "duration": 17,
    "start_time": "2023-01-16T14:29:37.908Z"
   },
   {
    "duration": 10,
    "start_time": "2023-01-16T14:29:46.597Z"
   },
   {
    "duration": 9,
    "start_time": "2023-01-16T14:30:01.271Z"
   },
   {
    "duration": 6,
    "start_time": "2023-01-16T14:30:21.906Z"
   },
   {
    "duration": 38,
    "start_time": "2023-01-16T14:30:22.861Z"
   },
   {
    "duration": 20,
    "start_time": "2023-01-16T14:30:23.661Z"
   },
   {
    "duration": 5,
    "start_time": "2023-01-16T14:30:26.010Z"
   },
   {
    "duration": 12,
    "start_time": "2023-01-16T14:30:26.052Z"
   },
   {
    "duration": 8,
    "start_time": "2023-01-16T14:30:35.392Z"
   },
   {
    "duration": 9,
    "start_time": "2023-01-16T14:30:38.475Z"
   },
   {
    "duration": 11,
    "start_time": "2023-01-16T14:30:42.797Z"
   },
   {
    "duration": 9,
    "start_time": "2023-01-16T14:31:11.860Z"
   },
   {
    "duration": 12,
    "start_time": "2023-01-16T14:31:13.849Z"
   },
   {
    "duration": 8,
    "start_time": "2023-01-16T14:31:24.008Z"
   },
   {
    "duration": 13,
    "start_time": "2023-01-16T14:31:27.788Z"
   },
   {
    "duration": 5,
    "start_time": "2023-01-16T14:31:48.397Z"
   },
   {
    "duration": 8,
    "start_time": "2023-01-16T14:31:50.847Z"
   },
   {
    "duration": 12,
    "start_time": "2023-01-16T14:31:53.555Z"
   },
   {
    "duration": 7,
    "start_time": "2023-01-16T14:33:39.848Z"
   },
   {
    "duration": 12,
    "start_time": "2023-01-16T14:33:42.986Z"
   },
   {
    "duration": 14,
    "start_time": "2023-01-16T14:34:11.586Z"
   },
   {
    "duration": 14,
    "start_time": "2023-01-16T14:34:13.221Z"
   },
   {
    "duration": 7,
    "start_time": "2023-01-16T14:34:17.970Z"
   },
   {
    "duration": 702,
    "start_time": "2023-01-16T14:34:19.761Z"
   },
   {
    "duration": 223,
    "start_time": "2023-01-16T14:34:28.907Z"
   },
   {
    "duration": 143,
    "start_time": "2023-01-16T14:34:30.516Z"
   },
   {
    "duration": 4,
    "start_time": "2023-01-16T14:34:35.992Z"
   },
   {
    "duration": 1377,
    "start_time": "2023-01-16T14:34:38.152Z"
   },
   {
    "duration": 1322,
    "start_time": "2023-01-16T14:34:43.682Z"
   },
   {
    "duration": 1378,
    "start_time": "2023-01-16T14:34:50.441Z"
   },
   {
    "duration": 598,
    "start_time": "2023-01-16T14:35:00.960Z"
   },
   {
    "duration": 925,
    "start_time": "2023-01-16T14:35:08.071Z"
   },
   {
    "duration": 961,
    "start_time": "2023-01-16T14:44:43.306Z"
   },
   {
    "duration": 97,
    "start_time": "2023-01-16T14:59:00.628Z"
   },
   {
    "duration": 5,
    "start_time": "2023-01-16T14:59:31.301Z"
   },
   {
    "duration": 1178,
    "start_time": "2023-01-16T15:05:16.967Z"
   },
   {
    "duration": 1121,
    "start_time": "2023-01-16T15:06:44.913Z"
   },
   {
    "duration": 1257,
    "start_time": "2023-01-16T15:07:19.435Z"
   },
   {
    "duration": 2120,
    "start_time": "2023-01-16T15:07:36.933Z"
   },
   {
    "duration": 986,
    "start_time": "2023-01-16T15:09:23.795Z"
   },
   {
    "duration": 76,
    "start_time": "2023-01-16T15:12:51.223Z"
   },
   {
    "duration": 23,
    "start_time": "2023-01-16T15:13:04.822Z"
   },
   {
    "duration": 434,
    "start_time": "2023-01-16T15:13:18.221Z"
   },
   {
    "duration": 940,
    "start_time": "2023-01-16T15:13:26.188Z"
   },
   {
    "duration": 928,
    "start_time": "2023-01-16T15:14:20.538Z"
   },
   {
    "duration": 894,
    "start_time": "2023-01-16T15:14:22.533Z"
   },
   {
    "duration": 927,
    "start_time": "2023-01-16T15:14:24.421Z"
   },
   {
    "duration": 44488,
    "start_time": "2023-01-16T15:15:07.164Z"
   },
   {
    "duration": 17731,
    "start_time": "2023-01-16T15:18:04.327Z"
   },
   {
    "duration": 17673,
    "start_time": "2023-01-16T15:19:10.941Z"
   },
   {
    "duration": 18106,
    "start_time": "2023-01-16T15:19:52.998Z"
   },
   {
    "duration": 45060,
    "start_time": "2023-01-16T15:21:02.050Z"
   },
   {
    "duration": 1067,
    "start_time": "2023-01-16T15:24:06.388Z"
   },
   {
    "duration": 1088,
    "start_time": "2023-01-16T15:24:27.205Z"
   },
   {
    "duration": 7606,
    "start_time": "2023-01-16T15:24:58.894Z"
   },
   {
    "duration": 477,
    "start_time": "2023-01-16T15:27:03.479Z"
   },
   {
    "duration": 605,
    "start_time": "2023-01-16T15:27:09.297Z"
   },
   {
    "duration": 886,
    "start_time": "2023-01-16T15:27:11.474Z"
   },
   {
    "duration": 86,
    "start_time": "2023-01-16T15:27:22.392Z"
   },
   {
    "duration": 5,
    "start_time": "2023-01-16T15:27:23.352Z"
   },
   {
    "duration": 2280,
    "start_time": "2023-01-16T15:27:25.897Z"
   },
   {
    "duration": 526,
    "start_time": "2023-01-16T15:28:01.389Z"
   },
   {
    "duration": 2023,
    "start_time": "2023-01-16T15:28:14.433Z"
   },
   {
    "duration": 2095,
    "start_time": "2023-01-16T15:28:27.337Z"
   },
   {
    "duration": 531,
    "start_time": "2023-01-16T15:29:05.864Z"
   },
   {
    "duration": 1137,
    "start_time": "2023-01-16T15:29:21.493Z"
   },
   {
    "duration": 1179,
    "start_time": "2023-01-16T15:30:42.017Z"
   },
   {
    "duration": 2295,
    "start_time": "2023-01-16T15:30:49.208Z"
   },
   {
    "duration": 3498,
    "start_time": "2023-01-16T15:30:57.890Z"
   },
   {
    "duration": 1152,
    "start_time": "2023-01-16T15:32:10.687Z"
   },
   {
    "duration": 1128,
    "start_time": "2023-01-16T15:32:25.029Z"
   },
   {
    "duration": 3174,
    "start_time": "2023-01-16T15:32:55.937Z"
   },
   {
    "duration": 1264,
    "start_time": "2023-01-16T15:33:10.028Z"
   },
   {
    "duration": 2088,
    "start_time": "2023-01-16T15:33:29.279Z"
   },
   {
    "duration": 15,
    "start_time": "2023-01-16T15:34:00.784Z"
   },
   {
    "duration": 470,
    "start_time": "2023-01-16T15:34:15.465Z"
   },
   {
    "duration": 124,
    "start_time": "2023-01-16T15:36:47.585Z"
   },
   {
    "duration": 4,
    "start_time": "2023-01-16T15:36:49.460Z"
   },
   {
    "duration": 915,
    "start_time": "2023-01-16T15:36:55.175Z"
   },
   {
    "duration": 926,
    "start_time": "2023-01-16T15:36:57.631Z"
   },
   {
    "duration": 970,
    "start_time": "2023-01-16T15:36:59.901Z"
   },
   {
    "duration": 7600,
    "start_time": "2023-01-16T15:37:04.219Z"
   },
   {
    "duration": 488,
    "start_time": "2023-01-16T15:37:16.288Z"
   },
   {
    "duration": 576,
    "start_time": "2023-01-16T15:37:18.162Z"
   },
   {
    "duration": 2092,
    "start_time": "2023-01-16T15:37:20.652Z"
   },
   {
    "duration": 4,
    "start_time": "2023-01-16T15:38:42.904Z"
   },
   {
    "duration": 6709,
    "start_time": "2023-01-16T15:39:36.907Z"
   },
   {
    "duration": 5625,
    "start_time": "2023-01-16T15:41:06.905Z"
   },
   {
    "duration": 5483,
    "start_time": "2023-01-16T15:42:01.083Z"
   },
   {
    "duration": 5231,
    "start_time": "2023-01-16T15:42:16.651Z"
   },
   {
    "duration": 2091,
    "start_time": "2023-01-16T15:43:29.706Z"
   },
   {
    "duration": 2973,
    "start_time": "2023-01-16T15:43:42.237Z"
   },
   {
    "duration": 49,
    "start_time": "2023-01-16T15:44:57.154Z"
   },
   {
    "duration": 7583,
    "start_time": "2023-01-16T15:46:00.988Z"
   },
   {
    "duration": 10310,
    "start_time": "2023-01-16T15:47:41.265Z"
   },
   {
    "duration": 52484,
    "start_time": "2023-01-16T15:48:08.185Z"
   },
   {
    "duration": 5624,
    "start_time": "2023-01-16T15:49:12.090Z"
   },
   {
    "duration": 92,
    "start_time": "2023-01-16T15:50:47.223Z"
   },
   {
    "duration": 697,
    "start_time": "2023-01-16T15:51:15.459Z"
   },
   {
    "duration": 574,
    "start_time": "2023-01-16T15:51:20.737Z"
   },
   {
    "duration": 424,
    "start_time": "2023-01-16T15:52:42.938Z"
   },
   {
    "duration": 133,
    "start_time": "2023-01-16T15:53:19.368Z"
   },
   {
    "duration": 145,
    "start_time": "2023-01-16T15:53:56.888Z"
   },
   {
    "duration": 1147,
    "start_time": "2023-01-16T15:54:55.208Z"
   },
   {
    "duration": 71,
    "start_time": "2023-01-16T15:56:19.913Z"
   },
   {
    "duration": 1118,
    "start_time": "2023-01-16T15:56:30.565Z"
   },
   {
    "duration": 494,
    "start_time": "2023-01-16T15:56:37.675Z"
   },
   {
    "duration": 3,
    "start_time": "2023-01-16T15:57:22.188Z"
   },
   {
    "duration": 2,
    "start_time": "2023-01-16T15:57:23.552Z"
   },
   {
    "duration": 480,
    "start_time": "2023-01-16T15:57:28.047Z"
   },
   {
    "duration": 426,
    "start_time": "2023-01-16T15:59:47.068Z"
   },
   {
    "duration": 423,
    "start_time": "2023-01-16T16:02:14.940Z"
   },
   {
    "duration": 1181,
    "start_time": "2023-01-16T16:02:32.024Z"
   },
   {
    "duration": 153,
    "start_time": "2023-01-16T16:02:38.105Z"
   },
   {
    "duration": 433,
    "start_time": "2023-01-16T16:02:44.615Z"
   },
   {
    "duration": 3,
    "start_time": "2023-01-16T16:03:21.224Z"
   },
   {
    "duration": 432,
    "start_time": "2023-01-16T16:14:28.777Z"
   },
   {
    "duration": 409,
    "start_time": "2023-01-16T16:14:38.192Z"
   },
   {
    "duration": 426,
    "start_time": "2023-01-16T16:15:11.234Z"
   },
   {
    "duration": 3,
    "start_time": "2023-01-16T16:21:01.035Z"
   },
   {
    "duration": 17,
    "start_time": "2023-01-16T16:42:26.416Z"
   },
   {
    "duration": 9,
    "start_time": "2023-01-16T16:43:44.729Z"
   },
   {
    "duration": 8,
    "start_time": "2023-01-16T16:43:56.763Z"
   },
   {
    "duration": 18,
    "start_time": "2023-01-16T16:44:13.219Z"
   },
   {
    "duration": 12,
    "start_time": "2023-01-16T16:44:57.554Z"
   },
   {
    "duration": 24,
    "start_time": "2023-01-16T16:45:47.464Z"
   },
   {
    "duration": 35,
    "start_time": "2023-01-16T16:46:32.117Z"
   },
   {
    "duration": 31,
    "start_time": "2023-01-16T16:49:06.822Z"
   },
   {
    "duration": 49,
    "start_time": "2023-01-16T16:49:45.065Z"
   },
   {
    "duration": 21,
    "start_time": "2023-01-16T16:51:43.303Z"
   },
   {
    "duration": 29,
    "start_time": "2023-01-16T16:52:46.731Z"
   },
   {
    "duration": 28,
    "start_time": "2023-01-16T16:53:58.021Z"
   },
   {
    "duration": 19,
    "start_time": "2023-01-16T16:55:42.912Z"
   },
   {
    "duration": 26,
    "start_time": "2023-01-16T16:55:43.989Z"
   },
   {
    "duration": 123,
    "start_time": "2023-01-16T16:58:19.220Z"
   },
   {
    "duration": 43,
    "start_time": "2023-01-16T17:00:42.947Z"
   },
   {
    "duration": 32,
    "start_time": "2023-01-16T17:00:53.509Z"
   },
   {
    "duration": 88,
    "start_time": "2023-01-16T17:01:02.391Z"
   },
   {
    "duration": 1870,
    "start_time": "2023-01-16T17:02:06.494Z"
   },
   {
    "duration": 186,
    "start_time": "2023-01-16T17:17:25.570Z"
   },
   {
    "duration": 184,
    "start_time": "2023-01-16T17:17:34.505Z"
   },
   {
    "duration": 1585,
    "start_time": "2023-01-16T17:17:41.959Z"
   },
   {
    "duration": 1229,
    "start_time": "2023-01-16T17:18:05.522Z"
   },
   {
    "duration": 1552,
    "start_time": "2023-01-16T17:18:15.215Z"
   },
   {
    "duration": 3024,
    "start_time": "2023-01-16T17:19:13.472Z"
   },
   {
    "duration": 21884,
    "start_time": "2023-01-16T17:19:50.669Z"
   },
   {
    "duration": 22315,
    "start_time": "2023-01-16T17:21:55.157Z"
   },
   {
    "duration": 438,
    "start_time": "2023-01-16T17:24:00.391Z"
   },
   {
    "duration": 5,
    "start_time": "2023-01-16T17:26:01.121Z"
   },
   {
    "duration": 36,
    "start_time": "2023-01-16T17:26:02.070Z"
   },
   {
    "duration": 14,
    "start_time": "2023-01-16T17:26:03.062Z"
   },
   {
    "duration": 5,
    "start_time": "2023-01-16T17:26:03.102Z"
   },
   {
    "duration": 7,
    "start_time": "2023-01-16T17:26:05.203Z"
   },
   {
    "duration": 9,
    "start_time": "2023-01-16T17:26:09.539Z"
   },
   {
    "duration": 21,
    "start_time": "2023-01-16T17:26:09.570Z"
   },
   {
    "duration": 13,
    "start_time": "2023-01-16T17:26:11.707Z"
   },
   {
    "duration": 6,
    "start_time": "2023-01-16T17:26:14.401Z"
   },
   {
    "duration": 150,
    "start_time": "2023-01-16T17:26:14.450Z"
   },
   {
    "duration": 226,
    "start_time": "2023-01-16T17:26:18.353Z"
   },
   {
    "duration": 141,
    "start_time": "2023-01-16T17:26:18.581Z"
   },
   {
    "duration": 5,
    "start_time": "2023-01-16T17:26:21.737Z"
   },
   {
    "duration": 889,
    "start_time": "2023-01-16T17:26:23.023Z"
   },
   {
    "duration": 902,
    "start_time": "2023-01-16T17:26:24.092Z"
   },
   {
    "duration": 891,
    "start_time": "2023-01-16T17:26:25.908Z"
   },
   {
    "duration": 2999,
    "start_time": "2023-01-16T17:26:28.242Z"
   },
   {
    "duration": 37,
    "start_time": "2023-01-16T17:26:35.492Z"
   },
   {
    "duration": 7600,
    "start_time": "2023-01-16T17:26:35.532Z"
   },
   {
    "duration": 5399,
    "start_time": "2023-01-16T17:26:43.134Z"
   },
   {
    "duration": 64,
    "start_time": "2023-01-16T17:26:57.617Z"
   },
   {
    "duration": 520,
    "start_time": "2023-01-16T17:27:24.433Z"
   },
   {
    "duration": 119,
    "start_time": "2023-01-16T17:27:25.601Z"
   },
   {
    "duration": 478,
    "start_time": "2023-01-16T17:27:31.873Z"
   },
   {
    "duration": 493,
    "start_time": "2023-01-16T17:27:53.493Z"
   },
   {
    "duration": 2,
    "start_time": "2023-01-16T17:27:58.764Z"
   },
   {
    "duration": 1482,
    "start_time": "2023-01-16T17:28:01.138Z"
   },
   {
    "duration": 21621,
    "start_time": "2023-01-16T17:28:05.069Z"
   },
   {
    "duration": 427,
    "start_time": "2023-01-16T17:28:30.042Z"
   },
   {
    "duration": 2,
    "start_time": "2023-01-16T17:28:47.303Z"
   },
   {
    "duration": 1172,
    "start_time": "2023-01-17T13:48:22.605Z"
   },
   {
    "duration": 87,
    "start_time": "2023-01-17T13:48:23.779Z"
   },
   {
    "duration": 14,
    "start_time": "2023-01-17T13:48:23.868Z"
   },
   {
    "duration": 9,
    "start_time": "2023-01-17T13:48:23.884Z"
   },
   {
    "duration": 20,
    "start_time": "2023-01-17T13:48:23.895Z"
   },
   {
    "duration": 12,
    "start_time": "2023-01-17T13:48:23.917Z"
   },
   {
    "duration": 14,
    "start_time": "2023-01-17T13:48:23.931Z"
   },
   {
    "duration": 14,
    "start_time": "2023-01-17T13:48:23.947Z"
   },
   {
    "duration": 6,
    "start_time": "2023-01-17T13:48:23.963Z"
   },
   {
    "duration": 450,
    "start_time": "2023-01-17T13:48:23.970Z"
   },
   {
    "duration": 214,
    "start_time": "2023-01-17T13:48:24.422Z"
   },
   {
    "duration": 165,
    "start_time": "2023-01-17T13:48:24.638Z"
   },
   {
    "duration": 4,
    "start_time": "2023-01-17T13:48:24.804Z"
   },
   {
    "duration": 1052,
    "start_time": "2023-01-17T13:48:24.815Z"
   },
   {
    "duration": 991,
    "start_time": "2023-01-17T13:48:25.869Z"
   },
   {
    "duration": 924,
    "start_time": "2023-01-17T13:48:26.862Z"
   },
   {
    "duration": 3052,
    "start_time": "2023-01-17T13:48:27.787Z"
   },
   {
    "duration": 46,
    "start_time": "2023-01-17T13:48:30.841Z"
   },
   {
    "duration": 7672,
    "start_time": "2023-01-17T13:48:30.889Z"
   },
   {
    "duration": 5457,
    "start_time": "2023-01-17T13:48:38.562Z"
   },
   {
    "duration": 70,
    "start_time": "2023-01-17T13:48:44.021Z"
   },
   {
    "duration": 539,
    "start_time": "2023-01-17T13:48:44.092Z"
   },
   {
    "duration": 159,
    "start_time": "2023-01-17T13:48:44.712Z"
   },
   {
    "duration": 493,
    "start_time": "2023-01-17T13:48:44.873Z"
   },
   {
    "duration": 3,
    "start_time": "2023-01-17T13:48:45.367Z"
   },
   {
    "duration": 1430,
    "start_time": "2023-01-17T13:48:45.371Z"
   },
   {
    "duration": 21207,
    "start_time": "2023-01-17T13:48:46.803Z"
   },
   {
    "duration": 425,
    "start_time": "2023-01-17T13:49:08.011Z"
   },
   {
    "duration": 3,
    "start_time": "2023-01-17T13:49:08.438Z"
   },
   {
    "duration": 38,
    "start_time": "2023-01-17T13:52:38.016Z"
   },
   {
    "duration": 5,
    "start_time": "2023-01-17T13:52:47.835Z"
   },
   {
    "duration": 4,
    "start_time": "2023-01-17T13:52:51.085Z"
   },
   {
    "duration": 5,
    "start_time": "2023-01-17T13:52:58.607Z"
   },
   {
    "duration": 5,
    "start_time": "2023-01-17T13:53:08.575Z"
   },
   {
    "duration": 4,
    "start_time": "2023-01-17T13:55:00.807Z"
   },
   {
    "duration": 4,
    "start_time": "2023-01-17T14:10:17.618Z"
   },
   {
    "duration": 1279,
    "start_time": "2023-01-25T10:15:33.640Z"
   },
   {
    "duration": 209,
    "start_time": "2023-01-25T10:15:35.554Z"
   },
   {
    "duration": 14,
    "start_time": "2023-01-25T10:15:36.246Z"
   },
   {
    "duration": 12,
    "start_time": "2023-01-25T10:15:37.160Z"
   },
   {
    "duration": 6,
    "start_time": "2023-01-25T10:15:37.727Z"
   },
   {
    "duration": 9,
    "start_time": "2023-01-25T10:15:38.848Z"
   },
   {
    "duration": 17,
    "start_time": "2023-01-25T10:15:39.367Z"
   },
   {
    "duration": 13,
    "start_time": "2023-01-25T10:15:39.888Z"
   },
   {
    "duration": 5,
    "start_time": "2023-01-25T10:15:41.440Z"
   },
   {
    "duration": 567,
    "start_time": "2023-01-25T10:15:41.953Z"
   },
   {
    "duration": 212,
    "start_time": "2023-01-25T10:15:43.315Z"
   },
   {
    "duration": 159,
    "start_time": "2023-01-25T10:15:44.482Z"
   },
   {
    "duration": 4,
    "start_time": "2023-01-25T10:15:45.392Z"
   },
   {
    "duration": 200,
    "start_time": "2023-01-25T10:17:24.225Z"
   },
   {
    "duration": 111,
    "start_time": "2023-01-25T10:18:14.184Z"
   },
   {
    "duration": 4,
    "start_time": "2023-01-25T10:18:17.085Z"
   },
   {
    "duration": 4,
    "start_time": "2023-01-25T10:18:28.459Z"
   },
   {
    "duration": 815,
    "start_time": "2023-01-25T10:18:30.230Z"
   },
   {
    "duration": 893,
    "start_time": "2023-01-25T10:18:34.205Z"
   },
   {
    "duration": 760,
    "start_time": "2023-01-25T10:18:40.029Z"
   },
   {
    "duration": 3076,
    "start_time": "2023-01-25T10:18:52.279Z"
   },
   {
    "duration": 53,
    "start_time": "2023-01-25T10:19:25.925Z"
   },
   {
    "duration": 10,
    "start_time": "2023-01-25T10:19:32.004Z"
   },
   {
    "duration": 7207,
    "start_time": "2023-01-25T10:19:43.085Z"
   },
   {
    "duration": 6038,
    "start_time": "2023-01-25T10:19:55.286Z"
   },
   {
    "duration": 3151,
    "start_time": "2023-01-25T10:20:21.703Z"
   },
   {
    "duration": 5543,
    "start_time": "2023-01-25T10:20:31.989Z"
   },
   {
    "duration": 6,
    "start_time": "2023-01-25T10:26:32.380Z"
   },
   {
    "duration": 45,
    "start_time": "2023-01-25T10:26:34.540Z"
   },
   {
    "duration": 13,
    "start_time": "2023-01-25T10:26:35.319Z"
   },
   {
    "duration": 5,
    "start_time": "2023-01-25T10:26:35.986Z"
   },
   {
    "duration": 8,
    "start_time": "2023-01-25T10:26:36.751Z"
   },
   {
    "duration": 8,
    "start_time": "2023-01-25T10:26:47.945Z"
   },
   {
    "duration": 11,
    "start_time": "2023-01-25T10:26:48.413Z"
   },
   {
    "duration": 19,
    "start_time": "2023-01-25T10:26:49.563Z"
   },
   {
    "duration": 7,
    "start_time": "2023-01-25T10:26:56.197Z"
   },
   {
    "duration": 125,
    "start_time": "2023-01-25T10:26:57.008Z"
   },
   {
    "duration": 179,
    "start_time": "2023-01-25T10:26:59.107Z"
   },
   {
    "duration": 125,
    "start_time": "2023-01-25T10:27:00.314Z"
   },
   {
    "duration": 5,
    "start_time": "2023-01-25T10:27:03.433Z"
   },
   {
    "duration": 5,
    "start_time": "2023-01-25T10:27:14.060Z"
   },
   {
    "duration": 141,
    "start_time": "2023-01-25T10:27:40.166Z"
   },
   {
    "duration": 108,
    "start_time": "2023-01-25T10:27:46.509Z"
   },
   {
    "duration": 4,
    "start_time": "2023-01-25T10:27:55.011Z"
   },
   {
    "duration": 5,
    "start_time": "2023-01-25T10:27:57.440Z"
   },
   {
    "duration": 827,
    "start_time": "2023-01-25T10:28:09.465Z"
   },
   {
    "duration": 854,
    "start_time": "2023-01-25T10:28:10.294Z"
   },
   {
    "duration": 864,
    "start_time": "2023-01-25T10:28:12.123Z"
   },
   {
    "duration": 3145,
    "start_time": "2023-01-25T10:28:16.792Z"
   },
   {
    "duration": 48,
    "start_time": "2023-01-25T10:28:24.117Z"
   },
   {
    "duration": 7491,
    "start_time": "2023-01-25T10:28:28.165Z"
   },
   {
    "duration": 5428,
    "start_time": "2023-01-25T10:28:35.658Z"
   },
   {
    "duration": 7451,
    "start_time": "2023-01-25T10:28:47.005Z"
   },
   {
    "duration": 4141,
    "start_time": "2023-01-25T10:28:59.322Z"
   },
   {
    "duration": 3184,
    "start_time": "2023-01-25T10:29:08.026Z"
   },
   {
    "duration": 5345,
    "start_time": "2023-01-25T10:29:17.754Z"
   },
   {
    "duration": 77,
    "start_time": "2023-01-25T10:29:44.314Z"
   },
   {
    "duration": 3,
    "start_time": "2023-01-25T10:32:27.660Z"
   },
   {
    "duration": 3642,
    "start_time": "2023-01-25T10:33:22.962Z"
   },
   {
    "duration": 3413,
    "start_time": "2023-01-25T10:39:22.757Z"
   },
   {
    "duration": 471,
    "start_time": "2023-01-25T10:39:32.205Z"
   },
   {
    "duration": 510,
    "start_time": "2023-01-25T10:39:48.363Z"
   },
   {
    "duration": 12,
    "start_time": "2023-01-25T10:41:10.331Z"
   },
   {
    "duration": 563,
    "start_time": "2023-01-25T10:41:49.624Z"
   },
   {
    "duration": 3904,
    "start_time": "2023-01-25T10:47:00.964Z"
   },
   {
    "duration": 44,
    "start_time": "2023-01-25T10:50:21.332Z"
   },
   {
    "duration": 11,
    "start_time": "2023-01-25T10:51:25.966Z"
   },
   {
    "duration": 40272,
    "start_time": "2023-01-25T10:51:34.705Z"
   },
   {
    "duration": 91,
    "start_time": "2023-01-25T10:52:14.982Z"
   },
   {
    "duration": 5077,
    "start_time": "2023-01-25T10:55:29.216Z"
   },
   {
    "duration": 567,
    "start_time": "2023-01-25T11:03:36.486Z"
   },
   {
    "duration": 1133,
    "start_time": "2023-01-25T11:03:54.985Z"
   },
   {
    "duration": 364,
    "start_time": "2023-01-25T11:05:58.018Z"
   },
   {
    "duration": 383,
    "start_time": "2023-01-25T11:06:09.981Z"
   },
   {
    "duration": 395,
    "start_time": "2023-01-25T11:06:17.931Z"
   },
   {
    "duration": 362,
    "start_time": "2023-01-25T11:06:23.688Z"
   },
   {
    "duration": 422,
    "start_time": "2023-01-25T11:06:33.772Z"
   },
   {
    "duration": 43,
    "start_time": "2023-01-25T11:08:44.209Z"
   },
   {
    "duration": 43,
    "start_time": "2023-01-25T11:09:11.217Z"
   },
   {
    "duration": 10,
    "start_time": "2023-01-25T11:20:03.544Z"
   },
   {
    "duration": 4,
    "start_time": "2023-01-25T11:30:05.539Z"
   },
   {
    "duration": 36,
    "start_time": "2023-01-25T11:30:07.159Z"
   },
   {
    "duration": 12,
    "start_time": "2023-01-25T11:30:07.732Z"
   },
   {
    "duration": 4,
    "start_time": "2023-01-25T11:30:08.283Z"
   },
   {
    "duration": 7,
    "start_time": "2023-01-25T11:30:08.877Z"
   },
   {
    "duration": 7,
    "start_time": "2023-01-25T11:30:09.956Z"
   },
   {
    "duration": 12,
    "start_time": "2023-01-25T11:30:10.583Z"
   },
   {
    "duration": 12,
    "start_time": "2023-01-25T11:30:11.211Z"
   },
   {
    "duration": 5,
    "start_time": "2023-01-25T11:30:12.863Z"
   },
   {
    "duration": 129,
    "start_time": "2023-01-25T11:30:13.422Z"
   },
   {
    "duration": 190,
    "start_time": "2023-01-25T11:30:14.463Z"
   },
   {
    "duration": 113,
    "start_time": "2023-01-25T11:30:15.485Z"
   },
   {
    "duration": 4,
    "start_time": "2023-01-25T11:30:16.012Z"
   },
   {
    "duration": 4,
    "start_time": "2023-01-25T11:30:18.650Z"
   },
   {
    "duration": 762,
    "start_time": "2023-01-25T11:30:20.585Z"
   },
   {
    "duration": 752,
    "start_time": "2023-01-25T11:30:21.350Z"
   },
   {
    "duration": 725,
    "start_time": "2023-01-25T11:30:22.104Z"
   },
   {
    "duration": 2768,
    "start_time": "2023-01-25T11:30:23.993Z"
   },
   {
    "duration": 36,
    "start_time": "2023-01-25T11:30:31.782Z"
   },
   {
    "duration": 6912,
    "start_time": "2023-01-25T11:30:35.428Z"
   },
   {
    "duration": 5162,
    "start_time": "2023-01-25T11:30:42.341Z"
   },
   {
    "duration": 60,
    "start_time": "2023-01-25T11:30:53.243Z"
   },
   {
    "duration": 2932,
    "start_time": "2023-01-25T11:31:00.060Z"
   },
   {
    "duration": 472,
    "start_time": "2023-01-25T11:31:20.801Z"
   },
   {
    "duration": 369,
    "start_time": "2023-01-25T11:31:23.998Z"
   },
   {
    "duration": 960,
    "start_time": "2023-01-25T11:31:58.607Z"
   },
   {
    "duration": 59,
    "start_time": "2023-01-25T11:32:15.061Z"
   },
   {
    "duration": 514,
    "start_time": "2023-01-25T11:32:31.558Z"
   },
   {
    "duration": 471,
    "start_time": "2023-01-25T11:33:38.897Z"
   },
   {
    "duration": 349,
    "start_time": "2023-01-25T11:33:41.704Z"
   },
   {
    "duration": 978,
    "start_time": "2023-01-25T11:33:45.046Z"
   },
   {
    "duration": 383,
    "start_time": "2023-01-25T11:34:29.851Z"
   },
   {
    "duration": 389,
    "start_time": "2023-01-25T11:34:36.404Z"
   },
   {
    "duration": 716,
    "start_time": "2023-01-25T11:35:40.857Z"
   },
   {
    "duration": 404,
    "start_time": "2023-01-25T11:35:52.756Z"
   },
   {
    "duration": 1037,
    "start_time": "2023-01-25T11:36:13.655Z"
   },
   {
    "duration": 4,
    "start_time": "2023-01-25T11:46:23.335Z"
   },
   {
    "duration": 1434,
    "start_time": "2023-01-25T11:47:09.134Z"
   },
   {
    "duration": 20790,
    "start_time": "2023-01-25T11:47:18.045Z"
   },
   {
    "duration": 20297,
    "start_time": "2023-01-25T11:48:04.179Z"
   },
   {
    "duration": 1393,
    "start_time": "2023-01-25T11:49:27.880Z"
   },
   {
    "duration": 1300,
    "start_time": "2023-01-25T11:49:30.598Z"
   },
   {
    "duration": 19812,
    "start_time": "2023-01-25T11:49:33.477Z"
   },
   {
    "duration": 40,
    "start_time": "2023-01-25T11:50:31.309Z"
   },
   {
    "duration": 1445,
    "start_time": "2023-01-25T11:50:43.327Z"
   },
   {
    "duration": 406,
    "start_time": "2023-01-25T11:51:34.696Z"
   },
   {
    "duration": 457,
    "start_time": "2023-01-25T11:51:44.989Z"
   },
   {
    "duration": 4,
    "start_time": "2023-01-25T11:52:28.618Z"
   },
   {
    "duration": 1417,
    "start_time": "2023-01-25T11:54:44.275Z"
   },
   {
    "duration": 2037,
    "start_time": "2023-01-25T11:54:52.936Z"
   },
   {
    "duration": 1084,
    "start_time": "2023-01-25T11:55:00.608Z"
   },
   {
    "duration": 984,
    "start_time": "2023-01-25T11:55:08.880Z"
   },
   {
    "duration": 13274,
    "start_time": "2023-01-25T11:55:16.692Z"
   },
   {
    "duration": 1464,
    "start_time": "2023-01-25T11:55:41.606Z"
   },
   {
    "duration": 1463,
    "start_time": "2023-01-25T11:55:44.453Z"
   },
   {
    "duration": 20972,
    "start_time": "2023-01-25T11:55:47.639Z"
   },
   {
    "duration": 1763,
    "start_time": "2023-01-25T11:56:44.422Z"
   },
   {
    "duration": 1656,
    "start_time": "2023-01-25T11:56:48.098Z"
   },
   {
    "duration": 28353,
    "start_time": "2023-01-25T11:56:51.636Z"
   },
   {
    "duration": 2349,
    "start_time": "2023-01-25T11:57:44.953Z"
   },
   {
    "duration": 2345,
    "start_time": "2023-01-25T11:57:48.597Z"
   },
   {
    "duration": 37186,
    "start_time": "2023-01-25T11:57:52.734Z"
   },
   {
    "duration": 4,
    "start_time": "2023-01-25T11:58:39.141Z"
   },
   {
    "duration": 748,
    "start_time": "2023-01-25T12:01:41.126Z"
   },
   {
    "duration": 360,
    "start_time": "2023-01-25T12:01:58.426Z"
   },
   {
    "duration": 6710,
    "start_time": "2023-01-25T12:03:17.804Z"
   },
   {
    "duration": 7098,
    "start_time": "2023-01-25T12:04:36.064Z"
   },
   {
    "duration": 364,
    "start_time": "2023-01-25T12:07:29.107Z"
   },
   {
    "duration": 7005,
    "start_time": "2023-01-25T12:07:32.196Z"
   },
   {
    "duration": 72,
    "start_time": "2023-01-25T12:07:39.203Z"
   },
   {
    "duration": 6740,
    "start_time": "2023-01-25T12:08:01.144Z"
   },
   {
    "duration": 3,
    "start_time": "2023-01-25T12:09:39.318Z"
   },
   {
    "duration": 5,
    "start_time": "2023-01-25T12:26:38.794Z"
   },
   {
    "duration": 2,
    "start_time": "2023-01-25T12:27:13.946Z"
   },
   {
    "duration": 1099,
    "start_time": "2023-01-26T14:29:37.172Z"
   },
   {
    "duration": 103,
    "start_time": "2023-01-26T14:29:42.348Z"
   },
   {
    "duration": 17,
    "start_time": "2023-01-26T14:29:43.380Z"
   },
   {
    "duration": 12,
    "start_time": "2023-01-26T14:29:45.410Z"
   },
   {
    "duration": 8,
    "start_time": "2023-01-26T14:29:48.092Z"
   },
   {
    "duration": 13,
    "start_time": "2023-01-26T14:29:52.871Z"
   },
   {
    "duration": 13,
    "start_time": "2023-01-26T14:29:58.586Z"
   },
   {
    "duration": 13,
    "start_time": "2023-01-26T14:30:02.074Z"
   },
   {
    "duration": 5,
    "start_time": "2023-01-26T14:31:25.841Z"
   },
   {
    "duration": 6,
    "start_time": "2023-01-26T14:31:30.985Z"
   },
   {
    "duration": 555,
    "start_time": "2023-01-26T14:31:32.715Z"
   },
   {
    "duration": 12,
    "start_time": "2023-01-26T14:31:38.419Z"
   },
   {
    "duration": 14,
    "start_time": "2023-01-26T14:32:41.914Z"
   },
   {
    "duration": 4,
    "start_time": "2023-01-26T14:32:43.948Z"
   },
   {
    "duration": 12,
    "start_time": "2023-01-26T14:33:39.636Z"
   },
   {
    "duration": 4,
    "start_time": "2023-01-26T14:33:40.875Z"
   },
   {
    "duration": 4,
    "start_time": "2023-01-26T14:33:51.211Z"
   },
   {
    "duration": 36,
    "start_time": "2023-01-26T14:34:05.114Z"
   },
   {
    "duration": 34,
    "start_time": "2023-01-26T14:34:11.026Z"
   },
   {
    "duration": 34,
    "start_time": "2023-01-26T14:34:14.833Z"
   },
   {
    "duration": 157,
    "start_time": "2023-01-26T14:34:19.075Z"
   },
   {
    "duration": 8,
    "start_time": "2023-01-26T14:34:44.251Z"
   },
   {
    "duration": 699,
    "start_time": "2023-01-26T14:34:54.178Z"
   },
   {
    "duration": 2918,
    "start_time": "2023-01-26T14:34:57.214Z"
   },
   {
    "duration": 42,
    "start_time": "2023-01-26T14:35:14.099Z"
   },
   {
    "duration": 1218,
    "start_time": "2023-01-26T14:35:23.819Z"
   },
   {
    "duration": 9,
    "start_time": "2023-01-26T14:36:41.785Z"
   },
   {
    "duration": 13,
    "start_time": "2023-01-26T14:38:27.969Z"
   },
   {
    "duration": 18,
    "start_time": "2023-01-26T14:38:29.965Z"
   },
   {
    "duration": 3,
    "start_time": "2023-01-26T14:38:33.496Z"
   },
   {
    "duration": 4,
    "start_time": "2023-01-26T14:38:36.520Z"
   },
   {
    "duration": 40,
    "start_time": "2023-01-26T14:38:41.247Z"
   },
   {
    "duration": 34,
    "start_time": "2023-01-26T14:38:42.210Z"
   },
   {
    "duration": 36,
    "start_time": "2023-01-26T14:38:45.368Z"
   },
   {
    "duration": 154,
    "start_time": "2023-01-26T14:38:47.310Z"
   },
   {
    "duration": 8,
    "start_time": "2023-01-26T14:38:52.886Z"
   },
   {
    "duration": 694,
    "start_time": "2023-01-26T14:38:57.779Z"
   },
   {
    "duration": 3290,
    "start_time": "2023-01-26T14:38:59.728Z"
   },
   {
    "duration": 45,
    "start_time": "2023-01-26T14:39:09.699Z"
   },
   {
    "duration": 579,
    "start_time": "2023-01-26T14:39:16.848Z"
   },
   {
    "duration": 10,
    "start_time": "2023-01-26T14:39:19.342Z"
   },
   {
    "duration": 132,
    "start_time": "2023-01-26T14:39:26.799Z"
   },
   {
    "duration": 40,
    "start_time": "2023-01-26T14:39:34.769Z"
   },
   {
    "duration": 656,
    "start_time": "2023-01-26T14:39:41.432Z"
   },
   {
    "duration": 32,
    "start_time": "2023-01-26T14:40:16.763Z"
   },
   {
    "duration": 7,
    "start_time": "2023-01-26T14:40:32.671Z"
   },
   {
    "duration": 33,
    "start_time": "2023-01-26T14:41:01.012Z"
   },
   {
    "duration": 634,
    "start_time": "2023-01-26T14:41:04.464Z"
   },
   {
    "duration": 621,
    "start_time": "2023-01-26T14:41:13.975Z"
   },
   {
    "duration": 315,
    "start_time": "2023-01-26T14:42:06.412Z"
   },
   {
    "duration": 79,
    "start_time": "2023-01-26T14:42:11.428Z"
   },
   {
    "duration": 2114,
    "start_time": "2023-01-26T14:42:17.949Z"
   },
   {
    "duration": 5,
    "start_time": "2023-01-26T14:42:34.278Z"
   },
   {
    "duration": 3,
    "start_time": "2023-01-26T14:42:50.251Z"
   },
   {
    "duration": 117,
    "start_time": "2023-01-26T14:43:15.619Z"
   },
   {
    "duration": 45,
    "start_time": "2023-01-26T14:43:17.632Z"
   },
   {
    "duration": 1105,
    "start_time": "2023-01-26T14:43:19.675Z"
   },
   {
    "duration": 129,
    "start_time": "2023-01-26T14:43:41.908Z"
   },
   {
    "duration": 60,
    "start_time": "2023-01-26T14:43:43.669Z"
   },
   {
    "duration": 1371,
    "start_time": "2023-01-26T14:43:46.237Z"
   },
   {
    "duration": 189,
    "start_time": "2023-01-26T14:44:01.447Z"
   },
   {
    "duration": 52,
    "start_time": "2023-01-26T14:44:03.106Z"
   },
   {
    "duration": 1240,
    "start_time": "2023-01-26T14:44:04.900Z"
   },
   {
    "duration": 4,
    "start_time": "2023-01-26T14:44:14.458Z"
   },
   {
    "duration": 3,
    "start_time": "2023-01-26T14:44:19.063Z"
   },
   {
    "duration": 27,
    "start_time": "2023-01-26T14:44:34.680Z"
   },
   {
    "duration": 770,
    "start_time": "2023-01-26T14:44:36.587Z"
   },
   {
    "duration": 4,
    "start_time": "2023-01-26T15:02:51.100Z"
   },
   {
    "duration": 4,
    "start_time": "2023-01-26T15:04:20.573Z"
   },
   {
    "duration": 4,
    "start_time": "2023-01-26T15:05:36.158Z"
   },
   {
    "duration": 4,
    "start_time": "2023-01-26T15:05:51.455Z"
   },
   {
    "duration": 664,
    "start_time": "2023-01-26T15:47:51.505Z"
   },
   {
    "duration": 711,
    "start_time": "2023-01-26T15:50:44.537Z"
   },
   {
    "duration": 272,
    "start_time": "2023-01-26T15:54:08.556Z"
   },
   {
    "duration": 54,
    "start_time": "2023-01-26T15:55:00.904Z"
   },
   {
    "duration": 1198,
    "start_time": "2023-01-26T15:56:08.375Z"
   },
   {
    "duration": 31,
    "start_time": "2023-01-26T16:00:11.196Z"
   },
   {
    "duration": 33,
    "start_time": "2023-01-26T16:12:39.454Z"
   },
   {
    "duration": 15,
    "start_time": "2023-01-26T16:12:43.387Z"
   },
   {
    "duration": 4,
    "start_time": "2023-01-26T16:12:45.305Z"
   },
   {
    "duration": 7,
    "start_time": "2023-01-26T16:12:53.685Z"
   },
   {
    "duration": 9,
    "start_time": "2023-01-26T16:13:01.383Z"
   },
   {
    "duration": 14,
    "start_time": "2023-01-26T16:13:03.564Z"
   },
   {
    "duration": 13,
    "start_time": "2023-01-26T16:13:05.614Z"
   },
   {
    "duration": 4,
    "start_time": "2023-01-26T16:13:07.471Z"
   },
   {
    "duration": 6,
    "start_time": "2023-01-26T16:13:26.440Z"
   },
   {
    "duration": 135,
    "start_time": "2023-01-26T16:13:29.545Z"
   },
   {
    "duration": 19,
    "start_time": "2023-01-26T16:13:33.165Z"
   },
   {
    "duration": 12,
    "start_time": "2023-01-26T16:13:43.614Z"
   },
   {
    "duration": 3,
    "start_time": "2023-01-26T16:13:54.645Z"
   },
   {
    "duration": 5,
    "start_time": "2023-01-26T16:13:58.295Z"
   },
   {
    "duration": 42,
    "start_time": "2023-01-26T16:14:06.606Z"
   },
   {
    "duration": 46,
    "start_time": "2023-01-26T16:14:08.655Z"
   },
   {
    "duration": 35,
    "start_time": "2023-01-26T16:14:10.582Z"
   },
   {
    "duration": 160,
    "start_time": "2023-01-26T16:14:12.894Z"
   },
   {
    "duration": 8,
    "start_time": "2023-01-26T16:14:17.365Z"
   },
   {
    "duration": 718,
    "start_time": "2023-01-26T16:14:24.141Z"
   },
   {
    "duration": 3003,
    "start_time": "2023-01-26T16:14:26.100Z"
   },
   {
    "duration": 43,
    "start_time": "2023-01-26T16:14:34.114Z"
   },
   {
    "duration": 317,
    "start_time": "2023-01-26T16:14:40.215Z"
   },
   {
    "duration": 7,
    "start_time": "2023-01-26T16:14:41.375Z"
   },
   {
    "duration": 52,
    "start_time": "2023-01-26T16:15:43.710Z"
   },
   {
    "duration": 28,
    "start_time": "2023-01-26T16:15:46.030Z"
   },
   {
    "duration": 605,
    "start_time": "2023-01-26T16:15:48.874Z"
   },
   {
    "duration": 207,
    "start_time": "2023-01-26T16:15:58.321Z"
   },
   {
    "duration": 55,
    "start_time": "2023-01-26T16:16:02.134Z"
   },
   {
    "duration": 1234,
    "start_time": "2023-01-26T16:16:05.974Z"
   },
   {
    "duration": 4,
    "start_time": "2023-01-26T16:16:13.245Z"
   },
   {
    "duration": 3,
    "start_time": "2023-01-26T16:16:22.363Z"
   },
   {
    "duration": 749,
    "start_time": "2023-01-26T16:16:33.863Z"
   },
   {
    "duration": 1198,
    "start_time": "2023-01-27T16:05:56.503Z"
   },
   {
    "duration": 84,
    "start_time": "2023-01-27T16:05:57.703Z"
   },
   {
    "duration": 18,
    "start_time": "2023-01-27T16:05:57.790Z"
   },
   {
    "duration": 12,
    "start_time": "2023-01-27T16:05:57.810Z"
   },
   {
    "duration": 13,
    "start_time": "2023-01-27T16:05:57.824Z"
   },
   {
    "duration": 12,
    "start_time": "2023-01-27T16:05:57.838Z"
   },
   {
    "duration": 19,
    "start_time": "2023-01-27T16:05:57.852Z"
   },
   {
    "duration": 28,
    "start_time": "2023-01-27T16:05:57.873Z"
   },
   {
    "duration": 4,
    "start_time": "2023-01-27T16:05:57.903Z"
   },
   {
    "duration": 19,
    "start_time": "2023-01-27T16:05:57.909Z"
   },
   {
    "duration": 630,
    "start_time": "2023-01-27T16:05:57.930Z"
   },
   {
    "duration": 139,
    "start_time": "2023-01-27T16:05:58.562Z"
   },
   {
    "duration": 0,
    "start_time": "2023-01-27T16:05:58.703Z"
   },
   {
    "duration": 0,
    "start_time": "2023-01-27T16:05:58.705Z"
   },
   {
    "duration": 0,
    "start_time": "2023-01-27T16:05:58.706Z"
   },
   {
    "duration": 0,
    "start_time": "2023-01-27T16:05:58.707Z"
   },
   {
    "duration": 0,
    "start_time": "2023-01-27T16:05:58.708Z"
   },
   {
    "duration": 0,
    "start_time": "2023-01-27T16:05:58.710Z"
   },
   {
    "duration": 0,
    "start_time": "2023-01-27T16:05:58.711Z"
   },
   {
    "duration": 0,
    "start_time": "2023-01-27T16:05:58.713Z"
   },
   {
    "duration": 0,
    "start_time": "2023-01-27T16:05:58.713Z"
   },
   {
    "duration": 0,
    "start_time": "2023-01-27T16:05:58.715Z"
   },
   {
    "duration": 0,
    "start_time": "2023-01-27T16:05:58.740Z"
   },
   {
    "duration": 0,
    "start_time": "2023-01-27T16:05:58.742Z"
   },
   {
    "duration": 0,
    "start_time": "2023-01-27T16:05:58.743Z"
   },
   {
    "duration": 0,
    "start_time": "2023-01-27T16:05:58.744Z"
   },
   {
    "duration": 0,
    "start_time": "2023-01-27T16:05:58.746Z"
   },
   {
    "duration": 0,
    "start_time": "2023-01-27T16:05:58.747Z"
   },
   {
    "duration": 0,
    "start_time": "2023-01-27T16:05:58.748Z"
   },
   {
    "duration": 0,
    "start_time": "2023-01-27T16:05:58.749Z"
   },
   {
    "duration": 0,
    "start_time": "2023-01-27T16:05:58.750Z"
   },
   {
    "duration": 0,
    "start_time": "2023-01-27T16:05:58.752Z"
   },
   {
    "duration": 0,
    "start_time": "2023-01-27T16:05:58.753Z"
   },
   {
    "duration": 0,
    "start_time": "2023-01-27T16:05:58.754Z"
   },
   {
    "duration": 1211,
    "start_time": "2023-01-27T16:06:44.705Z"
   },
   {
    "duration": 38,
    "start_time": "2023-01-27T16:06:45.918Z"
   },
   {
    "duration": 14,
    "start_time": "2023-01-27T16:06:45.958Z"
   },
   {
    "duration": 19,
    "start_time": "2023-01-27T16:06:45.974Z"
   },
   {
    "duration": 16,
    "start_time": "2023-01-27T16:06:45.995Z"
   },
   {
    "duration": 19,
    "start_time": "2023-01-27T16:06:46.013Z"
   },
   {
    "duration": 26,
    "start_time": "2023-01-27T16:06:46.034Z"
   },
   {
    "duration": 30,
    "start_time": "2023-01-27T16:06:46.062Z"
   },
   {
    "duration": 5,
    "start_time": "2023-01-27T16:06:46.095Z"
   },
   {
    "duration": 11,
    "start_time": "2023-01-27T16:06:46.103Z"
   },
   {
    "duration": 442,
    "start_time": "2023-01-27T16:06:46.116Z"
   },
   {
    "duration": 20,
    "start_time": "2023-01-27T16:06:46.561Z"
   },
   {
    "duration": 13,
    "start_time": "2023-01-27T16:06:46.583Z"
   },
   {
    "duration": 4,
    "start_time": "2023-01-27T16:06:46.598Z"
   },
   {
    "duration": 38,
    "start_time": "2023-01-27T16:06:46.604Z"
   },
   {
    "duration": 129,
    "start_time": "2023-01-27T16:06:46.644Z"
   },
   {
    "duration": 0,
    "start_time": "2023-01-27T16:06:46.775Z"
   },
   {
    "duration": 0,
    "start_time": "2023-01-27T16:06:46.777Z"
   },
   {
    "duration": 0,
    "start_time": "2023-01-27T16:06:46.778Z"
   },
   {
    "duration": 0,
    "start_time": "2023-01-27T16:06:46.780Z"
   },
   {
    "duration": 0,
    "start_time": "2023-01-27T16:06:46.782Z"
   },
   {
    "duration": 1,
    "start_time": "2023-01-27T16:06:46.783Z"
   },
   {
    "duration": 0,
    "start_time": "2023-01-27T16:06:46.785Z"
   },
   {
    "duration": 0,
    "start_time": "2023-01-27T16:06:46.786Z"
   },
   {
    "duration": 0,
    "start_time": "2023-01-27T16:06:46.788Z"
   },
   {
    "duration": 0,
    "start_time": "2023-01-27T16:06:46.790Z"
   },
   {
    "duration": 0,
    "start_time": "2023-01-27T16:06:46.791Z"
   },
   {
    "duration": 0,
    "start_time": "2023-01-27T16:06:46.792Z"
   },
   {
    "duration": 0,
    "start_time": "2023-01-27T16:06:46.793Z"
   },
   {
    "duration": 0,
    "start_time": "2023-01-27T16:06:46.794Z"
   },
   {
    "duration": 0,
    "start_time": "2023-01-27T16:06:46.796Z"
   },
   {
    "duration": 0,
    "start_time": "2023-01-27T16:06:46.797Z"
   },
   {
    "duration": 0,
    "start_time": "2023-01-27T16:06:46.799Z"
   },
   {
    "duration": 0,
    "start_time": "2023-01-27T16:06:46.800Z"
   },
   {
    "duration": 1237,
    "start_time": "2023-01-27T16:07:43.711Z"
   },
   {
    "duration": 38,
    "start_time": "2023-01-27T16:07:44.950Z"
   },
   {
    "duration": 14,
    "start_time": "2023-01-27T16:07:44.990Z"
   },
   {
    "duration": 37,
    "start_time": "2023-01-27T16:07:45.005Z"
   },
   {
    "duration": 11,
    "start_time": "2023-01-27T16:07:45.045Z"
   },
   {
    "duration": 24,
    "start_time": "2023-01-27T16:07:45.058Z"
   },
   {
    "duration": 12,
    "start_time": "2023-01-27T16:07:45.084Z"
   },
   {
    "duration": 16,
    "start_time": "2023-01-27T16:07:45.098Z"
   },
   {
    "duration": 4,
    "start_time": "2023-01-27T16:07:45.116Z"
   },
   {
    "duration": 22,
    "start_time": "2023-01-27T16:07:45.121Z"
   },
   {
    "duration": 414,
    "start_time": "2023-01-27T16:07:45.144Z"
   },
   {
    "duration": 118,
    "start_time": "2023-01-27T16:07:45.560Z"
   },
   {
    "duration": 0,
    "start_time": "2023-01-27T16:07:45.681Z"
   },
   {
    "duration": 0,
    "start_time": "2023-01-27T16:07:45.681Z"
   },
   {
    "duration": 0,
    "start_time": "2023-01-27T16:07:45.683Z"
   },
   {
    "duration": 0,
    "start_time": "2023-01-27T16:07:45.684Z"
   },
   {
    "duration": 0,
    "start_time": "2023-01-27T16:07:45.685Z"
   },
   {
    "duration": 0,
    "start_time": "2023-01-27T16:07:45.686Z"
   },
   {
    "duration": 0,
    "start_time": "2023-01-27T16:07:45.687Z"
   },
   {
    "duration": 0,
    "start_time": "2023-01-27T16:07:45.688Z"
   },
   {
    "duration": 0,
    "start_time": "2023-01-27T16:07:45.690Z"
   },
   {
    "duration": 0,
    "start_time": "2023-01-27T16:07:45.691Z"
   },
   {
    "duration": 0,
    "start_time": "2023-01-27T16:07:45.693Z"
   },
   {
    "duration": 0,
    "start_time": "2023-01-27T16:07:45.694Z"
   },
   {
    "duration": 0,
    "start_time": "2023-01-27T16:07:45.696Z"
   },
   {
    "duration": 0,
    "start_time": "2023-01-27T16:07:45.698Z"
   },
   {
    "duration": 0,
    "start_time": "2023-01-27T16:07:45.698Z"
   },
   {
    "duration": 0,
    "start_time": "2023-01-27T16:07:45.700Z"
   },
   {
    "duration": 0,
    "start_time": "2023-01-27T16:07:45.701Z"
   },
   {
    "duration": 0,
    "start_time": "2023-01-27T16:07:45.703Z"
   },
   {
    "duration": 0,
    "start_time": "2023-01-27T16:07:45.740Z"
   },
   {
    "duration": 0,
    "start_time": "2023-01-27T16:07:45.742Z"
   },
   {
    "duration": 0,
    "start_time": "2023-01-27T16:07:45.743Z"
   },
   {
    "duration": 0,
    "start_time": "2023-01-27T16:07:45.744Z"
   },
   {
    "duration": 1258,
    "start_time": "2023-01-28T09:24:14.428Z"
   },
   {
    "duration": 215,
    "start_time": "2023-01-28T09:24:16.935Z"
   },
   {
    "duration": 14,
    "start_time": "2023-01-28T09:24:17.823Z"
   },
   {
    "duration": 11,
    "start_time": "2023-01-28T09:24:19.050Z"
   },
   {
    "duration": 8,
    "start_time": "2023-01-28T09:24:20.230Z"
   },
   {
    "duration": 11,
    "start_time": "2023-01-28T09:24:24.127Z"
   },
   {
    "duration": 13,
    "start_time": "2023-01-28T09:24:25.630Z"
   },
   {
    "duration": 12,
    "start_time": "2023-01-28T09:24:27.692Z"
   },
   {
    "duration": 4,
    "start_time": "2023-01-28T09:24:29.245Z"
   },
   {
    "duration": 6,
    "start_time": "2023-01-28T09:24:33.492Z"
   },
   {
    "duration": 663,
    "start_time": "2023-01-28T09:24:34.993Z"
   },
   {
    "duration": 123,
    "start_time": "2023-01-28T09:24:37.330Z"
   },
   {
    "duration": 14,
    "start_time": "2023-01-28T09:24:48.233Z"
   },
   {
    "duration": 20,
    "start_time": "2023-01-28T09:25:04.779Z"
   },
   {
    "duration": 4,
    "start_time": "2023-01-28T09:25:12.833Z"
   },
   {
    "duration": 4,
    "start_time": "2023-01-28T09:25:26.395Z"
   },
   {
    "duration": 20,
    "start_time": "2023-01-28T09:25:42.292Z"
   },
   {
    "duration": 20,
    "start_time": "2023-01-28T09:25:43.429Z"
   },
   {
    "duration": 13,
    "start_time": "2023-01-28T09:27:25.295Z"
   },
   {
    "duration": 4,
    "start_time": "2023-01-28T09:27:30.236Z"
   },
   {
    "duration": 5,
    "start_time": "2023-01-28T09:27:33.422Z"
   },
   {
    "duration": 21,
    "start_time": "2023-01-28T09:27:37.293Z"
   },
   {
    "duration": 20,
    "start_time": "2023-01-28T09:28:40.894Z"
   },
   {
    "duration": 4,
    "start_time": "2023-01-28T09:28:54.919Z"
   },
   {
    "duration": 4,
    "start_time": "2023-01-28T09:28:57.938Z"
   },
   {
    "duration": 52,
    "start_time": "2023-01-28T09:29:03.187Z"
   },
   {
    "duration": 37,
    "start_time": "2023-01-28T09:29:09.833Z"
   },
   {
    "duration": 35,
    "start_time": "2023-01-28T09:29:11.721Z"
   },
   {
    "duration": 179,
    "start_time": "2023-01-28T09:29:13.509Z"
   },
   {
    "duration": 8,
    "start_time": "2023-01-28T09:29:18.824Z"
   },
   {
    "duration": 843,
    "start_time": "2023-01-28T09:29:22.864Z"
   },
   {
    "duration": 3310,
    "start_time": "2023-01-28T09:29:24.698Z"
   },
   {
    "duration": 3363,
    "start_time": "2023-01-28T09:29:59.551Z"
   },
   {
    "duration": 57,
    "start_time": "2023-01-28T09:30:45.033Z"
   },
   {
    "duration": 1872,
    "start_time": "2023-01-28T09:31:13.018Z"
   },
   {
    "duration": 37,
    "start_time": "2023-01-28T09:31:15.264Z"
   },
   {
    "duration": 81,
    "start_time": "2023-01-28T09:31:44.820Z"
   },
   {
    "duration": 40,
    "start_time": "2023-01-28T09:31:46.987Z"
   },
   {
    "duration": 739,
    "start_time": "2023-01-28T09:31:49.242Z"
   },
   {
    "duration": 228,
    "start_time": "2023-01-28T09:31:57.943Z"
   },
   {
    "duration": 68,
    "start_time": "2023-01-28T09:32:00.823Z"
   },
   {
    "duration": 1429,
    "start_time": "2023-01-28T09:32:02.920Z"
   },
   {
    "duration": 4,
    "start_time": "2023-01-28T09:32:17.418Z"
   },
   {
    "duration": 146,
    "start_time": "2023-01-28T09:38:08.333Z"
   },
   {
    "duration": 47,
    "start_time": "2023-01-28T09:38:13.076Z"
   },
   {
    "duration": 1080,
    "start_time": "2023-01-28T09:38:22.836Z"
   },
   {
    "duration": 4,
    "start_time": "2023-01-28T09:38:30.971Z"
   },
   {
    "duration": 2,
    "start_time": "2023-01-28T09:38:38.226Z"
   },
   {
    "duration": 726,
    "start_time": "2023-01-28T09:39:02.817Z"
   },
   {
    "duration": 843,
    "start_time": "2023-01-28T09:40:40.431Z"
   },
   {
    "duration": 702,
    "start_time": "2023-01-28T09:40:58.288Z"
   },
   {
    "duration": 123,
    "start_time": "2023-01-28T10:14:29.649Z"
   },
   {
    "duration": 46,
    "start_time": "2023-01-28T10:14:37.320Z"
   },
   {
    "duration": 1042,
    "start_time": "2023-01-28T10:14:44.626Z"
   },
   {
    "duration": 149,
    "start_time": "2023-01-28T10:15:04.431Z"
   },
   {
    "duration": 55,
    "start_time": "2023-01-28T10:15:07.429Z"
   },
   {
    "duration": 1083,
    "start_time": "2023-01-28T10:15:09.460Z"
   },
   {
    "duration": 12978,
    "start_time": "2023-01-28T10:29:08.480Z"
   },
   {
    "duration": 13441,
    "start_time": "2023-01-28T10:31:57.839Z"
   },
   {
    "duration": 14036,
    "start_time": "2023-01-28T10:32:38.138Z"
   },
   {
    "duration": 11862,
    "start_time": "2023-01-28T10:35:43.174Z"
   },
   {
    "duration": 2,
    "start_time": "2023-01-28T10:44:57.779Z"
   },
   {
    "duration": 11054,
    "start_time": "2023-01-28T10:44:59.782Z"
   },
   {
    "duration": 10673,
    "start_time": "2023-01-28T10:46:20.191Z"
   },
   {
    "duration": 10945,
    "start_time": "2023-01-28T10:46:58.834Z"
   },
   {
    "duration": 10105,
    "start_time": "2023-01-28T10:48:09.675Z"
   },
   {
    "duration": 131,
    "start_time": "2023-01-28T10:53:06.642Z"
   },
   {
    "duration": 47,
    "start_time": "2023-01-28T10:53:08.149Z"
   },
   {
    "duration": 1029,
    "start_time": "2023-01-28T10:53:10.357Z"
   },
   {
    "duration": 4,
    "start_time": "2023-01-28T10:53:15.988Z"
   },
   {
    "duration": 144,
    "start_time": "2023-01-28T10:53:40.725Z"
   },
   {
    "duration": 52,
    "start_time": "2023-01-28T10:53:42.998Z"
   },
   {
    "duration": 1104,
    "start_time": "2023-01-28T10:53:44.784Z"
   },
   {
    "duration": 4,
    "start_time": "2023-01-28T10:53:50.530Z"
   },
   {
    "duration": 3,
    "start_time": "2023-01-28T10:53:59.577Z"
   },
   {
    "duration": 6,
    "start_time": "2023-01-28T10:54:05.710Z"
   },
   {
    "duration": 716,
    "start_time": "2023-01-28T10:54:35.297Z"
   },
   {
    "duration": 3,
    "start_time": "2023-01-28T10:56:27.535Z"
   },
   {
    "duration": 41,
    "start_time": "2023-01-28T10:56:45.586Z"
   },
   {
    "duration": 11,
    "start_time": "2023-01-28T10:56:46.865Z"
   },
   {
    "duration": 5,
    "start_time": "2023-01-28T10:56:48.457Z"
   },
   {
    "duration": 7,
    "start_time": "2023-01-28T10:56:50.333Z"
   },
   {
    "duration": 8,
    "start_time": "2023-01-28T10:57:27.497Z"
   },
   {
    "duration": 12,
    "start_time": "2023-01-28T10:57:29.098Z"
   },
   {
    "duration": 11,
    "start_time": "2023-01-28T10:57:30.277Z"
   },
   {
    "duration": 4,
    "start_time": "2023-01-28T10:57:32.086Z"
   },
   {
    "duration": 8,
    "start_time": "2023-01-28T10:57:44.478Z"
   },
   {
    "duration": 126,
    "start_time": "2023-01-28T10:57:46.275Z"
   },
   {
    "duration": 14,
    "start_time": "2023-01-28T10:57:48.565Z"
   },
   {
    "duration": 19,
    "start_time": "2023-01-28T10:58:23.349Z"
   },
   {
    "duration": 3,
    "start_time": "2023-01-28T10:59:53.887Z"
   },
   {
    "duration": 4,
    "start_time": "2023-01-28T11:03:20.356Z"
   },
   {
    "duration": 7,
    "start_time": "2023-01-28T11:03:30.757Z"
   },
   {
    "duration": 41,
    "start_time": "2023-01-28T11:03:35.647Z"
   },
   {
    "duration": 49,
    "start_time": "2023-01-28T11:03:37.256Z"
   },
   {
    "duration": 39,
    "start_time": "2023-01-28T11:03:39.629Z"
   },
   {
    "duration": 158,
    "start_time": "2023-01-28T11:03:44.122Z"
   },
   {
    "duration": 8,
    "start_time": "2023-01-28T11:03:50.736Z"
   },
   {
    "duration": 701,
    "start_time": "2023-01-28T11:03:58.449Z"
   },
   {
    "duration": 3,
    "start_time": "2023-01-28T11:04:00.447Z"
   },
   {
    "duration": 11613,
    "start_time": "2023-01-28T11:04:01.923Z"
   },
   {
    "duration": 80,
    "start_time": "2023-01-28T11:04:23.762Z"
   },
   {
    "duration": 642,
    "start_time": "2023-01-28T11:04:29.751Z"
   },
   {
    "duration": 12,
    "start_time": "2023-01-28T11:04:31.553Z"
   },
   {
    "duration": 180,
    "start_time": "2023-01-28T11:04:42.395Z"
   },
   {
    "duration": 39,
    "start_time": "2023-01-28T11:04:45.021Z"
   },
   {
    "duration": 646,
    "start_time": "2023-01-28T11:04:47.892Z"
   },
   {
    "duration": 253,
    "start_time": "2023-01-28T11:04:57.414Z"
   },
   {
    "duration": 51,
    "start_time": "2023-01-28T11:04:59.850Z"
   },
   {
    "duration": 1036,
    "start_time": "2023-01-28T11:05:01.833Z"
   },
   {
    "duration": 4,
    "start_time": "2023-01-28T11:05:12.722Z"
   },
   {
    "duration": 6,
    "start_time": "2023-01-28T11:05:21.148Z"
   },
   {
    "duration": 793,
    "start_time": "2023-01-28T11:05:31.354Z"
   },
   {
    "duration": 1169,
    "start_time": "2023-01-29T16:18:39.514Z"
   },
   {
    "duration": 174,
    "start_time": "2023-01-29T16:18:42.553Z"
   },
   {
    "duration": 13,
    "start_time": "2023-01-29T16:18:43.935Z"
   },
   {
    "duration": 9,
    "start_time": "2023-01-29T16:18:45.814Z"
   },
   {
    "duration": 8,
    "start_time": "2023-01-29T16:18:46.801Z"
   },
   {
    "duration": 13,
    "start_time": "2023-01-29T16:18:50.065Z"
   },
   {
    "duration": 18,
    "start_time": "2023-01-29T16:18:51.809Z"
   },
   {
    "duration": 13,
    "start_time": "2023-01-29T16:18:52.952Z"
   },
   {
    "duration": 4,
    "start_time": "2023-01-29T16:18:53.822Z"
   },
   {
    "duration": 5,
    "start_time": "2023-01-29T16:18:58.598Z"
   },
   {
    "duration": 525,
    "start_time": "2023-01-29T16:18:59.563Z"
   },
   {
    "duration": 15,
    "start_time": "2023-01-29T16:19:01.318Z"
   },
   {
    "duration": 105,
    "start_time": "2023-01-29T16:30:12.266Z"
   },
   {
    "duration": 8,
    "start_time": "2023-01-29T16:30:40.648Z"
   },
   {
    "duration": 19,
    "start_time": "2023-01-29T16:31:39.580Z"
   },
   {
    "duration": 13,
    "start_time": "2023-01-29T16:31:54.660Z"
   },
   {
    "duration": 16,
    "start_time": "2023-01-29T16:31:55.860Z"
   },
   {
    "duration": 10,
    "start_time": "2023-01-29T16:38:09.795Z"
   },
   {
    "duration": 13,
    "start_time": "2023-01-29T16:38:24.081Z"
   },
   {
    "duration": 17,
    "start_time": "2023-01-29T16:42:39.627Z"
   },
   {
    "duration": 1110,
    "start_time": "2023-01-29T16:44:23.255Z"
   },
   {
    "duration": 1160,
    "start_time": "2023-01-29T16:44:30.510Z"
   },
   {
    "duration": 11,
    "start_time": "2023-01-29T16:44:49.404Z"
   },
   {
    "duration": 12,
    "start_time": "2023-01-29T16:45:35.167Z"
   },
   {
    "duration": 3,
    "start_time": "2023-01-29T16:45:53.809Z"
   },
   {
    "duration": 14,
    "start_time": "2023-01-29T16:45:55.450Z"
   },
   {
    "duration": 12,
    "start_time": "2023-01-29T16:46:10.085Z"
   },
   {
    "duration": 12,
    "start_time": "2023-01-29T17:00:15.952Z"
   },
   {
    "duration": 10,
    "start_time": "2023-01-29T17:01:29.210Z"
   },
   {
    "duration": 8,
    "start_time": "2023-01-29T17:04:40.511Z"
   },
   {
    "duration": 18,
    "start_time": "2023-01-29T17:05:36.459Z"
   },
   {
    "duration": 11,
    "start_time": "2023-01-29T17:05:40.500Z"
   },
   {
    "duration": 13,
    "start_time": "2023-01-29T17:11:19.059Z"
   },
   {
    "duration": 11,
    "start_time": "2023-01-29T17:11:26.379Z"
   },
   {
    "duration": 14,
    "start_time": "2023-01-29T17:13:05.318Z"
   },
   {
    "duration": 13,
    "start_time": "2023-01-29T17:13:17.298Z"
   },
   {
    "duration": 11,
    "start_time": "2023-01-29T17:13:28.024Z"
   },
   {
    "duration": 18,
    "start_time": "2023-01-29T17:15:03.836Z"
   },
   {
    "duration": 9,
    "start_time": "2023-01-29T17:15:22.807Z"
   },
   {
    "duration": 15,
    "start_time": "2023-01-29T17:24:34.825Z"
   },
   {
    "duration": 17,
    "start_time": "2023-01-29T17:25:16.387Z"
   },
   {
    "duration": 9,
    "start_time": "2023-01-29T17:25:20.661Z"
   },
   {
    "duration": 3,
    "start_time": "2023-01-29T17:31:28.720Z"
   },
   {
    "duration": 17,
    "start_time": "2023-01-29T17:35:46.695Z"
   },
   {
    "duration": 18,
    "start_time": "2023-01-29T17:35:55.341Z"
   },
   {
    "duration": 10,
    "start_time": "2023-01-29T17:36:06.121Z"
   },
   {
    "duration": 14,
    "start_time": "2023-01-29T17:37:30.493Z"
   },
   {
    "duration": 12,
    "start_time": "2023-01-29T17:38:50.105Z"
   },
   {
    "duration": 2,
    "start_time": "2023-01-29T17:39:06.533Z"
   },
   {
    "duration": 10,
    "start_time": "2023-01-29T17:39:20.127Z"
   },
   {
    "duration": 13,
    "start_time": "2023-01-29T17:39:37.690Z"
   },
   {
    "duration": 5,
    "start_time": "2023-01-29T17:40:13.440Z"
   },
   {
    "duration": 13,
    "start_time": "2023-01-29T17:40:19.888Z"
   },
   {
    "duration": 6,
    "start_time": "2023-01-29T17:40:59.611Z"
   },
   {
    "duration": 13,
    "start_time": "2023-01-29T17:41:07.177Z"
   },
   {
    "duration": 17,
    "start_time": "2023-01-29T17:41:17.271Z"
   },
   {
    "duration": 10,
    "start_time": "2023-01-29T17:42:30.053Z"
   },
   {
    "duration": 16,
    "start_time": "2023-01-29T17:42:31.538Z"
   },
   {
    "duration": 18,
    "start_time": "2023-01-29T17:42:55.806Z"
   },
   {
    "duration": 12,
    "start_time": "2023-01-29T17:44:42.656Z"
   },
   {
    "duration": 4,
    "start_time": "2023-01-29T18:04:26.778Z"
   },
   {
    "duration": 18,
    "start_time": "2023-01-29T18:04:36.657Z"
   },
   {
    "duration": 13,
    "start_time": "2023-01-29T18:04:54.583Z"
   },
   {
    "duration": 9,
    "start_time": "2023-01-29T18:05:29.347Z"
   },
   {
    "duration": 9,
    "start_time": "2023-01-29T18:31:59.905Z"
   },
   {
    "duration": 12,
    "start_time": "2023-01-29T18:36:18.024Z"
   },
   {
    "duration": 16,
    "start_time": "2023-01-29T18:38:39.285Z"
   },
   {
    "duration": 12,
    "start_time": "2023-01-29T18:38:58.141Z"
   },
   {
    "duration": 10,
    "start_time": "2023-01-29T18:39:14.197Z"
   },
   {
    "duration": 3,
    "start_time": "2023-01-29T18:39:37.701Z"
   },
   {
    "duration": 13,
    "start_time": "2023-01-29T18:39:47.996Z"
   },
   {
    "duration": 71,
    "start_time": "2023-01-29T18:41:26.263Z"
   },
   {
    "duration": 9,
    "start_time": "2023-01-29T18:41:40.448Z"
   },
   {
    "duration": 3,
    "start_time": "2023-01-29T18:51:02.475Z"
   },
   {
    "duration": 92,
    "start_time": "2023-01-29T18:58:37.953Z"
   },
   {
    "duration": 2,
    "start_time": "2023-01-29T19:01:52.932Z"
   },
   {
    "duration": 4,
    "start_time": "2023-01-29T19:02:14.409Z"
   },
   {
    "duration": 4,
    "start_time": "2023-01-29T19:02:21.592Z"
   },
   {
    "duration": 27,
    "start_time": "2023-01-29T19:02:26.018Z"
   },
   {
    "duration": 4,
    "start_time": "2023-01-29T19:04:47.528Z"
   },
   {
    "duration": 4,
    "start_time": "2023-01-29T19:14:07.813Z"
   },
   {
    "duration": 9,
    "start_time": "2023-01-29T19:16:18.912Z"
   },
   {
    "duration": 0,
    "start_time": "2023-01-30T13:34:38.749Z"
   },
   {
    "duration": 0,
    "start_time": "2023-01-30T13:34:38.751Z"
   },
   {
    "duration": 0,
    "start_time": "2023-01-30T13:34:38.752Z"
   },
   {
    "duration": 0,
    "start_time": "2023-01-30T13:34:38.754Z"
   },
   {
    "duration": 0,
    "start_time": "2023-01-30T13:34:38.756Z"
   },
   {
    "duration": 0,
    "start_time": "2023-01-30T13:34:38.757Z"
   },
   {
    "duration": 0,
    "start_time": "2023-01-30T13:34:38.759Z"
   },
   {
    "duration": 0,
    "start_time": "2023-01-30T13:34:38.760Z"
   },
   {
    "duration": 0,
    "start_time": "2023-01-30T13:34:38.761Z"
   },
   {
    "duration": 0,
    "start_time": "2023-01-30T13:34:38.763Z"
   },
   {
    "duration": 0,
    "start_time": "2023-01-30T13:34:38.764Z"
   },
   {
    "duration": 0,
    "start_time": "2023-01-30T13:34:38.765Z"
   },
   {
    "duration": 0,
    "start_time": "2023-01-30T13:34:38.766Z"
   },
   {
    "duration": 0,
    "start_time": "2023-01-30T13:34:38.767Z"
   },
   {
    "duration": 0,
    "start_time": "2023-01-30T13:34:38.768Z"
   },
   {
    "duration": 0,
    "start_time": "2023-01-30T13:34:38.769Z"
   },
   {
    "duration": 0,
    "start_time": "2023-01-30T13:34:38.770Z"
   },
   {
    "duration": 0,
    "start_time": "2023-01-30T13:34:38.771Z"
   },
   {
    "duration": 0,
    "start_time": "2023-01-30T13:34:38.772Z"
   },
   {
    "duration": 0,
    "start_time": "2023-01-30T13:34:38.773Z"
   },
   {
    "duration": 0,
    "start_time": "2023-01-30T13:34:38.774Z"
   },
   {
    "duration": 0,
    "start_time": "2023-01-30T13:34:38.775Z"
   },
   {
    "duration": 0,
    "start_time": "2023-01-30T13:34:38.837Z"
   },
   {
    "duration": 0,
    "start_time": "2023-01-30T13:34:38.838Z"
   },
   {
    "duration": 0,
    "start_time": "2023-01-30T13:34:38.839Z"
   },
   {
    "duration": 0,
    "start_time": "2023-01-30T13:34:38.841Z"
   },
   {
    "duration": 0,
    "start_time": "2023-01-30T13:34:38.842Z"
   },
   {
    "duration": 0,
    "start_time": "2023-01-30T13:34:38.843Z"
   },
   {
    "duration": 0,
    "start_time": "2023-01-30T13:34:38.844Z"
   },
   {
    "duration": 0,
    "start_time": "2023-01-30T13:34:38.845Z"
   },
   {
    "duration": 0,
    "start_time": "2023-01-30T13:34:38.846Z"
   },
   {
    "duration": 0,
    "start_time": "2023-01-30T13:34:38.847Z"
   },
   {
    "duration": 0,
    "start_time": "2023-01-30T13:34:38.849Z"
   },
   {
    "duration": 0,
    "start_time": "2023-01-30T13:34:38.850Z"
   },
   {
    "duration": 0,
    "start_time": "2023-01-30T13:34:38.851Z"
   },
   {
    "duration": 0,
    "start_time": "2023-01-30T13:34:38.852Z"
   },
   {
    "duration": 0,
    "start_time": "2023-01-30T13:34:38.853Z"
   },
   {
    "duration": 0,
    "start_time": "2023-01-30T13:34:38.854Z"
   },
   {
    "duration": 1240,
    "start_time": "2023-01-30T13:34:57.555Z"
   },
   {
    "duration": 40,
    "start_time": "2023-01-30T13:34:58.797Z"
   },
   {
    "duration": 13,
    "start_time": "2023-01-30T13:34:58.839Z"
   },
   {
    "duration": 11,
    "start_time": "2023-01-30T13:34:58.854Z"
   },
   {
    "duration": 10,
    "start_time": "2023-01-30T13:34:58.867Z"
   },
   {
    "duration": 11,
    "start_time": "2023-01-30T13:34:58.878Z"
   },
   {
    "duration": 12,
    "start_time": "2023-01-30T13:34:58.890Z"
   },
   {
    "duration": 38,
    "start_time": "2023-01-30T13:34:58.904Z"
   },
   {
    "duration": 4,
    "start_time": "2023-01-30T13:34:58.944Z"
   },
   {
    "duration": 18,
    "start_time": "2023-01-30T13:34:58.950Z"
   },
   {
    "duration": 434,
    "start_time": "2023-01-30T13:34:58.970Z"
   },
   {
    "duration": 14,
    "start_time": "2023-01-30T13:34:59.405Z"
   },
   {
    "duration": 27,
    "start_time": "2023-01-30T13:34:59.420Z"
   },
   {
    "duration": 119,
    "start_time": "2023-01-30T13:34:59.448Z"
   },
   {
    "duration": 0,
    "start_time": "2023-01-30T13:34:59.569Z"
   },
   {
    "duration": 0,
    "start_time": "2023-01-30T13:34:59.570Z"
   },
   {
    "duration": 0,
    "start_time": "2023-01-30T13:34:59.572Z"
   },
   {
    "duration": 0,
    "start_time": "2023-01-30T13:34:59.573Z"
   },
   {
    "duration": 0,
    "start_time": "2023-01-30T13:34:59.574Z"
   },
   {
    "duration": 0,
    "start_time": "2023-01-30T13:34:59.575Z"
   },
   {
    "duration": 0,
    "start_time": "2023-01-30T13:34:59.577Z"
   },
   {
    "duration": 0,
    "start_time": "2023-01-30T13:34:59.578Z"
   },
   {
    "duration": 0,
    "start_time": "2023-01-30T13:34:59.579Z"
   },
   {
    "duration": 0,
    "start_time": "2023-01-30T13:34:59.581Z"
   },
   {
    "duration": 0,
    "start_time": "2023-01-30T13:34:59.582Z"
   },
   {
    "duration": 0,
    "start_time": "2023-01-30T13:34:59.583Z"
   },
   {
    "duration": 0,
    "start_time": "2023-01-30T13:34:59.584Z"
   },
   {
    "duration": 0,
    "start_time": "2023-01-30T13:34:59.586Z"
   },
   {
    "duration": 0,
    "start_time": "2023-01-30T13:34:59.587Z"
   },
   {
    "duration": 0,
    "start_time": "2023-01-30T13:34:59.588Z"
   },
   {
    "duration": 1,
    "start_time": "2023-01-30T13:34:59.589Z"
   },
   {
    "duration": 0,
    "start_time": "2023-01-30T13:34:59.591Z"
   },
   {
    "duration": 0,
    "start_time": "2023-01-30T13:34:59.592Z"
   },
   {
    "duration": 0,
    "start_time": "2023-01-30T13:34:59.593Z"
   },
   {
    "duration": 0,
    "start_time": "2023-01-30T13:34:59.594Z"
   },
   {
    "duration": 0,
    "start_time": "2023-01-30T13:34:59.595Z"
   },
   {
    "duration": 0,
    "start_time": "2023-01-30T13:34:59.637Z"
   },
   {
    "duration": 0,
    "start_time": "2023-01-30T13:34:59.638Z"
   },
   {
    "duration": 13,
    "start_time": "2023-01-30T13:35:08.409Z"
   },
   {
    "duration": 4,
    "start_time": "2023-01-30T13:35:14.336Z"
   },
   {
    "duration": 1133,
    "start_time": "2023-01-30T13:37:15.376Z"
   },
   {
    "duration": 266,
    "start_time": "2023-01-30T13:37:16.511Z"
   },
   {
    "duration": 14,
    "start_time": "2023-01-30T13:37:16.779Z"
   },
   {
    "duration": 10,
    "start_time": "2023-01-30T13:37:16.795Z"
   },
   {
    "duration": 11,
    "start_time": "2023-01-30T13:37:16.807Z"
   },
   {
    "duration": 19,
    "start_time": "2023-01-30T13:37:16.819Z"
   },
   {
    "duration": 16,
    "start_time": "2023-01-30T13:37:16.839Z"
   },
   {
    "duration": 19,
    "start_time": "2023-01-30T13:37:16.856Z"
   },
   {
    "duration": 4,
    "start_time": "2023-01-30T13:37:16.877Z"
   },
   {
    "duration": 6,
    "start_time": "2023-01-30T13:37:16.883Z"
   },
   {
    "duration": 454,
    "start_time": "2023-01-30T13:37:16.891Z"
   },
   {
    "duration": 19,
    "start_time": "2023-01-30T13:37:17.347Z"
   },
   {
    "duration": 17,
    "start_time": "2023-01-30T13:37:17.369Z"
   },
   {
    "duration": 4,
    "start_time": "2023-01-30T13:37:17.390Z"
   },
   {
    "duration": 23,
    "start_time": "2023-01-30T13:37:17.395Z"
   },
   {
    "duration": 20,
    "start_time": "2023-01-30T13:37:17.420Z"
   },
   {
    "duration": 18,
    "start_time": "2023-01-30T13:37:17.442Z"
   },
   {
    "duration": 25,
    "start_time": "2023-01-30T13:37:17.462Z"
   },
   {
    "duration": 130,
    "start_time": "2023-01-30T13:37:17.489Z"
   },
   {
    "duration": 0,
    "start_time": "2023-01-30T13:37:17.621Z"
   },
   {
    "duration": 0,
    "start_time": "2023-01-30T13:37:17.623Z"
   },
   {
    "duration": 0,
    "start_time": "2023-01-30T13:37:17.625Z"
   },
   {
    "duration": 0,
    "start_time": "2023-01-30T13:37:17.637Z"
   },
   {
    "duration": 0,
    "start_time": "2023-01-30T13:37:17.639Z"
   },
   {
    "duration": 0,
    "start_time": "2023-01-30T13:37:17.640Z"
   },
   {
    "duration": 0,
    "start_time": "2023-01-30T13:37:17.642Z"
   },
   {
    "duration": 0,
    "start_time": "2023-01-30T13:37:17.643Z"
   },
   {
    "duration": 0,
    "start_time": "2023-01-30T13:37:17.644Z"
   },
   {
    "duration": 0,
    "start_time": "2023-01-30T13:37:17.645Z"
   },
   {
    "duration": 0,
    "start_time": "2023-01-30T13:37:17.647Z"
   },
   {
    "duration": 0,
    "start_time": "2023-01-30T13:37:17.652Z"
   },
   {
    "duration": 0,
    "start_time": "2023-01-30T13:37:17.653Z"
   },
   {
    "duration": 0,
    "start_time": "2023-01-30T13:37:17.654Z"
   },
   {
    "duration": 0,
    "start_time": "2023-01-30T13:37:17.656Z"
   },
   {
    "duration": 1,
    "start_time": "2023-01-30T13:37:17.656Z"
   },
   {
    "duration": 0,
    "start_time": "2023-01-30T13:37:17.657Z"
   },
   {
    "duration": 0,
    "start_time": "2023-01-30T13:37:17.658Z"
   },
   {
    "duration": 0,
    "start_time": "2023-01-30T13:37:17.659Z"
   },
   {
    "duration": 18,
    "start_time": "2023-01-30T13:39:21.216Z"
   },
   {
    "duration": 1093,
    "start_time": "2023-02-01T16:32:20.244Z"
   },
   {
    "duration": 92,
    "start_time": "2023-02-01T16:32:26.434Z"
   },
   {
    "duration": 12,
    "start_time": "2023-02-01T16:32:27.909Z"
   },
   {
    "duration": 9,
    "start_time": "2023-02-01T16:32:30.329Z"
   },
   {
    "duration": 6,
    "start_time": "2023-02-01T16:32:34.864Z"
   },
   {
    "duration": 11,
    "start_time": "2023-02-01T16:32:41.587Z"
   },
   {
    "duration": 12,
    "start_time": "2023-02-01T16:32:43.741Z"
   },
   {
    "duration": 12,
    "start_time": "2023-02-01T16:32:48.449Z"
   },
   {
    "duration": 9,
    "start_time": "2023-02-01T16:32:50.901Z"
   },
   {
    "duration": 6,
    "start_time": "2023-02-01T16:32:59.366Z"
   },
   {
    "duration": 656,
    "start_time": "2023-02-01T16:33:00.821Z"
   },
   {
    "duration": 20,
    "start_time": "2023-02-01T16:33:03.972Z"
   },
   {
    "duration": 16,
    "start_time": "2023-02-01T16:33:05.626Z"
   },
   {
    "duration": 20,
    "start_time": "2023-02-01T16:33:44.144Z"
   },
   {
    "duration": 6,
    "start_time": "2023-02-01T16:33:53.521Z"
   },
   {
    "duration": 8,
    "start_time": "2023-02-01T16:34:11.461Z"
   },
   {
    "duration": 19,
    "start_time": "2023-02-01T16:34:14.260Z"
   },
   {
    "duration": 5,
    "start_time": "2023-02-01T16:35:35.322Z"
   },
   {
    "duration": 13,
    "start_time": "2023-02-01T16:35:47.528Z"
   },
   {
    "duration": 3,
    "start_time": "2023-02-01T16:36:04.009Z"
   },
   {
    "duration": 4,
    "start_time": "2023-02-01T16:36:08.329Z"
   },
   {
    "duration": 10,
    "start_time": "2023-02-01T16:36:12.241Z"
   },
   {
    "duration": 141,
    "start_time": "2023-02-01T16:36:17.531Z"
   },
   {
    "duration": 17,
    "start_time": "2023-02-01T16:36:50.706Z"
   },
   {
    "duration": 11,
    "start_time": "2023-02-01T16:38:44.547Z"
   },
   {
    "duration": 3,
    "start_time": "2023-02-01T16:38:48.422Z"
   },
   {
    "duration": 4,
    "start_time": "2023-02-01T16:38:53.363Z"
   },
   {
    "duration": 21,
    "start_time": "2023-02-01T16:38:56.915Z"
   },
   {
    "duration": 11,
    "start_time": "2023-02-01T16:39:41.758Z"
   },
   {
    "duration": 7,
    "start_time": "2023-02-01T16:40:19.532Z"
   },
   {
    "duration": 26,
    "start_time": "2023-02-01T16:40:38.685Z"
   },
   {
    "duration": 11,
    "start_time": "2023-02-01T16:40:47.417Z"
   },
   {
    "duration": 4,
    "start_time": "2023-02-01T16:41:01.841Z"
   },
   {
    "duration": 6,
    "start_time": "2023-02-01T16:55:21.062Z"
   },
   {
    "duration": 2,
    "start_time": "2023-02-01T17:17:38.974Z"
   },
   {
    "duration": 4,
    "start_time": "2023-02-01T17:17:42.345Z"
   },
   {
    "duration": 12,
    "start_time": "2023-02-01T17:17:44.014Z"
   },
   {
    "duration": 8,
    "start_time": "2023-02-01T17:17:46.438Z"
   },
   {
    "duration": 7,
    "start_time": "2023-02-01T17:17:48.341Z"
   },
   {
    "duration": 5,
    "start_time": "2023-02-01T17:17:55.021Z"
   },
   {
    "duration": 21,
    "start_time": "2023-02-01T17:18:00.508Z"
   },
   {
    "duration": 18,
    "start_time": "2023-02-01T17:18:02.133Z"
   },
   {
    "duration": 17,
    "start_time": "2023-02-01T17:18:03.771Z"
   },
   {
    "duration": 17,
    "start_time": "2023-02-01T17:21:36.044Z"
   },
   {
    "duration": 25,
    "start_time": "2023-02-01T17:22:07.736Z"
   },
   {
    "duration": 5,
    "start_time": "2023-02-01T17:22:10.652Z"
   },
   {
    "duration": 19,
    "start_time": "2023-02-01T17:22:13.482Z"
   },
   {
    "duration": 26,
    "start_time": "2023-02-01T17:22:14.421Z"
   },
   {
    "duration": 5,
    "start_time": "2023-02-01T17:22:40.454Z"
   },
   {
    "duration": 49,
    "start_time": "2023-02-01T17:22:44.021Z"
   },
   {
    "duration": 13,
    "start_time": "2023-02-01T17:22:45.232Z"
   },
   {
    "duration": 7,
    "start_time": "2023-02-01T17:22:47.427Z"
   },
   {
    "duration": 10,
    "start_time": "2023-02-01T17:22:49.406Z"
   },
   {
    "duration": 8,
    "start_time": "2023-02-01T17:22:53.364Z"
   },
   {
    "duration": 17,
    "start_time": "2023-02-01T17:22:54.493Z"
   },
   {
    "duration": 12,
    "start_time": "2023-02-01T17:22:56.064Z"
   },
   {
    "duration": 11,
    "start_time": "2023-02-01T17:22:57.506Z"
   },
   {
    "duration": 7,
    "start_time": "2023-02-01T17:23:01.921Z"
   },
   {
    "duration": 153,
    "start_time": "2023-02-01T17:23:03.833Z"
   },
   {
    "duration": 14,
    "start_time": "2023-02-01T17:23:06.234Z"
   },
   {
    "duration": 16,
    "start_time": "2023-02-01T17:23:07.933Z"
   },
   {
    "duration": 6,
    "start_time": "2023-02-01T17:23:12.006Z"
   },
   {
    "duration": 7,
    "start_time": "2023-02-01T17:23:14.612Z"
   },
   {
    "duration": 13,
    "start_time": "2023-02-01T17:23:18.245Z"
   },
   {
    "duration": 3,
    "start_time": "2023-02-01T17:23:23.229Z"
   },
   {
    "duration": 4,
    "start_time": "2023-02-01T17:23:27.945Z"
   },
   {
    "duration": 5,
    "start_time": "2023-02-01T17:23:29.171Z"
   },
   {
    "duration": 10,
    "start_time": "2023-02-01T17:23:33.251Z"
   },
   {
    "duration": 5,
    "start_time": "2023-02-01T17:23:35.443Z"
   },
   {
    "duration": 4,
    "start_time": "2023-02-01T17:30:00.787Z"
   },
   {
    "duration": 37,
    "start_time": "2023-02-01T17:30:03.391Z"
   },
   {
    "duration": 17,
    "start_time": "2023-02-01T17:30:04.199Z"
   },
   {
    "duration": 5,
    "start_time": "2023-02-01T17:30:06.010Z"
   },
   {
    "duration": 7,
    "start_time": "2023-02-01T17:30:07.002Z"
   },
   {
    "duration": 8,
    "start_time": "2023-02-01T17:30:09.926Z"
   },
   {
    "duration": 13,
    "start_time": "2023-02-01T17:30:10.700Z"
   },
   {
    "duration": 11,
    "start_time": "2023-02-01T17:30:12.041Z"
   },
   {
    "duration": 5,
    "start_time": "2023-02-01T17:30:13.099Z"
   },
   {
    "duration": 6,
    "start_time": "2023-02-01T17:30:15.802Z"
   },
   {
    "duration": 135,
    "start_time": "2023-02-01T17:30:16.685Z"
   },
   {
    "duration": 12,
    "start_time": "2023-02-01T17:30:18.249Z"
   },
   {
    "duration": 21,
    "start_time": "2023-02-01T17:30:19.721Z"
   },
   {
    "duration": 4,
    "start_time": "2023-02-01T17:30:22.951Z"
   },
   {
    "duration": 6,
    "start_time": "2023-02-01T17:30:24.809Z"
   },
   {
    "duration": 19,
    "start_time": "2023-02-01T17:30:26.198Z"
   },
   {
    "duration": 3,
    "start_time": "2023-02-01T17:30:32.031Z"
   },
   {
    "duration": 15,
    "start_time": "2023-02-01T17:30:35.590Z"
   },
   {
    "duration": 3,
    "start_time": "2023-02-01T17:30:37.106Z"
   },
   {
    "duration": 18,
    "start_time": "2023-02-01T17:30:38.051Z"
   },
   {
    "duration": 5,
    "start_time": "2023-02-01T17:30:42.471Z"
   },
   {
    "duration": 7,
    "start_time": "2023-02-01T17:30:43.842Z"
   },
   {
    "duration": 5,
    "start_time": "2023-02-01T17:30:48.341Z"
   },
   {
    "duration": 18,
    "start_time": "2023-02-01T17:30:51.424Z"
   },
   {
    "duration": 6,
    "start_time": "2023-02-01T17:46:05.209Z"
   },
   {
    "duration": 8,
    "start_time": "2023-02-01T17:46:06.967Z"
   },
   {
    "duration": 6,
    "start_time": "2023-02-01T17:46:10.838Z"
   },
   {
    "duration": 31,
    "start_time": "2023-02-01T17:46:14.206Z"
   },
   {
    "duration": 19,
    "start_time": "2023-02-01T17:46:15.927Z"
   },
   {
    "duration": 20,
    "start_time": "2023-02-01T17:46:17.829Z"
   },
   {
    "duration": 20,
    "start_time": "2023-02-01T17:46:20.925Z"
   },
   {
    "duration": 19,
    "start_time": "2023-02-01T17:49:50.322Z"
   },
   {
    "duration": 6,
    "start_time": "2023-02-01T19:21:24.185Z"
   },
   {
    "duration": 35,
    "start_time": "2023-02-01T19:21:27.592Z"
   },
   {
    "duration": 13,
    "start_time": "2023-02-01T19:21:28.749Z"
   },
   {
    "duration": 5,
    "start_time": "2023-02-01T19:21:30.929Z"
   },
   {
    "duration": 6,
    "start_time": "2023-02-01T19:21:31.890Z"
   },
   {
    "duration": 8,
    "start_time": "2023-02-01T19:21:41.783Z"
   },
   {
    "duration": 22,
    "start_time": "2023-02-01T19:21:44.085Z"
   },
   {
    "duration": 12,
    "start_time": "2023-02-01T19:21:45.389Z"
   },
   {
    "duration": 5,
    "start_time": "2023-02-01T19:21:47.326Z"
   },
   {
    "duration": 5,
    "start_time": "2023-02-01T19:21:51.950Z"
   },
   {
    "duration": 136,
    "start_time": "2023-02-01T19:21:53.783Z"
   },
   {
    "duration": 14,
    "start_time": "2023-02-01T19:21:56.853Z"
   },
   {
    "duration": 16,
    "start_time": "2023-02-01T19:22:02.009Z"
   },
   {
    "duration": 4,
    "start_time": "2023-02-01T19:22:08.257Z"
   },
   {
    "duration": 6,
    "start_time": "2023-02-01T19:22:10.628Z"
   },
   {
    "duration": 14,
    "start_time": "2023-02-01T19:22:12.242Z"
   },
   {
    "duration": 4,
    "start_time": "2023-02-01T19:22:31.700Z"
   },
   {
    "duration": 3,
    "start_time": "2023-02-01T19:22:47.648Z"
   },
   {
    "duration": 2,
    "start_time": "2023-02-01T19:22:55.240Z"
   },
   {
    "duration": 5,
    "start_time": "2023-02-01T19:22:58.480Z"
   },
   {
    "duration": 6,
    "start_time": "2023-02-01T19:23:00.083Z"
   },
   {
    "duration": 4,
    "start_time": "2023-02-01T19:24:03.698Z"
   },
   {
    "duration": 4,
    "start_time": "2023-02-01T19:24:21.237Z"
   },
   {
    "duration": 5,
    "start_time": "2023-02-01T19:24:34.095Z"
   },
   {
    "duration": 14,
    "start_time": "2023-02-01T19:25:32.413Z"
   },
   {
    "duration": 2,
    "start_time": "2023-02-01T19:25:37.869Z"
   },
   {
    "duration": 4,
    "start_time": "2023-02-01T19:26:35.532Z"
   },
   {
    "duration": 7,
    "start_time": "2023-02-01T19:27:07.536Z"
   },
   {
    "duration": 5,
    "start_time": "2023-02-01T19:27:08.509Z"
   },
   {
    "duration": 4,
    "start_time": "2023-02-01T19:27:16.557Z"
   },
   {
    "duration": 18,
    "start_time": "2023-02-01T19:27:18.629Z"
   },
   {
    "duration": 21,
    "start_time": "2023-02-01T19:27:29.948Z"
   },
   {
    "duration": 14,
    "start_time": "2023-02-01T19:29:44.699Z"
   },
   {
    "duration": 4,
    "start_time": "2023-02-01T19:29:59.695Z"
   },
   {
    "duration": 40,
    "start_time": "2023-02-01T19:30:02.720Z"
   },
   {
    "duration": 17,
    "start_time": "2023-02-01T19:30:03.694Z"
   },
   {
    "duration": 4,
    "start_time": "2023-02-01T19:30:05.394Z"
   },
   {
    "duration": 6,
    "start_time": "2023-02-01T19:30:06.318Z"
   },
   {
    "duration": 8,
    "start_time": "2023-02-01T19:30:08.907Z"
   },
   {
    "duration": 12,
    "start_time": "2023-02-01T19:30:09.696Z"
   },
   {
    "duration": 14,
    "start_time": "2023-02-01T19:30:10.601Z"
   },
   {
    "duration": 4,
    "start_time": "2023-02-01T19:30:11.531Z"
   },
   {
    "duration": 7,
    "start_time": "2023-02-01T19:30:14.152Z"
   },
   {
    "duration": 129,
    "start_time": "2023-02-01T19:30:15.121Z"
   },
   {
    "duration": 14,
    "start_time": "2023-02-01T19:30:16.720Z"
   },
   {
    "duration": 15,
    "start_time": "2023-02-01T19:30:17.638Z"
   },
   {
    "duration": 4,
    "start_time": "2023-02-01T19:30:21.933Z"
   },
   {
    "duration": 7,
    "start_time": "2023-02-01T19:30:23.999Z"
   },
   {
    "duration": 14,
    "start_time": "2023-02-01T19:30:24.943Z"
   },
   {
    "duration": 6,
    "start_time": "2023-02-01T19:30:31.945Z"
   },
   {
    "duration": 3,
    "start_time": "2023-02-01T19:30:32.956Z"
   },
   {
    "duration": 3,
    "start_time": "2023-02-01T19:30:34.493Z"
   },
   {
    "duration": 5,
    "start_time": "2023-02-01T19:30:35.336Z"
   },
   {
    "duration": 7,
    "start_time": "2023-02-01T19:30:36.393Z"
   },
   {
    "duration": 5,
    "start_time": "2023-02-01T19:30:37.215Z"
   },
   {
    "duration": 4,
    "start_time": "2023-02-01T19:30:38.301Z"
   },
   {
    "duration": 4,
    "start_time": "2023-02-01T19:30:39.561Z"
   },
   {
    "duration": 2,
    "start_time": "2023-02-01T19:30:40.595Z"
   },
   {
    "duration": 5,
    "start_time": "2023-02-01T19:30:42.030Z"
   },
   {
    "duration": 5,
    "start_time": "2023-02-01T19:30:44.493Z"
   },
   {
    "duration": 5,
    "start_time": "2023-02-01T19:30:46.604Z"
   },
   {
    "duration": 4,
    "start_time": "2023-02-01T19:30:50.160Z"
   },
   {
    "duration": 17,
    "start_time": "2023-02-01T19:30:51.290Z"
   },
   {
    "duration": 18,
    "start_time": "2023-02-01T19:30:57.311Z"
   },
   {
    "duration": 21,
    "start_time": "2023-02-01T19:37:15.362Z"
   },
   {
    "duration": 19,
    "start_time": "2023-02-01T19:37:42.714Z"
   },
   {
    "duration": 18,
    "start_time": "2023-02-01T19:37:54.512Z"
   },
   {
    "duration": 4,
    "start_time": "2023-02-01T19:37:59.348Z"
   },
   {
    "duration": 16,
    "start_time": "2023-02-01T19:38:00.419Z"
   },
   {
    "duration": 15,
    "start_time": "2023-02-01T19:38:09.996Z"
   },
   {
    "duration": 5,
    "start_time": "2023-02-01T19:39:06.787Z"
   },
   {
    "duration": 4,
    "start_time": "2023-02-01T19:39:44.254Z"
   },
   {
    "duration": 35,
    "start_time": "2023-02-01T19:39:46.698Z"
   },
   {
    "duration": 12,
    "start_time": "2023-02-01T19:39:47.609Z"
   },
   {
    "duration": 5,
    "start_time": "2023-02-01T19:39:48.993Z"
   },
   {
    "duration": 6,
    "start_time": "2023-02-01T19:39:49.926Z"
   },
   {
    "duration": 10,
    "start_time": "2023-02-01T19:39:53.046Z"
   },
   {
    "duration": 12,
    "start_time": "2023-02-01T19:39:54.630Z"
   },
   {
    "duration": 11,
    "start_time": "2023-02-01T19:39:55.693Z"
   },
   {
    "duration": 4,
    "start_time": "2023-02-01T19:39:57.022Z"
   },
   {
    "duration": 5,
    "start_time": "2023-02-01T19:40:01.012Z"
   },
   {
    "duration": 131,
    "start_time": "2023-02-01T19:40:02.646Z"
   },
   {
    "duration": 13,
    "start_time": "2023-02-01T19:40:03.757Z"
   },
   {
    "duration": 17,
    "start_time": "2023-02-01T19:40:05.042Z"
   },
   {
    "duration": 3,
    "start_time": "2023-02-01T19:40:08.708Z"
   },
   {
    "duration": 6,
    "start_time": "2023-02-01T19:40:11.401Z"
   },
   {
    "duration": 14,
    "start_time": "2023-02-01T19:40:12.806Z"
   },
   {
    "duration": 4,
    "start_time": "2023-02-01T19:40:19.600Z"
   },
   {
    "duration": 2,
    "start_time": "2023-02-01T19:40:21.599Z"
   },
   {
    "duration": 2,
    "start_time": "2023-02-01T19:40:22.462Z"
   },
   {
    "duration": 6,
    "start_time": "2023-02-01T19:40:23.348Z"
   },
   {
    "duration": 6,
    "start_time": "2023-02-01T19:40:24.340Z"
   },
   {
    "duration": 5,
    "start_time": "2023-02-01T19:40:25.323Z"
   },
   {
    "duration": 4,
    "start_time": "2023-02-01T19:40:26.138Z"
   },
   {
    "duration": 6,
    "start_time": "2023-02-01T19:40:27.038Z"
   },
   {
    "duration": 3,
    "start_time": "2023-02-01T19:40:27.924Z"
   },
   {
    "duration": 5,
    "start_time": "2023-02-01T19:40:28.750Z"
   },
   {
    "duration": 6,
    "start_time": "2023-02-01T19:40:29.564Z"
   },
   {
    "duration": 5,
    "start_time": "2023-02-01T19:40:30.307Z"
   },
   {
    "duration": 21,
    "start_time": "2023-02-01T19:40:31.100Z"
   },
   {
    "duration": 22,
    "start_time": "2023-02-01T19:40:34.319Z"
   },
   {
    "duration": 19,
    "start_time": "2023-02-01T19:40:35.451Z"
   },
   {
    "duration": 4,
    "start_time": "2023-02-01T19:40:39.596Z"
   },
   {
    "duration": 5,
    "start_time": "2023-02-01T19:40:40.556Z"
   },
   {
    "duration": 16,
    "start_time": "2023-02-01T19:40:45.705Z"
   },
   {
    "duration": 6,
    "start_time": "2023-02-01T19:41:04.597Z"
   },
   {
    "duration": 16,
    "start_time": "2023-02-01T19:41:12.056Z"
   },
   {
    "duration": 18,
    "start_time": "2023-02-01T19:42:01.948Z"
   },
   {
    "duration": 20,
    "start_time": "2023-02-01T19:43:01.440Z"
   },
   {
    "duration": 51,
    "start_time": "2023-02-01T19:43:39.253Z"
   },
   {
    "duration": 18,
    "start_time": "2023-02-01T19:44:11.715Z"
   },
   {
    "duration": 6,
    "start_time": "2023-02-01T19:44:52.492Z"
   },
   {
    "duration": 5,
    "start_time": "2023-02-01T19:45:55.850Z"
   },
   {
    "duration": 6,
    "start_time": "2023-02-01T19:46:08.301Z"
   },
   {
    "duration": 10,
    "start_time": "2023-02-01T19:46:28.442Z"
   },
   {
    "duration": 9,
    "start_time": "2023-02-01T19:46:41.645Z"
   },
   {
    "duration": 20,
    "start_time": "2023-02-01T19:47:07.555Z"
   },
   {
    "duration": 4,
    "start_time": "2023-02-01T19:47:15.895Z"
   },
   {
    "duration": 16,
    "start_time": "2023-02-01T19:47:20.851Z"
   },
   {
    "duration": 21,
    "start_time": "2023-02-01T19:47:24.003Z"
   },
   {
    "duration": 21,
    "start_time": "2023-02-01T19:57:27.951Z"
   },
   {
    "duration": 21,
    "start_time": "2023-02-01T19:58:00.296Z"
   },
   {
    "duration": 22,
    "start_time": "2023-02-01T19:58:16.298Z"
   },
   {
    "duration": 4,
    "start_time": "2023-02-01T19:58:21.895Z"
   },
   {
    "duration": 15,
    "start_time": "2023-02-01T19:58:26.300Z"
   },
   {
    "duration": 3,
    "start_time": "2023-02-01T19:58:38.562Z"
   },
   {
    "duration": 35,
    "start_time": "2023-02-01T19:58:41.049Z"
   },
   {
    "duration": 11,
    "start_time": "2023-02-01T19:58:41.888Z"
   },
   {
    "duration": 5,
    "start_time": "2023-02-01T19:58:42.899Z"
   },
   {
    "duration": 8,
    "start_time": "2023-02-01T19:58:43.693Z"
   },
   {
    "duration": 9,
    "start_time": "2023-02-01T19:58:47.090Z"
   },
   {
    "duration": 13,
    "start_time": "2023-02-01T19:59:23.292Z"
   },
   {
    "duration": 12,
    "start_time": "2023-02-01T19:59:24.808Z"
   },
   {
    "duration": 5,
    "start_time": "2023-02-01T19:59:26.951Z"
   },
   {
    "duration": 5,
    "start_time": "2023-02-01T19:59:30.096Z"
   },
   {
    "duration": 145,
    "start_time": "2023-02-01T19:59:31.199Z"
   },
   {
    "duration": 14,
    "start_time": "2023-02-01T19:59:32.891Z"
   },
   {
    "duration": 17,
    "start_time": "2023-02-01T19:59:36.319Z"
   },
   {
    "duration": 12,
    "start_time": "2023-02-01T19:59:47.919Z"
   },
   {
    "duration": 16,
    "start_time": "2023-02-01T19:59:49.938Z"
   },
   {
    "duration": 5,
    "start_time": "2023-02-01T19:59:53.890Z"
   },
   {
    "duration": 6,
    "start_time": "2023-02-01T19:59:56.393Z"
   },
   {
    "duration": 15,
    "start_time": "2023-02-01T19:59:57.345Z"
   },
   {
    "duration": 4,
    "start_time": "2023-02-01T20:00:03.098Z"
   },
   {
    "duration": 2,
    "start_time": "2023-02-01T20:00:04.199Z"
   },
   {
    "duration": 3,
    "start_time": "2023-02-01T20:00:05.091Z"
   },
   {
    "duration": 5,
    "start_time": "2023-02-01T20:00:05.847Z"
   },
   {
    "duration": 6,
    "start_time": "2023-02-01T20:00:07.893Z"
   },
   {
    "duration": 5,
    "start_time": "2023-02-01T20:00:08.808Z"
   },
   {
    "duration": 4,
    "start_time": "2023-02-01T20:00:10.456Z"
   },
   {
    "duration": 4,
    "start_time": "2023-02-01T20:00:11.596Z"
   },
   {
    "duration": 2,
    "start_time": "2023-02-01T20:00:12.958Z"
   },
   {
    "duration": 6,
    "start_time": "2023-02-01T20:00:21.808Z"
   },
   {
    "duration": 7,
    "start_time": "2023-02-01T20:00:22.887Z"
   },
   {
    "duration": 4,
    "start_time": "2023-02-01T20:00:24.448Z"
   },
   {
    "duration": 24,
    "start_time": "2023-02-01T20:00:27.409Z"
   },
   {
    "duration": 32,
    "start_time": "2023-02-01T20:00:31.638Z"
   },
   {
    "duration": 23,
    "start_time": "2023-02-01T20:00:32.900Z"
   },
   {
    "duration": 6,
    "start_time": "2023-02-01T20:00:37.292Z"
   },
   {
    "duration": 9,
    "start_time": "2023-02-01T20:01:00.889Z"
   },
   {
    "duration": 10,
    "start_time": "2023-02-01T20:01:27.936Z"
   },
   {
    "duration": 22,
    "start_time": "2023-02-01T20:01:43.497Z"
   },
   {
    "duration": 9,
    "start_time": "2023-02-01T20:03:06.191Z"
   },
   {
    "duration": 8,
    "start_time": "2023-02-01T20:05:50.747Z"
   },
   {
    "duration": 5,
    "start_time": "2023-02-01T20:06:16.987Z"
   },
   {
    "duration": 8,
    "start_time": "2023-02-01T20:06:42.986Z"
   },
   {
    "duration": 7,
    "start_time": "2023-02-01T20:06:55.929Z"
   },
   {
    "duration": 6,
    "start_time": "2023-02-01T20:07:13.908Z"
   },
   {
    "duration": 4,
    "start_time": "2023-02-01T20:08:07.396Z"
   },
   {
    "duration": 5,
    "start_time": "2023-02-01T20:08:09.314Z"
   },
   {
    "duration": 9,
    "start_time": "2023-02-01T20:08:45.179Z"
   },
   {
    "duration": 5,
    "start_time": "2023-02-01T20:08:47.219Z"
   },
   {
    "duration": 5,
    "start_time": "2023-02-01T20:09:09.239Z"
   },
   {
    "duration": 9,
    "start_time": "2023-02-01T20:09:48.889Z"
   },
   {
    "duration": 7,
    "start_time": "2023-02-01T20:09:56.884Z"
   },
   {
    "duration": 10,
    "start_time": "2023-02-01T20:10:21.198Z"
   },
   {
    "duration": 5,
    "start_time": "2023-02-01T20:10:25.617Z"
   },
   {
    "duration": 19,
    "start_time": "2023-02-01T20:10:27.697Z"
   },
   {
    "duration": 43,
    "start_time": "2023-02-01T20:10:32.045Z"
   },
   {
    "duration": 38,
    "start_time": "2023-02-01T20:10:40.273Z"
   },
   {
    "duration": 38,
    "start_time": "2023-02-01T20:10:42.249Z"
   },
   {
    "duration": 179,
    "start_time": "2023-02-01T20:10:44.079Z"
   },
   {
    "duration": 157,
    "start_time": "2023-02-01T20:11:00.013Z"
   },
   {
    "duration": 9,
    "start_time": "2023-02-01T20:11:02.826Z"
   },
   {
    "duration": 724,
    "start_time": "2023-02-01T20:11:07.661Z"
   },
   {
    "duration": 2,
    "start_time": "2023-02-01T20:11:09.552Z"
   },
   {
    "duration": 10554,
    "start_time": "2023-02-01T20:11:10.717Z"
   },
   {
    "duration": 10762,
    "start_time": "2023-02-01T20:11:55.983Z"
   },
   {
    "duration": 73,
    "start_time": "2023-02-01T20:12:22.282Z"
   },
   {
    "duration": 603,
    "start_time": "2023-02-01T20:12:26.698Z"
   },
   {
    "duration": 16,
    "start_time": "2023-02-01T20:12:28.787Z"
   },
   {
    "duration": 72,
    "start_time": "2023-02-01T20:12:33.921Z"
   },
   {
    "duration": 29,
    "start_time": "2023-02-01T20:12:36.236Z"
   },
   {
    "duration": 587,
    "start_time": "2023-02-01T20:12:38.258Z"
   },
   {
    "duration": 151,
    "start_time": "2023-02-01T20:12:43.743Z"
   },
   {
    "duration": 54,
    "start_time": "2023-02-01T20:12:45.800Z"
   },
   {
    "duration": 1093,
    "start_time": "2023-02-01T20:12:47.489Z"
   },
   {
    "duration": 4,
    "start_time": "2023-02-01T20:12:53.578Z"
   },
   {
    "duration": 6,
    "start_time": "2023-02-01T20:12:59.188Z"
   },
   {
    "duration": 823,
    "start_time": "2023-02-01T20:13:04.129Z"
   },
   {
    "duration": 757,
    "start_time": "2023-02-01T20:13:59.697Z"
   },
   {
    "duration": 115,
    "start_time": "2023-02-01T20:15:54.922Z"
   },
   {
    "duration": 570,
    "start_time": "2023-02-01T20:16:02.400Z"
   },
   {
    "duration": 759,
    "start_time": "2023-02-01T20:16:09.161Z"
   },
   {
    "duration": 781,
    "start_time": "2023-02-01T20:16:24.186Z"
   },
   {
    "duration": 1485,
    "start_time": "2023-02-01T20:16:35.154Z"
   },
   {
    "duration": 134,
    "start_time": "2023-02-01T20:16:44.797Z"
   },
   {
    "duration": 1458,
    "start_time": "2023-02-01T20:16:52.511Z"
   },
   {
    "duration": 1566,
    "start_time": "2023-02-01T20:17:43.857Z"
   },
   {
    "duration": 1561,
    "start_time": "2023-02-01T20:17:53.334Z"
   },
   {
    "duration": 1146,
    "start_time": "2023-02-01T20:18:27.789Z"
   },
   {
    "duration": 1239,
    "start_time": "2023-02-01T20:18:34.572Z"
   },
   {
    "duration": 1163,
    "start_time": "2023-02-01T20:18:42.761Z"
   },
   {
    "duration": 1464,
    "start_time": "2023-02-01T20:18:55.172Z"
   },
   {
    "duration": 601,
    "start_time": "2023-02-01T20:20:14.846Z"
   },
   {
    "duration": 631,
    "start_time": "2023-02-01T20:20:21.617Z"
   },
   {
    "duration": 620,
    "start_time": "2023-02-01T20:20:27.705Z"
   },
   {
    "duration": 10814,
    "start_time": "2023-02-01T20:21:06.625Z"
   },
   {
    "duration": 1002,
    "start_time": "2023-02-01T20:21:53.870Z"
   },
   {
    "duration": 1000,
    "start_time": "2023-02-01T20:22:02.003Z"
   },
   {
    "duration": 957,
    "start_time": "2023-02-01T20:22:10.852Z"
   },
   {
    "duration": 958,
    "start_time": "2023-02-01T20:22:24.078Z"
   },
   {
    "duration": 1105,
    "start_time": "2023-02-01T20:22:32.338Z"
   },
   {
    "duration": 1457,
    "start_time": "2023-02-01T20:22:39.914Z"
   },
   {
    "duration": 207,
    "start_time": "2023-02-01T20:32:28.150Z"
   },
   {
    "duration": 286,
    "start_time": "2023-02-01T20:32:36.401Z"
   },
   {
    "duration": 1393,
    "start_time": "2023-02-01T20:32:43.600Z"
   },
   {
    "duration": 1351,
    "start_time": "2023-02-01T20:32:49.974Z"
   },
   {
    "duration": 1265,
    "start_time": "2023-02-01T20:33:40.374Z"
   },
   {
    "duration": 1847,
    "start_time": "2023-02-01T20:35:03.585Z"
   },
   {
    "duration": 2212,
    "start_time": "2023-02-01T20:35:12.816Z"
   },
   {
    "duration": 2294,
    "start_time": "2023-02-01T20:35:23.506Z"
   },
   {
    "duration": 186,
    "start_time": "2023-02-01T20:35:32.084Z"
   },
   {
    "duration": 1111,
    "start_time": "2023-02-01T20:35:37.012Z"
   },
   {
    "duration": 1086,
    "start_time": "2023-02-01T20:35:46.490Z"
   },
   {
    "duration": 862,
    "start_time": "2023-02-01T20:36:45.258Z"
   },
   {
    "duration": 1557,
    "start_time": "2023-02-01T20:37:02.317Z"
   },
   {
    "duration": 510,
    "start_time": "2023-02-01T20:37:09.581Z"
   },
   {
    "duration": 839,
    "start_time": "2023-02-01T20:37:16.578Z"
   },
   {
    "duration": 909,
    "start_time": "2023-02-01T20:37:51.455Z"
   },
   {
    "duration": 635,
    "start_time": "2023-02-01T20:43:59.680Z"
   },
   {
    "duration": 648,
    "start_time": "2023-02-01T20:44:13.002Z"
   },
   {
    "duration": 628,
    "start_time": "2023-02-01T20:44:26.676Z"
   },
   {
    "duration": 614,
    "start_time": "2023-02-01T20:44:32.689Z"
   },
   {
    "duration": 607,
    "start_time": "2023-02-01T20:44:39.426Z"
   },
   {
    "duration": 626,
    "start_time": "2023-02-01T20:44:45.555Z"
   },
   {
    "duration": 662,
    "start_time": "2023-02-01T20:44:52.085Z"
   },
   {
    "duration": 624,
    "start_time": "2023-02-01T20:44:57.678Z"
   },
   {
    "duration": 576,
    "start_time": "2023-02-01T20:45:07.484Z"
   },
   {
    "duration": 673,
    "start_time": "2023-02-01T20:45:23.919Z"
   },
   {
    "duration": 1064,
    "start_time": "2023-02-01T20:45:32.892Z"
   },
   {
    "duration": 1025,
    "start_time": "2023-02-01T20:45:42.395Z"
   },
   {
    "duration": 578,
    "start_time": "2023-02-01T20:47:09.847Z"
   },
   {
    "duration": 693,
    "start_time": "2023-02-01T20:47:56.151Z"
   },
   {
    "duration": 583,
    "start_time": "2023-02-01T20:48:04.542Z"
   },
   {
    "duration": 10597,
    "start_time": "2023-02-01T20:50:21.689Z"
   },
   {
    "duration": 11291,
    "start_time": "2023-02-01T20:50:53.093Z"
   },
   {
    "duration": 731,
    "start_time": "2023-02-01T20:51:55.288Z"
   },
   {
    "duration": 139,
    "start_time": "2023-02-01T20:52:04.809Z"
   },
   {
    "duration": 635,
    "start_time": "2023-02-01T20:52:10.482Z"
   },
   {
    "duration": 633,
    "start_time": "2023-02-01T20:52:32.514Z"
   },
   {
    "duration": 620,
    "start_time": "2023-02-01T20:52:49.249Z"
   },
   {
    "duration": 641,
    "start_time": "2023-02-01T20:52:57.630Z"
   },
   {
    "duration": 16,
    "start_time": "2023-02-01T21:02:51.783Z"
   },
   {
    "duration": 18,
    "start_time": "2023-02-01T21:02:53.729Z"
   },
   {
    "duration": 4,
    "start_time": "2023-02-01T21:03:18.613Z"
   },
   {
    "duration": 41,
    "start_time": "2023-02-01T21:03:24.112Z"
   },
   {
    "duration": 18,
    "start_time": "2023-02-01T21:03:25.858Z"
   },
   {
    "duration": 5,
    "start_time": "2023-02-01T21:03:28.049Z"
   },
   {
    "duration": 9,
    "start_time": "2023-02-01T21:03:30.541Z"
   },
   {
    "duration": 9,
    "start_time": "2023-02-01T21:03:34.460Z"
   },
   {
    "duration": 14,
    "start_time": "2023-02-01T21:03:36.268Z"
   },
   {
    "duration": 12,
    "start_time": "2023-02-01T21:03:38.029Z"
   },
   {
    "duration": 4,
    "start_time": "2023-02-01T21:03:39.642Z"
   },
   {
    "duration": 7,
    "start_time": "2023-02-01T21:03:44.030Z"
   },
   {
    "duration": 144,
    "start_time": "2023-02-01T21:03:45.791Z"
   },
   {
    "duration": 13,
    "start_time": "2023-02-01T21:03:47.209Z"
   },
   {
    "duration": 18,
    "start_time": "2023-02-01T21:03:49.767Z"
   },
   {
    "duration": 4,
    "start_time": "2023-02-01T21:03:54.751Z"
   },
   {
    "duration": 5,
    "start_time": "2023-02-01T21:03:57.087Z"
   },
   {
    "duration": 14,
    "start_time": "2023-02-01T21:03:58.338Z"
   },
   {
    "duration": 4,
    "start_time": "2023-02-01T21:04:04.828Z"
   },
   {
    "duration": 3,
    "start_time": "2023-02-01T21:04:05.809Z"
   },
   {
    "duration": 2,
    "start_time": "2023-02-01T21:04:06.819Z"
   },
   {
    "duration": 5,
    "start_time": "2023-02-01T21:04:07.887Z"
   },
   {
    "duration": 6,
    "start_time": "2023-02-01T21:04:10.182Z"
   },
   {
    "duration": 4,
    "start_time": "2023-02-01T21:04:11.259Z"
   },
   {
    "duration": 4,
    "start_time": "2023-02-01T21:04:12.290Z"
   },
   {
    "duration": 4,
    "start_time": "2023-02-01T21:04:13.567Z"
   },
   {
    "duration": 2,
    "start_time": "2023-02-01T21:04:14.462Z"
   },
   {
    "duration": 6,
    "start_time": "2023-02-01T21:04:15.212Z"
   },
   {
    "duration": 5,
    "start_time": "2023-02-01T21:04:16.006Z"
   },
   {
    "duration": 5,
    "start_time": "2023-02-01T21:04:16.636Z"
   },
   {
    "duration": 11,
    "start_time": "2023-02-01T21:04:17.261Z"
   },
   {
    "duration": 5,
    "start_time": "2023-02-01T21:04:17.991Z"
   },
   {
    "duration": 11,
    "start_time": "2023-02-01T21:04:18.859Z"
   },
   {
    "duration": 9,
    "start_time": "2023-02-01T21:04:19.810Z"
   },
   {
    "duration": 6,
    "start_time": "2023-02-01T21:04:22.862Z"
   },
   {
    "duration": 26,
    "start_time": "2023-02-01T21:04:23.942Z"
   },
   {
    "duration": 34,
    "start_time": "2023-02-01T21:04:28.611Z"
   },
   {
    "duration": 37,
    "start_time": "2023-02-01T21:04:32.106Z"
   },
   {
    "duration": 42,
    "start_time": "2023-02-01T21:04:36.387Z"
   },
   {
    "duration": 153,
    "start_time": "2023-02-01T21:04:38.731Z"
   },
   {
    "duration": 9,
    "start_time": "2023-02-01T21:04:43.790Z"
   },
   {
    "duration": 804,
    "start_time": "2023-02-01T21:04:50.108Z"
   },
   {
    "duration": 3,
    "start_time": "2023-02-01T21:04:51.908Z"
   },
   {
    "duration": 12110,
    "start_time": "2023-02-01T21:04:53.706Z"
   },
   {
    "duration": 76,
    "start_time": "2023-02-01T21:05:10.763Z"
   },
   {
    "duration": 1115,
    "start_time": "2023-02-01T21:05:13.789Z"
   },
   {
    "duration": 12,
    "start_time": "2023-02-01T21:05:15.928Z"
   },
   {
    "duration": 103,
    "start_time": "2023-02-01T21:05:20.010Z"
   },
   {
    "duration": 39,
    "start_time": "2023-02-01T21:05:21.711Z"
   },
   {
    "duration": 737,
    "start_time": "2023-02-01T21:05:23.706Z"
   },
   {
    "duration": 162,
    "start_time": "2023-02-01T21:05:28.049Z"
   },
   {
    "duration": 64,
    "start_time": "2023-02-01T21:05:28.755Z"
   },
   {
    "duration": 1342,
    "start_time": "2023-02-01T21:05:29.310Z"
   },
   {
    "duration": 5,
    "start_time": "2023-02-01T21:05:31.087Z"
   },
   {
    "duration": 5,
    "start_time": "2023-02-01T21:05:32.862Z"
   },
   {
    "duration": 636,
    "start_time": "2023-02-01T21:05:35.752Z"
   },
   {
    "duration": 617,
    "start_time": "2023-02-01T21:06:14.422Z"
   },
   {
    "duration": 675,
    "start_time": "2023-02-01T21:06:21.341Z"
   },
   {
    "duration": 682,
    "start_time": "2023-02-01T21:06:33.531Z"
   },
   {
    "duration": 593,
    "start_time": "2023-02-01T21:06:46.522Z"
   },
   {
    "duration": 625,
    "start_time": "2023-02-01T21:07:11.591Z"
   },
   {
    "duration": 4,
    "start_time": "2023-02-02T20:20:53.592Z"
   },
   {
    "duration": 63,
    "start_time": "2023-02-02T20:20:53.598Z"
   },
   {
    "duration": 13,
    "start_time": "2023-02-02T20:20:53.664Z"
   },
   {
    "duration": 25,
    "start_time": "2023-02-02T20:20:53.678Z"
   },
   {
    "duration": 32,
    "start_time": "2023-02-02T20:20:53.704Z"
   },
   {
    "duration": 40,
    "start_time": "2023-02-02T20:20:53.738Z"
   },
   {
    "duration": 31,
    "start_time": "2023-02-02T20:20:53.780Z"
   },
   {
    "duration": 37,
    "start_time": "2023-02-02T20:20:53.812Z"
   },
   {
    "duration": 9,
    "start_time": "2023-02-02T20:20:53.850Z"
   },
   {
    "duration": 24,
    "start_time": "2023-02-02T20:20:53.861Z"
   },
   {
    "duration": 143,
    "start_time": "2023-02-02T20:20:53.887Z"
   },
   {
    "duration": 13,
    "start_time": "2023-02-02T20:20:54.031Z"
   },
   {
    "duration": 47,
    "start_time": "2023-02-02T20:20:54.045Z"
   },
   {
    "duration": 26,
    "start_time": "2023-02-02T20:20:54.094Z"
   },
   {
    "duration": 81,
    "start_time": "2023-02-02T20:20:54.122Z"
   },
   {
    "duration": 63,
    "start_time": "2023-02-02T20:20:54.205Z"
   },
   {
    "duration": 86,
    "start_time": "2023-02-02T20:20:54.270Z"
   },
   {
    "duration": 68,
    "start_time": "2023-02-02T20:20:54.357Z"
   },
   {
    "duration": 41,
    "start_time": "2023-02-02T20:20:54.427Z"
   },
   {
    "duration": 29,
    "start_time": "2023-02-02T20:20:54.470Z"
   },
   {
    "duration": 27,
    "start_time": "2023-02-02T20:20:54.501Z"
   },
   {
    "duration": 34,
    "start_time": "2023-02-02T20:20:54.529Z"
   },
   {
    "duration": 29,
    "start_time": "2023-02-02T20:20:54.565Z"
   },
   {
    "duration": 30,
    "start_time": "2023-02-02T20:20:54.596Z"
   },
   {
    "duration": 21,
    "start_time": "2023-02-02T20:20:54.628Z"
   },
   {
    "duration": 38,
    "start_time": "2023-02-02T20:20:54.651Z"
   },
   {
    "duration": 23,
    "start_time": "2023-02-02T20:20:54.691Z"
   },
   {
    "duration": 40,
    "start_time": "2023-02-02T20:20:54.716Z"
   },
   {
    "duration": 43,
    "start_time": "2023-02-02T20:20:54.758Z"
   },
   {
    "duration": 17,
    "start_time": "2023-02-02T20:20:54.803Z"
   },
   {
    "duration": 28,
    "start_time": "2023-02-02T20:20:54.822Z"
   },
   {
    "duration": 28,
    "start_time": "2023-02-02T20:20:54.852Z"
   },
   {
    "duration": 17,
    "start_time": "2023-02-02T20:20:54.882Z"
   },
   {
    "duration": 45,
    "start_time": "2023-02-02T20:20:54.901Z"
   },
   {
    "duration": 73,
    "start_time": "2023-02-02T20:20:54.948Z"
   },
   {
    "duration": 44,
    "start_time": "2023-02-02T20:20:55.023Z"
   },
   {
    "duration": 62,
    "start_time": "2023-02-02T20:20:55.069Z"
   },
   {
    "duration": 137,
    "start_time": "2023-02-02T20:20:55.133Z"
   },
   {
    "duration": 13,
    "start_time": "2023-02-02T20:20:55.272Z"
   },
   {
    "duration": 710,
    "start_time": "2023-02-02T20:20:55.287Z"
   },
   {
    "duration": 2,
    "start_time": "2023-02-02T20:20:55.999Z"
   },
   {
    "duration": 10387,
    "start_time": "2023-02-02T20:20:56.003Z"
   },
   {
    "duration": 96,
    "start_time": "2023-02-02T20:21:06.393Z"
   },
   {
    "duration": 298,
    "start_time": "2023-02-02T20:21:06.491Z"
   },
   {
    "duration": 103,
    "start_time": "2023-02-02T20:21:06.881Z"
   },
   {
    "duration": 192,
    "start_time": "2023-02-02T20:21:06.990Z"
   },
   {
    "duration": 117,
    "start_time": "2023-02-02T20:21:07.184Z"
   },
   {
    "duration": 578,
    "start_time": "2023-02-02T20:21:07.303Z"
   },
   {
    "duration": 198,
    "start_time": "2023-02-02T20:21:07.883Z"
   },
   {
    "duration": 133,
    "start_time": "2023-02-02T20:21:08.084Z"
   },
   {
    "duration": 1215,
    "start_time": "2023-02-02T20:21:08.219Z"
   },
   {
    "duration": 4,
    "start_time": "2023-02-02T20:21:09.435Z"
   },
   {
    "duration": 8,
    "start_time": "2023-02-02T20:21:09.441Z"
   },
   {
    "duration": 565,
    "start_time": "2023-02-02T20:21:09.451Z"
   },
   {
    "duration": 19,
    "start_time": "2023-02-02T20:24:25.573Z"
   }
  ],
  "kernelspec": {
   "display_name": "Python 3 (ipykernel)",
   "language": "python",
   "name": "python3"
  },
  "language_info": {
   "codemirror_mode": {
    "name": "ipython",
    "version": 3
   },
   "file_extension": ".py",
   "mimetype": "text/x-python",
   "name": "python",
   "nbconvert_exporter": "python",
   "pygments_lexer": "ipython3",
   "version": "3.9.5"
  },
  "toc": {
   "base_numbering": 1,
   "nav_menu": {},
   "number_sections": true,
   "sideBar": true,
   "skip_h1_title": true,
   "title_cell": "Содержание",
   "title_sidebar": "Contents",
   "toc_cell": true,
   "toc_position": {
    "height": "calc(100% - 180px)",
    "left": "10px",
    "top": "150px",
    "width": "165px"
   },
   "toc_section_display": true,
   "toc_window_display": true
  }
 },
 "nbformat": 4,
 "nbformat_minor": 2
}
